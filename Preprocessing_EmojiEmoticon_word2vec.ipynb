{
 "cells": [
  {
   "cell_type": "markdown",
   "metadata": {},
   "source": [
    "# 1.Data Import and Combination"
   ]
  },
  {
   "cell_type": "code",
   "execution_count": 1,
   "metadata": {},
   "outputs": [],
   "source": [
    "import pandas as pd\n",
    "import gensim as gs\n",
    "import nltk\n",
    "import re\n",
    "from nltk.corpus import stopwords\n",
    "import sklearn as sk\n",
    "import numpy as np\n",
    "import pickle\n",
    "from tqdm import tqdm"
   ]
  },
  {
   "cell_type": "markdown",
   "metadata": {},
   "source": [
    "## 1.1.import dataset"
   ]
  },
  {
   "cell_type": "code",
   "execution_count": 2,
   "metadata": {},
   "outputs": [],
   "source": [
    "file_name={\n",
    "    \"emo_extraction\":\"calculate_emo_3\",\n",
    "}"
   ]
  },
  {
   "cell_type": "code",
   "execution_count": 3,
   "metadata": {},
   "outputs": [],
   "source": [
    "#import data\n",
    "def open_pkl_data(file_name):\n",
    "    all_data=dict()\n",
    "    for each_key in file_name.keys():\n",
    "        name = file_name[each_key]\n",
    "        pickle_file = open('DataSet\\\\'+name+\".pkl\",mode=\"rb\")\n",
    "        data = pickle.load(pickle_file)\n",
    "        pickle_file.close()\n",
    "        all_data[each_key]=data\n",
    "    return all_data"
   ]
  },
  {
   "cell_type": "code",
   "execution_count": 4,
   "metadata": {},
   "outputs": [],
   "source": [
    "emo_path=\"DataSet\\\\emo_collection.csv\"\n",
    "emo_df=pd.read_csv(emo_path,sep=\"|\")\n",
    "#emo_ex = open_pkl_data(file_name)[\"emo_extraction\"]"
   ]
  },
  {
   "cell_type": "code",
   "execution_count": 5,
   "metadata": {},
   "outputs": [
    {
     "data": {
      "text/html": [
       "<div>\n",
       "<style scoped>\n",
       "    .dataframe tbody tr th:only-of-type {\n",
       "        vertical-align: middle;\n",
       "    }\n",
       "\n",
       "    .dataframe tbody tr th {\n",
       "        vertical-align: top;\n",
       "    }\n",
       "\n",
       "    .dataframe thead th {\n",
       "        text-align: right;\n",
       "    }\n",
       "</style>\n",
       "<table border=\"1\" class=\"dataframe\">\n",
       "  <thead>\n",
       "    <tr style=\"text-align: right;\">\n",
       "      <th></th>\n",
       "      <th>emoji/emoticon</th>\n",
       "      <th>key words</th>\n",
       "    </tr>\n",
       "  </thead>\n",
       "  <tbody>\n",
       "    <tr>\n",
       "      <th>0</th>\n",
       "      <td>😀</td>\n",
       "      <td>face grin grinning face</td>\n",
       "    </tr>\n",
       "    <tr>\n",
       "      <th>1</th>\n",
       "      <td>😃</td>\n",
       "      <td>face grinning face with big eyes mouth open smile</td>\n",
       "    </tr>\n",
       "    <tr>\n",
       "      <th>2</th>\n",
       "      <td>😄</td>\n",
       "      <td>eye face grinning face with smiling eyes mouth...</td>\n",
       "    </tr>\n",
       "    <tr>\n",
       "      <th>3</th>\n",
       "      <td>😁</td>\n",
       "      <td>beaming face with smiling eyes eye face grin s...</td>\n",
       "    </tr>\n",
       "    <tr>\n",
       "      <th>4</th>\n",
       "      <td>😆</td>\n",
       "      <td>face grinning squinting face laugh mouth satis...</td>\n",
       "    </tr>\n",
       "    <tr>\n",
       "      <th>...</th>\n",
       "      <td>...</td>\n",
       "      <td>...</td>\n",
       "    </tr>\n",
       "    <tr>\n",
       "      <th>2279</th>\n",
       "      <td>(　´Д｀)ﾉ(´･ω･`)　ﾅﾃﾞﾅﾃﾞ</td>\n",
       "      <td>Patting, nade nade\\n</td>\n",
       "    </tr>\n",
       "    <tr>\n",
       "      <th>2280</th>\n",
       "      <td>(*ﾟﾉOﾟ)&lt;ｵｵｵｵｫｫｫｫｫｫｫｰｰｰｰｰｲ!</td>\n",
       "      <td>Calling out, \"Ooooi!\"\\n</td>\n",
       "    </tr>\n",
       "    <tr>\n",
       "      <th>2281</th>\n",
       "      <td>( ﾟ∀ﾟ)ｱﾊﾊ八八ﾉヽﾉヽﾉヽﾉ ＼ / ＼/ ＼</td>\n",
       "      <td>Evil laugh (literally ahahaHAHA...)\\n</td>\n",
       "    </tr>\n",
       "    <tr>\n",
       "      <th>2282</th>\n",
       "      <td>（・∀・ ）ヾ(- -；)コラコラ</td>\n",
       "      <td>Blaming \"now now\"\\n</td>\n",
       "    </tr>\n",
       "    <tr>\n",
       "      <th>2283</th>\n",
       "      <td>お(^o^)や(^O^)す(^｡^)みぃ(^-^)ﾉﾞ</td>\n",
       "      <td>Kana reading \"O ya su mi\" meaning \"Good night\"...</td>\n",
       "    </tr>\n",
       "  </tbody>\n",
       "</table>\n",
       "<p>2284 rows × 2 columns</p>\n",
       "</div>"
      ],
      "text/plain": [
       "                   emoji/emoticon  \\\n",
       "0                               😀   \n",
       "1                               😃   \n",
       "2                               😄   \n",
       "3                               😁   \n",
       "4                               😆   \n",
       "...                           ...   \n",
       "2279        (　´Д｀)ﾉ(´･ω･`)　ﾅﾃﾞﾅﾃﾞ   \n",
       "2280   (*ﾟﾉOﾟ)<ｵｵｵｵｫｫｫｫｫｫｫｰｰｰｰｰｲ!   \n",
       "2281  ( ﾟ∀ﾟ)ｱﾊﾊ八八ﾉヽﾉヽﾉヽﾉ ＼ / ＼/ ＼   \n",
       "2282            （・∀・ ）ヾ(- -；)コラコラ   \n",
       "2283  お(^o^)や(^O^)す(^｡^)みぃ(^-^)ﾉﾞ   \n",
       "\n",
       "                                              key words  \n",
       "0                               face grin grinning face  \n",
       "1     face grinning face with big eyes mouth open smile  \n",
       "2     eye face grinning face with smiling eyes mouth...  \n",
       "3     beaming face with smiling eyes eye face grin s...  \n",
       "4     face grinning squinting face laugh mouth satis...  \n",
       "...                                                 ...  \n",
       "2279                               Patting, nade nade\\n  \n",
       "2280                            Calling out, \"Ooooi!\"\\n  \n",
       "2281              Evil laugh (literally ahahaHAHA...)\\n  \n",
       "2282                                Blaming \"now now\"\\n  \n",
       "2283  Kana reading \"O ya su mi\" meaning \"Good night\"...  \n",
       "\n",
       "[2284 rows x 2 columns]"
      ]
     },
     "execution_count": 5,
     "metadata": {},
     "output_type": "execute_result"
    }
   ],
   "source": [
    "emo_df"
   ]
  },
  {
   "cell_type": "code",
   "execution_count": 6,
   "metadata": {},
   "outputs": [],
   "source": [
    "meaning_values=list(emo_df[\"key words\"])"
   ]
  },
  {
   "cell_type": "code",
   "execution_count": 7,
   "metadata": {},
   "outputs": [
    {
     "data": {
      "text/plain": [
       "['Extreme Distaste, meant to appear as an exaggerated grimace\\n',\n",
       " 'Shouting\\n',\n",
       " 'Pretending not to notice, asleep because of boredom\\n',\n",
       " 'Kick\\n',\n",
       " 'Discombobulated\\n',\n",
       " 'Running\\n',\n",
       " 'Happy\\n',\n",
       " 'Happy\\n',\n",
       " 'Shocked\\n',\n",
       " 'Really angry\\n',\n",
       " '\"Do it\"\\n',\n",
       " 'Angel\\n',\n",
       " '\"It\\'s here\", Kitaa!, excitement that something has appeared or happened or \"I came\".\\n',\n",
       " 'Girlish version of \"It\\'s here\".\\n',\n",
       " 'Erotic stirring, haa haa\\n',\n",
       " 'Patting, nade nade\\n',\n",
       " 'Calling out, \"Ooooi!\"\\n',\n",
       " 'Evil laugh (literally ahahaHAHA...)\\n',\n",
       " 'Blaming \"now now\"\\n']"
      ]
     },
     "execution_count": 7,
     "metadata": {},
     "output_type": "execute_result"
    }
   ],
   "source": [
    "meaning_values[-20:-1]"
   ]
  },
  {
   "cell_type": "markdown",
   "metadata": {},
   "source": [
    "# 2.Main Functions"
   ]
  },
  {
   "cell_type": "code",
   "execution_count": 8,
   "metadata": {},
   "outputs": [],
   "source": [
    "def fit_transform(input_list,method):\n",
    "    output_list = list()\n",
    "    for text in tqdm(input_list):\n",
    "        input_text = str(text)\n",
    "        new_text = eval(method)(input_text)\n",
    "        output_list.append(new_text)\n",
    "    \n",
    "    return output_list"
   ]
  },
  {
   "cell_type": "markdown",
   "metadata": {},
   "source": [
    "# 3.Preprocessing"
   ]
  },
  {
   "cell_type": "markdown",
   "metadata": {},
   "source": [
    "## 3.1. Lower the words"
   ]
  },
  {
   "cell_type": "code",
   "execution_count": 9,
   "metadata": {},
   "outputs": [],
   "source": [
    "def lower_text(input_text):\n",
    "    #lower the words\n",
    "    input_text =input_text.lower()\n",
    "    return input_text"
   ]
  },
  {
   "cell_type": "code",
   "execution_count": 10,
   "metadata": {},
   "outputs": [
    {
     "name": "stderr",
     "output_type": "stream",
     "text": [
      "100%|██████████████████████████████████████████████████████████████████████████| 2284/2284 [00:00<00:00, 163751.50it/s]\n"
     ]
    }
   ],
   "source": [
    "meaning_values1 = fit_transform(meaning_values,method=\"lower_text\")"
   ]
  },
  {
   "cell_type": "code",
   "execution_count": 11,
   "metadata": {},
   "outputs": [
    {
     "data": {
      "text/plain": [
       "2284"
      ]
     },
     "execution_count": 11,
     "metadata": {},
     "output_type": "execute_result"
    }
   ],
   "source": [
    "len(meaning_values1)"
   ]
  },
  {
   "cell_type": "markdown",
   "metadata": {},
   "source": [
    "## 3.2. Seperate the adhered words with space\n",
    " - e.g. \"you?\" ? and you are adhered together, which needs to be split"
   ]
  },
  {
   "cell_type": "code",
   "execution_count": 12,
   "metadata": {},
   "outputs": [],
   "source": [
    "# functions for assigning emoji, emoticons and punctuations space from each other\n",
    "def assign_space(input_text):\n",
    "    #punctuation\n",
    "    input_text = re.sub(r'[^\\d\\/\\*\\:\\)\\.\\?\\^\\;?\\-_\\'~!\\<\\>\\=\\\"#&$%\\\\\\{\\}\\|\\[\\]ç\\+ω○\\@¡éı・…¡\\`：）♡ӳ！“”à≧∇≦♂ş≈¬⊄─✔•×ü–₹。ó°ʖ—¶ķñ฿ĺ∑；⏸](\\!|\\?|\\.+)[^\\d\\/\\*\\:\\)\\.\\?\\^\\;?\\-_\\'~!\\<\\>\\=\\\"#&$%\\\\\\{\\}\\|\\[\\]ç\\+ω○\\@¡éı・…¡\\`：）♡ӳ！“”à≧∇≦♂ş≈¬⊄─✔•×ü–₹。ó°ʖ—¶ķñ฿ĺ∑；⏸]',' \\g<0> ' ,input_text)\n",
    "    #replace the redundant space\n",
    "    input_text = re.sub(r'[a-zA-Z]+',r' \\g<0> ',input_text)\n",
    "    input_text = re.sub(r'  +',r' ',input_text)\n",
    "    return input_text"
   ]
  },
  {
   "cell_type": "code",
   "execution_count": 13,
   "metadata": {},
   "outputs": [
    {
     "name": "stderr",
     "output_type": "stream",
     "text": [
      "100%|███████████████████████████████████████████████████████████████████████████| 2284/2284 [00:00<00:00, 48725.33it/s]\n"
     ]
    }
   ],
   "source": [
    "meaning_values2 = fit_transform(meaning_values1,method=\"assign_space\")"
   ]
  },
  {
   "cell_type": "markdown",
   "metadata": {},
   "source": [
    "## 3.3. Remove punctuations"
   ]
  },
  {
   "cell_type": "code",
   "execution_count": 14,
   "metadata": {},
   "outputs": [],
   "source": [
    "def remove_punc(input_text):\n",
    "    new_sentence = input_text\n",
    "    new_sentence = re.sub(r'[^ a-zA-Z]',\"\",new_sentence).strip()\n",
    "    return new_sentence"
   ]
  },
  {
   "cell_type": "code",
   "execution_count": 15,
   "metadata": {},
   "outputs": [
    {
     "name": "stderr",
     "output_type": "stream",
     "text": [
      "100%|██████████████████████████████████████████████████████████████████████████| 2284/2284 [00:00<00:00, 127238.55it/s]\n"
     ]
    }
   ],
   "source": [
    "meaning_values3 = fit_transform(meaning_values2,method=\"remove_punc\")"
   ]
  },
  {
   "cell_type": "markdown",
   "metadata": {},
   "source": [
    "## 3.4. Correcting spell mistake\n",
    " - e.g. \"nt\" is actually \"not\", \"noo\" is actually \"no\"\n",
    " - in order to do so, here i use library called pyspellchecker"
   ]
  },
  {
   "cell_type": "code",
   "execution_count": 16,
   "metadata": {},
   "outputs": [],
   "source": [
    "from spellchecker import SpellChecker\n",
    "def correct_spell(input_text):\n",
    "    spell = SpellChecker()\n",
    "    words = input_text.split()\n",
    "    new_words=list()\n",
    "    for word in words:\n",
    "        word = spell.correction(word)\n",
    "        new_words.append(word)\n",
    "    sentence = \" \".join(new_words)\n",
    "    return sentence"
   ]
  },
  {
   "cell_type": "code",
   "execution_count": 17,
   "metadata": {},
   "outputs": [
    {
     "name": "stderr",
     "output_type": "stream",
     "text": [
      "100%|██████████████████████████████████████████████████████████████████████████████| 2284/2284 [05:20<00:00,  7.13it/s]\n"
     ]
    }
   ],
   "source": [
    "meaning_values4 = fit_transform(meaning_values3,method=\"correct_spell\")"
   ]
  },
  {
   "cell_type": "markdown",
   "metadata": {},
   "source": [
    "## 3.5. Remove Stopwords made handcrafted"
   ]
  },
  {
   "cell_type": "code",
   "execution_count": 18,
   "metadata": {},
   "outputs": [
    {
     "name": "stdout",
     "output_type": "stream",
     "text": [
      "['i', 'me', 'my', 'myself', 'we', 'our', 'ours', 'ourselves', 'you', \"you're\", \"you've\", \"you'll\", \"you'd\", 'your', 'yours', 'yourself', 'yourselves', 'he', 'him', 'his', 'himself', 'she', \"she's\", 'her', 'hers', 'herself', 'it', \"it's\", 'its', 'itself', 'they', 'them', 'their', 'theirs', 'themselves', 'what', 'which', 'who', 'whom', 'this', 'that', \"that'll\", 'these', 'those', 'am', 'is', 'are', 'was', 'were', 'be', 'been', 'being', 'have', 'has', 'had', 'having', 'do', 'does', 'did', 'doing', 'a', 'an', 'the', 'and', 'but', 'if', 'or', 'because', 'as', 'until', 'while', 'of', 'at', 'by', 'for', 'with', 'about', 'against', 'between', 'into', 'through', 'during', 'before', 'after', 'above', 'below', 'to', 'from', 'up', 'down', 'in', 'out', 'on', 'off', 'over', 'under', 'again', 'further', 'then', 'once', 'here', 'there', 'when', 'where', 'why', 'how', 'all', 'any', 'both', 'each', 'few', 'more', 'most', 'other', 'some', 'such', 'no', 'nor', 'not', 'only', 'own', 'same', 'so', 'than', 'too', 'very', 's', 't', 'can', 'will', 'just', 'don', \"don't\", 'should', \"should've\", 'now', 'd', 'll', 'm', 'o', 're', 've', 'y', 'ain', 'aren', \"aren't\", 'couldn', \"couldn't\", 'didn', \"didn't\", 'doesn', \"doesn't\", 'hadn', \"hadn't\", 'hasn', \"hasn't\", 'haven', \"haven't\", 'isn', \"isn't\", 'ma', 'mightn', \"mightn't\", 'mustn', \"mustn't\", 'needn', \"needn't\", 'shan', \"shan't\", 'shouldn', \"shouldn't\", 'wasn', \"wasn't\", 'weren', \"weren't\", 'won', \"won't\", 'wouldn', \"wouldn't\"]\n"
     ]
    }
   ],
   "source": [
    "print(stopwords.words('english')) # which is not suitable here, coz e.g. in emotion analysis, not happy is opposite from happy."
   ]
  },
  {
   "cell_type": "code",
   "execution_count": 19,
   "metadata": {},
   "outputs": [],
   "source": [
    "stopwords_byhand = ['i', 'me', 'my', 'myself', 'we', 'our', 'ours', 'ourselves', \n",
    "                    'you', \"you're\", \"you've\", \"you'll\", \"you'd\", 'your', 'yours', 'yourself', 'yourselves', \n",
    "                    'he', 'him', 'his', 'himself', 'she', \"she's\", 'her', 'hers', 'herself', 'it', \"it's\", 'its', \n",
    "                    'itself', 'they', 'them', 'their', 'theirs', 'themselves', 'what', 'which', 'who', 'whom', \n",
    "                    'this', 'that', \"that'll\", 'these', 'those', 'am', 'is', 'are', 'was', 'were', 'be', 'been', \n",
    "                    'being', 'have', 'has', 'had', 'having', 'do', 'does', 'did', 'doing', 'a', 'an', 'the', \n",
    "                    'and', 'but', 'if', 'or', 'because', 'as', 'until', 'while', 'of', 'at', 'by', 'for', 'with', \n",
    "                    'about', 'against', 'between', 'into', 'through', 'during', 'before', 'after', 'above', 'below', \n",
    "                    'to', 'from', 'up', 'down', 'in', 'out', 'on', 'off', 'over', 'under', 'again', 'further', 'then', \n",
    "                    'once', 'here', 'there', 'when', 'where', 'why', 'how', 'all', 'any', 'both', 'each', 'few', \n",
    "                    'more', 'most', 'other', 'some', 'such', 'only', 'own', 'same', 'so', 'than', 'too', 'very', 's', \n",
    "                    't', 'can', 'will', 'just','now', 'd', 'll', 'm', 'o', 're', 've', 'y']\n",
    "# remove stopwords except those negative words"
   ]
  },
  {
   "cell_type": "code",
   "execution_count": 20,
   "metadata": {},
   "outputs": [],
   "source": [
    "def remove_stopwords(input_text):\n",
    "    words = input_text.split()\n",
    "    new_words=list()\n",
    "    for word in words:\n",
    "        if word in stopwords_byhand:\n",
    "            continue\n",
    "        else:\n",
    "            new_words.append(word)\n",
    "    sentence = \" \".join(new_words)\n",
    "    return sentence"
   ]
  },
  {
   "cell_type": "code",
   "execution_count": 21,
   "metadata": {},
   "outputs": [
    {
     "name": "stderr",
     "output_type": "stream",
     "text": [
      "100%|███████████████████████████████████████████████████████████████████████████| 2284/2284 [00:00<00:00, 81791.17it/s]\n"
     ]
    }
   ],
   "source": [
    "meaning_values5 = fit_transform(meaning_values4,method=\"remove_stopwords\")"
   ]
  },
  {
   "cell_type": "markdown",
   "metadata": {},
   "source": [
    "## 3.6. shorthand words translation"
   ]
  },
  {
   "cell_type": "code",
   "execution_count": 22,
   "metadata": {},
   "outputs": [],
   "source": [
    "cor_dict= {\n",
    "    \"ideograph\":\"ideogram\",\n",
    "    \"facepalming\":\"facepalm\",\n",
    "    \"aeroplane\":\"airplane\",\n",
    "    \"savouring\":\"savor\",\n",
    "\n",
    "    }"
   ]
  },
  {
   "cell_type": "code",
   "execution_count": 23,
   "metadata": {},
   "outputs": [],
   "source": [
    "def correct_words_common(input_text):\n",
    "    'for correcting the words in sentences based on hand-crafted data'\n",
    "    corrected_sentence = \" \"+input_text+\" \"\n",
    "    for each_key in cor_dict.keys():\n",
    "        if each_key in input_text:\n",
    "            rule = \" \"+each_key+\" \"\n",
    "            corrected_sentence = re.sub(rule,\" \"+cor_dict[each_key]+\" \",corrected_sentence)\n",
    "    return corrected_sentence"
   ]
  },
  {
   "cell_type": "code",
   "execution_count": 24,
   "metadata": {},
   "outputs": [
    {
     "name": "stderr",
     "output_type": "stream",
     "text": [
      "100%|██████████████████████████████████████████████████████████████████████████| 2284/2284 [00:00<00:00, 152678.15it/s]\n"
     ]
    }
   ],
   "source": [
    "meaning_values6 = fit_transform(meaning_values5,method=\"correct_words_common\")"
   ]
  },
  {
   "cell_type": "markdown",
   "metadata": {},
   "source": [
    "# 5. check data format \n",
    "- for further preprocessing based on pre-trained embedding resource"
   ]
  },
  {
   "cell_type": "markdown",
   "metadata": {},
   "source": [
    "## 5.1. check distinct vocabulary"
   ]
  },
  {
   "cell_type": "code",
   "execution_count": 25,
   "metadata": {},
   "outputs": [],
   "source": [
    "def distinct_words(dialogs):\n",
    "    vocab = dict()\n",
    "    for each_dialog in tqdm(dialogs):\n",
    "        text = str(each_dialog)\n",
    "        words_list = text.split(sep=\" \")\n",
    "        for word in words_list:\n",
    "            if word == '':\n",
    "                continue\n",
    "            try:\n",
    "                vocab[word] +=1\n",
    "            except KeyError:\n",
    "                vocab[word] = 1\n",
    "    \n",
    "    return vocab"
   ]
  },
  {
   "cell_type": "code",
   "execution_count": 26,
   "metadata": {},
   "outputs": [
    {
     "name": "stderr",
     "output_type": "stream",
     "text": [
      "100%|██████████████████████████████████████████████████████████████████████████| 2284/2284 [00:00<00:00, 458319.32it/s]"
     ]
    },
    {
     "name": "stdout",
     "output_type": "stream",
     "text": [
      "the length of distinct vocabulary of the version 0 is 3007\n"
     ]
    },
    {
     "name": "stderr",
     "output_type": "stream",
     "text": [
      "\n"
     ]
    }
   ],
   "source": [
    "vocab0 = distinct_words(meaning_values)\n",
    "print(\"the length of distinct vocabulary of {a} is {b}\".format(a=\"the version 0\",b=len(vocab0)))"
   ]
  },
  {
   "cell_type": "code",
   "execution_count": 27,
   "metadata": {},
   "outputs": [
    {
     "name": "stderr",
     "output_type": "stream",
     "text": [
      "100%|██████████████████████████████████████████████████████████████████████████| 2284/2284 [00:00<00:00, 572577.27it/s]"
     ]
    },
    {
     "name": "stdout",
     "output_type": "stream",
     "text": [
      "the length of distinct vocabulary of the version 1 is 2940\n"
     ]
    },
    {
     "name": "stderr",
     "output_type": "stream",
     "text": [
      "\n"
     ]
    }
   ],
   "source": [
    "vocab1 = distinct_words(meaning_values1)\n",
    "print(\"the length of distinct vocabulary of {a} is {b}\".format(a=\"the version 1\",b=len(vocab1)))"
   ]
  },
  {
   "cell_type": "code",
   "execution_count": 28,
   "metadata": {},
   "outputs": [
    {
     "name": "stderr",
     "output_type": "stream",
     "text": [
      "100%|██████████████████████████████████████████████████████████████████████████| 2284/2284 [00:00<00:00, 286211.66it/s]"
     ]
    },
    {
     "name": "stdout",
     "output_type": "stream",
     "text": [
      "the length of distinct vocabulary of the version 2 is 2803\n"
     ]
    },
    {
     "name": "stderr",
     "output_type": "stream",
     "text": [
      "\n"
     ]
    }
   ],
   "source": [
    "vocab2 = distinct_words(meaning_values2)\n",
    "print(\"the length of distinct vocabulary of {a} is {b}\".format(a=\"the version 2\",b=len(vocab2)))"
   ]
  },
  {
   "cell_type": "code",
   "execution_count": 29,
   "metadata": {},
   "outputs": [
    {
     "name": "stderr",
     "output_type": "stream",
     "text": [
      "100%|██████████████████████████████████████████████████████████████████████████| 2284/2284 [00:00<00:00, 458056.34it/s]"
     ]
    },
    {
     "name": "stdout",
     "output_type": "stream",
     "text": [
      "the length of distinct vocabulary of the version 3 is 2707\n"
     ]
    },
    {
     "name": "stderr",
     "output_type": "stream",
     "text": [
      "\n"
     ]
    }
   ],
   "source": [
    "vocab3 = distinct_words(meaning_values3)\n",
    "print(\"the length of distinct vocabulary of {a} is {b}\".format(a=\"the version 3\",b=len(vocab3)))"
   ]
  },
  {
   "cell_type": "code",
   "execution_count": 30,
   "metadata": {},
   "outputs": [
    {
     "name": "stderr",
     "output_type": "stream",
     "text": [
      "100%|██████████████████████████████████████████████████████████████████████████| 2284/2284 [00:00<00:00, 381725.79it/s]"
     ]
    },
    {
     "name": "stdout",
     "output_type": "stream",
     "text": [
      "the length of distinct vocabulary of the version 4 is 2686\n"
     ]
    },
    {
     "name": "stderr",
     "output_type": "stream",
     "text": [
      "\n"
     ]
    }
   ],
   "source": [
    "vocab4 = distinct_words(meaning_values4)\n",
    "print(\"the length of distinct vocabulary of {a} is {b}\".format(a=\"the version 4\",b=len(vocab4)))"
   ]
  },
  {
   "cell_type": "code",
   "execution_count": 31,
   "metadata": {},
   "outputs": [
    {
     "name": "stderr",
     "output_type": "stream",
     "text": [
      "100%|██████████████████████████████████████████████████████████████████████████| 2284/2284 [00:00<00:00, 572679.96it/s]"
     ]
    },
    {
     "name": "stdout",
     "output_type": "stream",
     "text": [
      "the length of distinct vocabulary of the version 5 is 2638\n"
     ]
    },
    {
     "name": "stderr",
     "output_type": "stream",
     "text": [
      "\n"
     ]
    }
   ],
   "source": [
    "vocab5 = distinct_words(meaning_values5)\n",
    "print(\"the length of distinct vocabulary of {a} is {b}\".format(a=\"the version 5\",b=len(vocab5)))"
   ]
  },
  {
   "cell_type": "code",
   "execution_count": 32,
   "metadata": {},
   "outputs": [
    {
     "name": "stderr",
     "output_type": "stream",
     "text": [
      "100%|██████████████████████████████████████████████████████████████████████████| 2284/2284 [00:00<00:00, 381710.58it/s]"
     ]
    },
    {
     "name": "stdout",
     "output_type": "stream",
     "text": [
      "the length of distinct vocabulary of the version 6 is 2636\n"
     ]
    },
    {
     "name": "stderr",
     "output_type": "stream",
     "text": [
      "\n"
     ]
    }
   ],
   "source": [
    "vocab6 = distinct_words(meaning_values6)\n",
    "print(\"the length of distinct vocabulary of {a} is {b}\".format(a=\"the version 6\",b=len(vocab6)))"
   ]
  },
  {
   "cell_type": "markdown",
   "metadata": {},
   "source": [
    "## 5.2. check the percentage of words in data can be processed by word2vec pre-trained data"
   ]
  },
  {
   "cell_type": "code",
   "execution_count": 33,
   "metadata": {},
   "outputs": [],
   "source": [
    "# import embedding resource\n",
    "pretrained_word2vec_path = \"DataSet\\\\GoogleNews-vectors-negative300.bin\"\n",
    "word2vec_pre = gs.models.KeyedVectors.load_word2vec_format(pretrained_word2vec_path, binary= True)"
   ]
  },
  {
   "cell_type": "code",
   "execution_count": 34,
   "metadata": {},
   "outputs": [],
   "source": [
    "# build the function for check the coverage of the vocabulary and the text\n",
    "import operator\n",
    "def check_coverage(vocab, embedding_resource):\n",
    "    cov_vocab =0\n",
    "    num_vocab = len(vocab)\n",
    "    cov_text = 0\n",
    "    not_cov = dict()\n",
    "    not_text = 0\n",
    "    for word in tqdm(vocab):\n",
    "        try:\n",
    "            x = embedding_resource[word]\n",
    "            cov_vocab += 1\n",
    "            cov_text += vocab[word]\n",
    "        except:\n",
    "            not_cov[word]=vocab[word]\n",
    "            not_text += vocab[word]\n",
    "            pass\n",
    "    percent_cov_vocab = cov_vocab/num_vocab\n",
    "    percent_cov_text = cov_text/(cov_text+not_text)\n",
    "    print(\"In Embedding Index we have {:.2%} coverage of distinct vocabulary\".format(percent_cov_vocab))\n",
    "    print(\"And we have {:.2%} coverage of all text\".format(percent_cov_text))\n",
    "    sorted_not_cov = sorted(not_cov.items(),key= operator.itemgetter(1),reverse = True)\n",
    "    print(\"The number of words which are not covered in word2vec resource is: {0}\".format(len(sorted_not_cov)))\n",
    "    return sorted_not_cov"
   ]
  },
  {
   "cell_type": "code",
   "execution_count": 35,
   "metadata": {},
   "outputs": [
    {
     "name": "stderr",
     "output_type": "stream",
     "text": [
      "100%|██████████████████████████████████████████████████████████████████████████| 3007/3007 [00:00<00:00, 430791.14it/s]"
     ]
    },
    {
     "name": "stdout",
     "output_type": "stream",
     "text": [
      "In Embedding Index we have 86.27% coverage of distinct vocabulary\n",
      "And we have 81.14% coverage of all text\n",
      "The number of words which are not covered in word2vec resource is: 413\n"
     ]
    },
    {
     "name": "stderr",
     "output_type": "stream",
     "text": [
      "\n"
     ]
    }
   ],
   "source": [
    "# original data\n",
    "not_cov0 = check_coverage(vocab0, word2vec_pre)"
   ]
  },
  {
   "cell_type": "code",
   "execution_count": 36,
   "metadata": {},
   "outputs": [
    {
     "name": "stderr",
     "output_type": "stream",
     "text": [
      "100%|██████████████████████████████████████████████████████████████████████████| 2940/2940 [00:00<00:00, 421106.23it/s]"
     ]
    },
    {
     "name": "stdout",
     "output_type": "stream",
     "text": [
      "In Embedding Index we have 81.84% coverage of distinct vocabulary\n",
      "And we have 79.39% coverage of all text\n",
      "The number of words which are not covered in word2vec resource is: 534\n"
     ]
    },
    {
     "name": "stderr",
     "output_type": "stream",
     "text": [
      "\n"
     ]
    }
   ],
   "source": [
    "# lower the words\n",
    "not_cov1 = check_coverage(vocab1, word2vec_pre)"
   ]
  },
  {
   "cell_type": "code",
   "execution_count": 37,
   "metadata": {},
   "outputs": [
    {
     "data": {
      "text/plain": [
       "[('flag:', 261),\n",
       " ('of', 41),\n",
       " ('sad,', 31),\n",
       " ('a', 29),\n",
       " ('family:', 25),\n",
       " ('woman,', 24),\n",
       " ('man,', 22),\n",
       " ('laughing,', 20),\n",
       " ('face.', 18),\n",
       " ('out,', 18),\n",
       " ('crying\\n', 18),\n",
       " ('and', 17),\n",
       " ('cheeky/playful,', 17),\n",
       " ('ideograph', 15),\n",
       " ('embarrassed,', 15),\n",
       " ('fish\\n', 15),\n",
       " ('laugh\\n', 15),\n",
       " ('keycap:', 13),\n",
       " ('frown,', 13),\n",
       " ('angry,', 13)]"
      ]
     },
     "execution_count": 37,
     "metadata": {},
     "output_type": "execute_result"
    }
   ],
   "source": [
    "not_cov1[:20]"
   ]
  },
  {
   "cell_type": "code",
   "execution_count": 38,
   "metadata": {},
   "outputs": [
    {
     "name": "stderr",
     "output_type": "stream",
     "text": [
      "100%|██████████████████████████████████████████████████████████████████████████| 2803/2803 [00:00<00:00, 401483.25it/s]"
     ]
    },
    {
     "name": "stdout",
     "output_type": "stream",
     "text": [
      "In Embedding Index we have 91.40% coverage of distinct vocabulary\n",
      "And we have 81.36% coverage of all text\n",
      "The number of words which are not covered in word2vec resource is: 241\n"
     ]
    },
    {
     "name": "stderr",
     "output_type": "stream",
     "text": [
      "\n"
     ]
    }
   ],
   "source": [
    "# assign space to seperate adhered words\n",
    "not_cov2 = check_coverage(vocab2, word2vec_pre)"
   ]
  },
  {
   "cell_type": "code",
   "execution_count": 39,
   "metadata": {},
   "outputs": [
    {
     "data": {
      "text/plain": [
       "[(',', 445),\n",
       " (':', 323),\n",
       " ('\\n', 301),\n",
       " ('-', 113),\n",
       " ('\"', 69),\n",
       " ('a', 44),\n",
       " ('of', 41),\n",
       " ('.', 37),\n",
       " ('“', 34),\n",
       " ('”', 34),\n",
       " ('/', 31),\n",
       " ('’', 21),\n",
       " ('and', 17),\n",
       " ('(', 17),\n",
       " (')', 15),\n",
       " ('ideograph', 15),\n",
       " ('keycap', 13),\n",
       " ('to', 11),\n",
       " (\"'\", 9),\n",
       " ('⊛', 7)]"
      ]
     },
     "execution_count": 39,
     "metadata": {},
     "output_type": "execute_result"
    }
   ],
   "source": [
    "not_cov2[:20]"
   ]
  },
  {
   "cell_type": "code",
   "execution_count": 40,
   "metadata": {},
   "outputs": [
    {
     "name": "stderr",
     "output_type": "stream",
     "text": [
      "100%|██████████████████████████████████████████████████████████████████████████| 2707/2707 [00:00<00:00, 387825.55it/s]"
     ]
    },
    {
     "name": "stdout",
     "output_type": "stream",
     "text": [
      "In Embedding Index we have 93.39% coverage of distinct vocabulary\n",
      "And we have 95.89% coverage of all text\n",
      "The number of words which are not covered in word2vec resource is: 179\n"
     ]
    },
    {
     "name": "stderr",
     "output_type": "stream",
     "text": [
      "\n"
     ]
    }
   ],
   "source": [
    "# remove punctuations\n",
    "not_cov3 = check_coverage(vocab3, word2vec_pre)"
   ]
  },
  {
   "cell_type": "code",
   "execution_count": 41,
   "metadata": {},
   "outputs": [
    {
     "data": {
      "text/plain": [
       "[('a', 44),\n",
       " ('of', 41),\n",
       " ('and', 17),\n",
       " ('ideograph', 15),\n",
       " ('keycap', 13),\n",
       " ('to', 11),\n",
       " ('dogeza', 7),\n",
       " ('despai', 5),\n",
       " ('intercardinal', 4),\n",
       " ('scepticism', 3),\n",
       " ('facepalming', 3),\n",
       " ('aeroplane', 3),\n",
       " ('baltan', 3),\n",
       " ('oberon', 2),\n",
       " ('merwoman', 2),\n",
       " ('gemini', 2),\n",
       " ('capricorn', 2),\n",
       " ('mauritius', 2),\n",
       " ('ophiuchus', 2),\n",
       " ('pisces', 2)]"
      ]
     },
     "execution_count": 41,
     "metadata": {},
     "output_type": "execute_result"
    }
   ],
   "source": [
    "not_cov3[:20]"
   ]
  },
  {
   "cell_type": "code",
   "execution_count": 42,
   "metadata": {},
   "outputs": [
    {
     "name": "stderr",
     "output_type": "stream",
     "text": [
      "100%|██████████████████████████████████████████████████████████████████████████| 2686/2686 [00:00<00:00, 446191.95it/s]"
     ]
    },
    {
     "name": "stdout",
     "output_type": "stream",
     "text": [
      "In Embedding Index we have 93.56% coverage of distinct vocabulary\n",
      "And we have 96.12% coverage of all text\n",
      "The number of words which are not covered in word2vec resource is: 173\n"
     ]
    },
    {
     "name": "stderr",
     "output_type": "stream",
     "text": [
      "\n"
     ]
    }
   ],
   "source": [
    "# correct misspell\n",
    "not_cov4 = check_coverage(vocab4, word2vec_pre)"
   ]
  },
  {
   "cell_type": "code",
   "execution_count": 43,
   "metadata": {},
   "outputs": [
    {
     "data": {
      "text/plain": [
       "[('a', 45),\n",
       " ('of', 42),\n",
       " ('and', 17),\n",
       " ('ideograph', 15),\n",
       " ('to', 11),\n",
       " ('intercardinal', 4),\n",
       " ('scepticism', 3),\n",
       " ('facepalming', 3),\n",
       " ('aeroplane', 3),\n",
       " ('pushkin', 3),\n",
       " ('balkan', 3),\n",
       " ('savouring', 2),\n",
       " ('oberon', 2),\n",
       " ('merriman', 2),\n",
       " ('gemini', 2),\n",
       " ('capricorn', 2),\n",
       " ('mauritius', 2),\n",
       " ('ophiuchus', 2),\n",
       " ('pisces', 2),\n",
       " ('flavouring', 2)]"
      ]
     },
     "execution_count": 43,
     "metadata": {},
     "output_type": "execute_result"
    }
   ],
   "source": [
    "not_cov4[:20]"
   ]
  },
  {
   "cell_type": "code",
   "execution_count": 44,
   "metadata": {},
   "outputs": [
    {
     "name": "stderr",
     "output_type": "stream",
     "text": [
      "100%|██████████████████████████████████████████████████████████████████████████| 2638/2638 [00:00<00:00, 330601.59it/s]"
     ]
    },
    {
     "name": "stdout",
     "output_type": "stream",
     "text": [
      "In Embedding Index we have 93.59% coverage of distinct vocabulary\n",
      "And we have 97.30% coverage of all text\n",
      "The number of words which are not covered in word2vec resource is: 169\n"
     ]
    },
    {
     "name": "stderr",
     "output_type": "stream",
     "text": [
      "\n"
     ]
    }
   ],
   "source": [
    "# correct misspell\n",
    "not_cov5 = check_coverage(vocab5, word2vec_pre)"
   ]
  },
  {
   "cell_type": "code",
   "execution_count": 45,
   "metadata": {},
   "outputs": [
    {
     "data": {
      "text/plain": [
       "[('ideograph', 15),\n",
       " ('intercardinal', 4),\n",
       " ('scepticism', 3),\n",
       " ('facepalming', 3),\n",
       " ('aeroplane', 3),\n",
       " ('pushkin', 3),\n",
       " ('balkan', 3),\n",
       " ('savouring', 2),\n",
       " ('oberon', 2),\n",
       " ('merriman', 2),\n",
       " ('gemini', 2),\n",
       " ('capricorn', 2),\n",
       " ('mauritius', 2),\n",
       " ('ophiuchus', 2),\n",
       " ('pisces', 2),\n",
       " ('flavouring', 2),\n",
       " ('aquarius', 2),\n",
       " ('lazar', 2),\n",
       " ('mahon', 2),\n",
       " ('sagittarius', 2)]"
      ]
     },
     "execution_count": 45,
     "metadata": {},
     "output_type": "execute_result"
    }
   ],
   "source": [
    "not_cov5[:20]"
   ]
  },
  {
   "cell_type": "code",
   "execution_count": 46,
   "metadata": {},
   "outputs": [
    {
     "name": "stderr",
     "output_type": "stream",
     "text": [
      "100%|██████████████████████████████████████████████████████████████████████████| 2636/2636 [00:00<00:00, 293688.18it/s]"
     ]
    },
    {
     "name": "stdout",
     "output_type": "stream",
     "text": [
      "In Embedding Index we have 93.74% coverage of distinct vocabulary\n",
      "And we have 97.59% coverage of all text\n",
      "The number of words which are not covered in word2vec resource is: 165\n"
     ]
    },
    {
     "name": "stderr",
     "output_type": "stream",
     "text": [
      "\n"
     ]
    }
   ],
   "source": [
    "# give shorthand a translation\n",
    "not_cov6 = check_coverage(vocab6, word2vec_pre)"
   ]
  },
  {
   "cell_type": "code",
   "execution_count": 47,
   "metadata": {},
   "outputs": [
    {
     "data": {
      "text/plain": [
       "[('intercardinal', 4),\n",
       " ('scepticism', 3),\n",
       " ('pushkin', 3),\n",
       " ('balkan', 3),\n",
       " ('oberon', 2),\n",
       " ('merriman', 2),\n",
       " ('gemini', 2),\n",
       " ('capricorn', 2),\n",
       " ('mauritius', 2),\n",
       " ('ophiuchus', 2),\n",
       " ('pisces', 2),\n",
       " ('flavouring', 2),\n",
       " ('aquarius', 2),\n",
       " ('lazar', 2),\n",
       " ('mahon', 2),\n",
       " ('sagittarius', 2),\n",
       " ('katarina', 2),\n",
       " ('chequered', 2),\n",
       " ('samoa', 2),\n",
       " ('presley', 2)]"
      ]
     },
     "execution_count": 47,
     "metadata": {},
     "output_type": "execute_result"
    }
   ],
   "source": [
    "not_cov6[:20]"
   ]
  },
  {
   "cell_type": "markdown",
   "metadata": {},
   "source": [
    "# 6. save new dataframe"
   ]
  },
  {
   "cell_type": "code",
   "execution_count": 48,
   "metadata": {},
   "outputs": [],
   "source": [
    "final_dict = dict()\n",
    "final_dict[\"emoji/emoticon\"]=list(emo_df[\"emoji/emoticon\"])\n",
    "final_dict[\"key words\"]=meaning_values6\n",
    "final_df = pd.DataFrame.from_dict(final_dict)"
   ]
  },
  {
   "cell_type": "code",
   "execution_count": 49,
   "metadata": {},
   "outputs": [
    {
     "data": {
      "text/html": [
       "<div>\n",
       "<style scoped>\n",
       "    .dataframe tbody tr th:only-of-type {\n",
       "        vertical-align: middle;\n",
       "    }\n",
       "\n",
       "    .dataframe tbody tr th {\n",
       "        vertical-align: top;\n",
       "    }\n",
       "\n",
       "    .dataframe thead th {\n",
       "        text-align: right;\n",
       "    }\n",
       "</style>\n",
       "<table border=\"1\" class=\"dataframe\">\n",
       "  <thead>\n",
       "    <tr style=\"text-align: right;\">\n",
       "      <th></th>\n",
       "      <th>emoji/emoticon</th>\n",
       "      <th>key words</th>\n",
       "    </tr>\n",
       "  </thead>\n",
       "  <tbody>\n",
       "    <tr>\n",
       "      <th>0</th>\n",
       "      <td>😀</td>\n",
       "      <td>face grin grinning face</td>\n",
       "    </tr>\n",
       "    <tr>\n",
       "      <th>1</th>\n",
       "      <td>😃</td>\n",
       "      <td>face grinning face big eyes mouth open smile</td>\n",
       "    </tr>\n",
       "    <tr>\n",
       "      <th>2</th>\n",
       "      <td>😄</td>\n",
       "      <td>eye face grinning face smiling eyes mouth ope...</td>\n",
       "    </tr>\n",
       "    <tr>\n",
       "      <th>3</th>\n",
       "      <td>😁</td>\n",
       "      <td>beaming face smiling eyes eye face grin smile</td>\n",
       "    </tr>\n",
       "    <tr>\n",
       "      <th>4</th>\n",
       "      <td>😆</td>\n",
       "      <td>face grinning squinting face laugh mouth sati...</td>\n",
       "    </tr>\n",
       "    <tr>\n",
       "      <th>...</th>\n",
       "      <td>...</td>\n",
       "      <td>...</td>\n",
       "    </tr>\n",
       "    <tr>\n",
       "      <th>2279</th>\n",
       "      <td>(　´Д｀)ﾉ(´･ω･`)　ﾅﾃﾞﾅﾃﾞ</td>\n",
       "      <td>patting made made</td>\n",
       "    </tr>\n",
       "    <tr>\n",
       "      <th>2280</th>\n",
       "      <td>(*ﾟﾉOﾟ)&lt;ｵｵｵｵｫｫｫｫｫｫｫｰｰｰｰｰｲ!</td>\n",
       "      <td>calling ooooh</td>\n",
       "    </tr>\n",
       "    <tr>\n",
       "      <th>2281</th>\n",
       "      <td>( ﾟ∀ﾟ)ｱﾊﾊ八八ﾉヽﾉヽﾉヽﾉ ＼ / ＼/ ＼</td>\n",
       "      <td>evil laugh literally ahahahaha</td>\n",
       "    </tr>\n",
       "    <tr>\n",
       "      <th>2282</th>\n",
       "      <td>（・∀・ ）ヾ(- -；)コラコラ</td>\n",
       "      <td>blaming</td>\n",
       "    </tr>\n",
       "    <tr>\n",
       "      <th>2283</th>\n",
       "      <td>お(^o^)や(^O^)す(^｡^)みぃ(^-^)ﾉﾞ</td>\n",
       "      <td>kana reading ya su mi meaning good night night</td>\n",
       "    </tr>\n",
       "  </tbody>\n",
       "</table>\n",
       "<p>2284 rows × 2 columns</p>\n",
       "</div>"
      ],
      "text/plain": [
       "                   emoji/emoticon  \\\n",
       "0                               😀   \n",
       "1                               😃   \n",
       "2                               😄   \n",
       "3                               😁   \n",
       "4                               😆   \n",
       "...                           ...   \n",
       "2279        (　´Д｀)ﾉ(´･ω･`)　ﾅﾃﾞﾅﾃﾞ   \n",
       "2280   (*ﾟﾉOﾟ)<ｵｵｵｵｫｫｫｫｫｫｫｰｰｰｰｰｲ!   \n",
       "2281  ( ﾟ∀ﾟ)ｱﾊﾊ八八ﾉヽﾉヽﾉヽﾉ ＼ / ＼/ ＼   \n",
       "2282            （・∀・ ）ヾ(- -；)コラコラ   \n",
       "2283  お(^o^)や(^O^)す(^｡^)みぃ(^-^)ﾉﾞ   \n",
       "\n",
       "                                              key words  \n",
       "0                              face grin grinning face   \n",
       "1         face grinning face big eyes mouth open smile   \n",
       "2      eye face grinning face smiling eyes mouth ope...  \n",
       "3        beaming face smiling eyes eye face grin smile   \n",
       "4      face grinning squinting face laugh mouth sati...  \n",
       "...                                                 ...  \n",
       "2279                                 patting made made   \n",
       "2280                                     calling ooooh   \n",
       "2281                    evil laugh literally ahahahaha   \n",
       "2282                                           blaming   \n",
       "2283    kana reading ya su mi meaning good night night   \n",
       "\n",
       "[2284 rows x 2 columns]"
      ]
     },
     "execution_count": 49,
     "metadata": {},
     "output_type": "execute_result"
    }
   ],
   "source": [
    "final_df"
   ]
  },
  {
   "cell_type": "code",
   "execution_count": 50,
   "metadata": {},
   "outputs": [],
   "source": [
    "path = \"DataSet\\\\emo_collection_word2vec.csv\"\n",
    "final_df.to_csv(path,sep='|',index=False)"
   ]
  },
  {
   "cell_type": "code",
   "execution_count": null,
   "metadata": {},
   "outputs": [],
   "source": []
  },
  {
   "cell_type": "code",
   "execution_count": null,
   "metadata": {},
   "outputs": [],
   "source": []
  },
  {
   "cell_type": "code",
   "execution_count": null,
   "metadata": {},
   "outputs": [],
   "source": []
  },
  {
   "cell_type": "code",
   "execution_count": null,
   "metadata": {},
   "outputs": [],
   "source": []
  },
  {
   "cell_type": "code",
   "execution_count": null,
   "metadata": {},
   "outputs": [],
   "source": []
  },
  {
   "cell_type": "code",
   "execution_count": null,
   "metadata": {},
   "outputs": [],
   "source": []
  },
  {
   "cell_type": "code",
   "execution_count": null,
   "metadata": {},
   "outputs": [],
   "source": []
  }
 ],
 "metadata": {
  "kernelspec": {
   "display_name": "Python 3",
   "language": "python",
   "name": "python3"
  },
  "language_info": {
   "codemirror_mode": {
    "name": "ipython",
    "version": 3
   },
   "file_extension": ".py",
   "mimetype": "text/x-python",
   "name": "python",
   "nbconvert_exporter": "python",
   "pygments_lexer": "ipython3",
   "version": "3.8.3"
  }
 },
 "nbformat": 4,
 "nbformat_minor": 4
}
