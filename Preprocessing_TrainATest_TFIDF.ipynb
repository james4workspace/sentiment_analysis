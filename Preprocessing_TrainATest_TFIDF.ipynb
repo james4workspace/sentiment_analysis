{
 "cells": [
  {
   "cell_type": "markdown",
   "metadata": {},
   "source": [
    "# 1.Data Import and Combination"
   ]
  },
  {
   "cell_type": "code",
   "execution_count": 2,
   "metadata": {},
   "outputs": [],
   "source": [
    "import pandas as pd\n",
    "import gensim as gs\n",
    "import nltk\n",
    "import re\n",
    "from nltk.corpus import stopwords\n",
    "import sklearn as sk\n",
    "import numpy as np\n",
    "import pickle\n",
    "from tqdm import tqdm"
   ]
  },
  {
   "cell_type": "markdown",
   "metadata": {},
   "source": [
    "## 1.1.import dataset"
   ]
  },
  {
   "cell_type": "code",
   "execution_count": 3,
   "metadata": {},
   "outputs": [],
   "source": [
    "train_path=\"DataSet\\\\train.txt\"\n",
    "test_path=\"DataSet\\\\test.txt\"\n",
    "train_df = pd.read_csv(train_path,sep=\"\\t\",index_col=0)\n",
    "test_df=pd.read_csv(test_path,sep=\"\\t\",index_col=0)"
   ]
  },
  {
   "cell_type": "code",
   "execution_count": 4,
   "metadata": {},
   "outputs": [
    {
     "data": {
      "text/html": [
       "<div>\n",
       "<style scoped>\n",
       "    .dataframe tbody tr th:only-of-type {\n",
       "        vertical-align: middle;\n",
       "    }\n",
       "\n",
       "    .dataframe tbody tr th {\n",
       "        vertical-align: top;\n",
       "    }\n",
       "\n",
       "    .dataframe thead th {\n",
       "        text-align: right;\n",
       "    }\n",
       "</style>\n",
       "<table border=\"1\" class=\"dataframe\">\n",
       "  <thead>\n",
       "    <tr style=\"text-align: right;\">\n",
       "      <th></th>\n",
       "      <th>turn1</th>\n",
       "      <th>turn2</th>\n",
       "      <th>turn3</th>\n",
       "      <th>label</th>\n",
       "    </tr>\n",
       "    <tr>\n",
       "      <th>id</th>\n",
       "      <th></th>\n",
       "      <th></th>\n",
       "      <th></th>\n",
       "      <th></th>\n",
       "    </tr>\n",
       "  </thead>\n",
       "  <tbody>\n",
       "    <tr>\n",
       "      <th>0</th>\n",
       "      <td>Don't worry  I'm girl</td>\n",
       "      <td>hmm how do I know if you are</td>\n",
       "      <td>What's ur name?</td>\n",
       "      <td>others</td>\n",
       "    </tr>\n",
       "    <tr>\n",
       "      <th>1</th>\n",
       "      <td>When did I?</td>\n",
       "      <td>saw many times i think -_-</td>\n",
       "      <td>No. I never saw you</td>\n",
       "      <td>angry</td>\n",
       "    </tr>\n",
       "    <tr>\n",
       "      <th>2</th>\n",
       "      <td>By</td>\n",
       "      <td>by Google Chrome</td>\n",
       "      <td>Where you live</td>\n",
       "      <td>others</td>\n",
       "    </tr>\n",
       "    <tr>\n",
       "      <th>3</th>\n",
       "      <td>U r ridiculous</td>\n",
       "      <td>I might be ridiculous but I am telling the truth.</td>\n",
       "      <td>U little disgusting whore</td>\n",
       "      <td>angry</td>\n",
       "    </tr>\n",
       "    <tr>\n",
       "      <th>4</th>\n",
       "      <td>Just for time pass</td>\n",
       "      <td>wt do u do 4 a living then</td>\n",
       "      <td>Maybe</td>\n",
       "      <td>others</td>\n",
       "    </tr>\n",
       "    <tr>\n",
       "      <th>...</th>\n",
       "      <td>...</td>\n",
       "      <td>...</td>\n",
       "      <td>...</td>\n",
       "      <td>...</td>\n",
       "    </tr>\n",
       "    <tr>\n",
       "      <th>30155</th>\n",
       "      <td>I don't work</td>\n",
       "      <td>I could take your shift</td>\n",
       "      <td>I am a student</td>\n",
       "      <td>others</td>\n",
       "    </tr>\n",
       "    <tr>\n",
       "      <th>30156</th>\n",
       "      <td>I'm not getting you 😭😭😭</td>\n",
       "      <td>Why are you crying??</td>\n",
       "      <td>Because you are not making any sense</td>\n",
       "      <td>sad</td>\n",
       "    </tr>\n",
       "    <tr>\n",
       "      <th>30157</th>\n",
       "      <td>Haha</td>\n",
       "      <td>no, seriously. What is up with that o-o</td>\n",
       "      <td>Had your breakfast?</td>\n",
       "      <td>others</td>\n",
       "    </tr>\n",
       "    <tr>\n",
       "      <th>30158</th>\n",
       "      <td>Do you sing?</td>\n",
       "      <td>yea a lil</td>\n",
       "      <td>Nice</td>\n",
       "      <td>others</td>\n",
       "    </tr>\n",
       "    <tr>\n",
       "      <th>30159</th>\n",
       "      <td>Me to</td>\n",
       "      <td>People be driving me crazy</td>\n",
       "      <td>Come on sleep with me</td>\n",
       "      <td>others</td>\n",
       "    </tr>\n",
       "  </tbody>\n",
       "</table>\n",
       "<p>30160 rows × 4 columns</p>\n",
       "</div>"
      ],
      "text/plain": [
       "                         turn1  \\\n",
       "id                               \n",
       "0        Don't worry  I'm girl   \n",
       "1                  When did I?   \n",
       "2                           By   \n",
       "3               U r ridiculous   \n",
       "4           Just for time pass   \n",
       "...                        ...   \n",
       "30155             I don't work   \n",
       "30156  I'm not getting you 😭😭😭   \n",
       "30157                     Haha   \n",
       "30158             Do you sing?   \n",
       "30159                    Me to   \n",
       "\n",
       "                                                   turn2  \\\n",
       "id                                                         \n",
       "0                           hmm how do I know if you are   \n",
       "1                             saw many times i think -_-   \n",
       "2                                       by Google Chrome   \n",
       "3      I might be ridiculous but I am telling the truth.   \n",
       "4                             wt do u do 4 a living then   \n",
       "...                                                  ...   \n",
       "30155                            I could take your shift   \n",
       "30156                               Why are you crying??   \n",
       "30157            no, seriously. What is up with that o-o   \n",
       "30158                                          yea a lil   \n",
       "30159                         People be driving me crazy   \n",
       "\n",
       "                                      turn3   label  \n",
       "id                                                   \n",
       "0                           What's ur name?  others  \n",
       "1                       No. I never saw you   angry  \n",
       "2                            Where you live  others  \n",
       "3                 U little disgusting whore   angry  \n",
       "4                                     Maybe  others  \n",
       "...                                     ...     ...  \n",
       "30155                        I am a student  others  \n",
       "30156  Because you are not making any sense     sad  \n",
       "30157                   Had your breakfast?  others  \n",
       "30158                                  Nice  others  \n",
       "30159                 Come on sleep with me  others  \n",
       "\n",
       "[30160 rows x 4 columns]"
      ]
     },
     "execution_count": 4,
     "metadata": {},
     "output_type": "execute_result"
    }
   ],
   "source": [
    "train_df"
   ]
  },
  {
   "cell_type": "code",
   "execution_count": 5,
   "metadata": {},
   "outputs": [
    {
     "data": {
      "text/html": [
       "<div>\n",
       "<style scoped>\n",
       "    .dataframe tbody tr th:only-of-type {\n",
       "        vertical-align: middle;\n",
       "    }\n",
       "\n",
       "    .dataframe tbody tr th {\n",
       "        vertical-align: top;\n",
       "    }\n",
       "\n",
       "    .dataframe thead th {\n",
       "        text-align: right;\n",
       "    }\n",
       "</style>\n",
       "<table border=\"1\" class=\"dataframe\">\n",
       "  <thead>\n",
       "    <tr style=\"text-align: right;\">\n",
       "      <th></th>\n",
       "      <th>turn1</th>\n",
       "      <th>turn2</th>\n",
       "      <th>turn3</th>\n",
       "      <th>label</th>\n",
       "    </tr>\n",
       "    <tr>\n",
       "      <th>id</th>\n",
       "      <th></th>\n",
       "      <th></th>\n",
       "      <th></th>\n",
       "      <th></th>\n",
       "    </tr>\n",
       "  </thead>\n",
       "  <tbody>\n",
       "    <tr>\n",
       "      <th>0</th>\n",
       "      <td>Hmm</td>\n",
       "      <td>What does your bio mean?</td>\n",
       "      <td>I don’t have any bio</td>\n",
       "      <td>others</td>\n",
       "    </tr>\n",
       "    <tr>\n",
       "      <th>1</th>\n",
       "      <td>What you like</td>\n",
       "      <td>very little things</td>\n",
       "      <td>Ok</td>\n",
       "      <td>others</td>\n",
       "    </tr>\n",
       "    <tr>\n",
       "      <th>2</th>\n",
       "      <td>Yes</td>\n",
       "      <td>How so?</td>\n",
       "      <td>I want to fuck babu</td>\n",
       "      <td>others</td>\n",
       "    </tr>\n",
       "    <tr>\n",
       "      <th>3</th>\n",
       "      <td>what did you guess</td>\n",
       "      <td>what what</td>\n",
       "      <td>fuck</td>\n",
       "      <td>others</td>\n",
       "    </tr>\n",
       "    <tr>\n",
       "      <th>4</th>\n",
       "      <td>We ?</td>\n",
       "      <td>of course we will!</td>\n",
       "      <td>What gender movies you like??</td>\n",
       "      <td>others</td>\n",
       "    </tr>\n",
       "    <tr>\n",
       "      <th>...</th>\n",
       "      <td>...</td>\n",
       "      <td>...</td>\n",
       "      <td>...</td>\n",
       "      <td>...</td>\n",
       "    </tr>\n",
       "    <tr>\n",
       "      <th>5504</th>\n",
       "      <td>Not youuu</td>\n",
       "      <td>I also didn't not not.</td>\n",
       "      <td>How to calll</td>\n",
       "      <td>others</td>\n",
       "    </tr>\n",
       "    <tr>\n",
       "      <th>5505</th>\n",
       "      <td>Welcome</td>\n",
       "      <td>Why, thank you.</td>\n",
       "      <td>I don't know, you tell</td>\n",
       "      <td>others</td>\n",
       "    </tr>\n",
       "    <tr>\n",
       "      <th>5506</th>\n",
       "      <td>Yes</td>\n",
       "      <td>IF ONLY I COULD AFFORD THIS</td>\n",
       "      <td>How are you</td>\n",
       "      <td>others</td>\n",
       "    </tr>\n",
       "    <tr>\n",
       "      <th>5507</th>\n",
       "      <td>For my information</td>\n",
       "      <td>It's our responsibility to clarify everything.</td>\n",
       "      <td>What is mountain dew?</td>\n",
       "      <td>others</td>\n",
       "    </tr>\n",
       "    <tr>\n",
       "      <th>5508</th>\n",
       "      <td>ok........... where you work ?</td>\n",
       "      <td>I'm off this whole week</td>\n",
       "      <td>ok..............</td>\n",
       "      <td>others</td>\n",
       "    </tr>\n",
       "  </tbody>\n",
       "</table>\n",
       "<p>5509 rows × 4 columns</p>\n",
       "</div>"
      ],
      "text/plain": [
       "                               turn1  \\\n",
       "id                                     \n",
       "0                                Hmm   \n",
       "1                      What you like   \n",
       "2                                Yes   \n",
       "3                 what did you guess   \n",
       "4                               We ?   \n",
       "...                              ...   \n",
       "5504                       Not youuu   \n",
       "5505                         Welcome   \n",
       "5506                             Yes   \n",
       "5507              For my information   \n",
       "5508  ok........... where you work ?   \n",
       "\n",
       "                                               turn2  \\\n",
       "id                                                     \n",
       "0                           What does your bio mean?   \n",
       "1                                 very little things   \n",
       "2                                            How so?   \n",
       "3                                          what what   \n",
       "4                                 of course we will!   \n",
       "...                                              ...   \n",
       "5504                          I also didn't not not.   \n",
       "5505                                 Why, thank you.   \n",
       "5506                     IF ONLY I COULD AFFORD THIS   \n",
       "5507  It's our responsibility to clarify everything.   \n",
       "5508                         I'm off this whole week   \n",
       "\n",
       "                              turn3   label  \n",
       "id                                           \n",
       "0              I don’t have any bio  others  \n",
       "1                               Ok   others  \n",
       "2               I want to fuck babu  others  \n",
       "3                              fuck  others  \n",
       "4     What gender movies you like??  others  \n",
       "...                             ...     ...  \n",
       "5504                   How to calll  others  \n",
       "5505         I don't know, you tell  others  \n",
       "5506                    How are you  others  \n",
       "5507          What is mountain dew?  others  \n",
       "5508              ok..............   others  \n",
       "\n",
       "[5509 rows x 4 columns]"
      ]
     },
     "execution_count": 5,
     "metadata": {},
     "output_type": "execute_result"
    }
   ],
   "source": [
    "test_df"
   ]
  },
  {
   "cell_type": "markdown",
   "metadata": {},
   "source": [
    "## 1.2.unify the variables for change"
   ]
  },
  {
   "cell_type": "code",
   "execution_count": 6,
   "metadata": {},
   "outputs": [],
   "source": [
    "# now when I copy the code for another dataset, I can easily change the special name of the dataset for adjusting the process and storage\n",
    "version_change = \"tfidf\"\n",
    "path_change = \"combine\""
   ]
  },
  {
   "cell_type": "code",
   "execution_count": 7,
   "metadata": {},
   "outputs": [],
   "source": [
    "# emo_path=\"DataSet\\\\emo_collection_{b}.csv\".format(b=version_change)\n",
    "# emo_df=pd.read_csv(emo_path,sep=\"|\")"
   ]
  },
  {
   "cell_type": "code",
   "execution_count": 8,
   "metadata": {},
   "outputs": [],
   "source": [
    "# emo_df"
   ]
  },
  {
   "cell_type": "markdown",
   "metadata": {},
   "source": [
    "## 1.3.get label and turn into category"
   ]
  },
  {
   "cell_type": "code",
   "execution_count": 9,
   "metadata": {},
   "outputs": [],
   "source": [
    "# set the label into categorical number:\n",
    "# others:0; happy:1,angry:3;sad:2;\n",
    "\n",
    "class Label_format:\n",
    "    def __init__(self,df):\n",
    "        self.df=df\n",
    "        \n",
    "    def get_y(self):\n",
    "        y = self.df.iloc[:,-1].values\n",
    "        return y\n",
    "    \n",
    "    def label_category(self,y):\n",
    "        change_list = list()\n",
    "        emotion = {\"others\":0,\"happy\":1,\"sad\":2,\"angry\":3}\n",
    "        for each in y:\n",
    "            change_list.append(emotion[each])\n",
    "        change_array=np.array(change_list)\n",
    "        return change_array\n",
    "    \n",
    "    def save_file(self,data,name):\n",
    "        pickle_file = open('DataSet\\\\'+name,mode='wb')\n",
    "        pickle.dump(data,pickle_file)\n",
    "        pickle_file.close()"
   ]
  },
  {
   "cell_type": "code",
   "execution_count": 10,
   "metadata": {},
   "outputs": [],
   "source": [
    "# set y label, and we make X later on.\n",
    "# for traindata\n",
    "lf = Label_format(train_df)\n",
    "y = lf.get_y()\n",
    "y = lf.label_category(y)\n",
    "save_path = \"{a}_y.pkl\".format(a='train')\n",
    "lf.save_file(y,save_path)"
   ]
  },
  {
   "cell_type": "code",
   "execution_count": 11,
   "metadata": {},
   "outputs": [],
   "source": [
    "# set y label, and we make X later on.\n",
    "# for testdata\n",
    "lf = Label_format(test_df)\n",
    "y = lf.get_y()\n",
    "y = lf.label_category(y)\n",
    "save_path = \"{a}_y.pkl\".format(a='test')\n",
    "lf.save_file(y,save_path)"
   ]
  },
  {
   "cell_type": "code",
   "execution_count": 12,
   "metadata": {},
   "outputs": [
    {
     "data": {
      "text/plain": [
       "array([0, 0, 0, ..., 0, 0, 0])"
      ]
     },
     "execution_count": 12,
     "metadata": {},
     "output_type": "execute_result"
    }
   ],
   "source": [
    "y"
   ]
  },
  {
   "cell_type": "markdown",
   "metadata": {},
   "source": [
    "## 1.4. class for combination"
   ]
  },
  {
   "cell_type": "code",
   "execution_count": 13,
   "metadata": {},
   "outputs": [],
   "source": [
    "# because we use pre-trained embeddings, we can't directly use stemming, remove stopwords or remove punctuations.\n",
    "# we need to turn the data as much as possible close to the pre-trained embedding.\n",
    "def basic_clean_text(input_text):\n",
    "    'clean text function'\n",
    "    #clean emoji, punctions\n",
    "    input_text = re.sub(r'[^a-zA-Z]',repl=\" \",string=input_text)\n",
    "    #lower the words\n",
    "    input_text =input_text.lower()\n",
    "    #stemming the words\n",
    "    list_text=input_text.split()\n",
    "    ps=nltk.stem.porter.PorterStemmer()\n",
    "    list_text_out=list()\n",
    "    for word in list_text:\n",
    "        if word in set(stopwords.words('english')):\n",
    "            continue\n",
    "        list_text_out.append(ps.stem(word))\n",
    "    input_text=\" \".join(list_text_out) \n",
    "    return input_text\n",
    "\n",
    "def combine_method(df):\n",
    "    turn1_corpus= list(df[\"turn1\"])\n",
    "    turn2_corpus= list(df[\"turn2\"])\n",
    "    turn3_corpus= list(df[\"turn3\"])\n",
    "    \n",
    "    # use text_content as dict for storing the data of \n",
    "    text_content={\"turn1\":turn1_corpus,\"turn2\":turn2_corpus,\"turn3\":turn3_corpus}\n",
    "    \n",
    "    # because we need all the sentences including sentences in turn1, turn2, turn3 \n",
    "    # to predict the emtion situation, therefore we need to combine them together\n",
    "    length = len(text_content[\"turn1\"])\n",
    "    text_all_content = list()\n",
    "    for i in tqdm(range(length)):\n",
    "        text_row_all = text_content[\"turn1\"][i] +\" \" + text_content[\"turn2\"][i] +\" \"+ text_content[\"turn3\"][i]\n",
    "        text_all_content.append(text_row_all)\n",
    "    text_all_content = {\"all\":text_all_content}\n",
    "    \n",
    "    return text_content,text_all_content"
   ]
  },
  {
   "cell_type": "code",
   "execution_count": 14,
   "metadata": {},
   "outputs": [
    {
     "name": "stderr",
     "output_type": "stream",
     "text": [
      "100%|███████████████████████████████████████████████████████████████████████| 30160/30160 [00:00<00:00, 1080016.81it/s]\n"
     ]
    }
   ],
   "source": [
    "text_3,text_all = combine_method(train_df)"
   ]
  },
  {
   "cell_type": "code",
   "execution_count": 15,
   "metadata": {},
   "outputs": [
    {
     "name": "stderr",
     "output_type": "stream",
     "text": [
      "100%|██████████████████████████████████████████████████████████████████████████| 5509/5509 [00:00<00:00, 920391.19it/s]\n"
     ]
    }
   ],
   "source": [
    "text_3_test, text_all_test = combine_method(test_df)"
   ]
  },
  {
   "cell_type": "code",
   "execution_count": 16,
   "metadata": {},
   "outputs": [
    {
     "data": {
      "text/plain": [
       "{'all': [\"Don't worry  I'm girl hmm how do I know if you are What's ur name?\",\n",
       "  'When did I? saw many times i think -_- No. I never saw you',\n",
       "  'By by Google Chrome Where you live',\n",
       "  'U r ridiculous I might be ridiculous but I am telling the truth. U little disgusting whore',\n",
       "  'Just for time pass wt do u do 4 a living then Maybe',\n",
       "  \"I'm a dog person youre so rude Whaaaat why\",\n",
       "  'So whatsup Nothing much. Sitting sipping and watching TV. How abt u? What are you watching on tv?',\n",
       "  'Ok ok im back!! So, how are u',\n",
       "  'Really? really really really really really Y saying so many times...i can hear you',\n",
       "  'Bay in the bay 😘 love you',\n",
       "  'I hate my boyfriend you got a boyfriend? Yes',\n",
       "  'I will do night. Alright. Keep me in loop. Not giving WhatsApp no.',\n",
       "  'Sure go ahead Many thanks once again! Love you too',\n",
       "  \"Bad Bad bad! That's the bad kind of bad. I have no gf\",\n",
       "  'Ok get it...... I made it an option Ok',\n",
       "  \"Money money and lots of money😍😍 I need to get it tailored but I'm in love with it 😍 😁😁\",\n",
       "  'My gf left ne Get over it. Go out with someone else. Me*',\n",
       "  \"get lost I know you guys want to loose to me always. I don't want to talk u any more\",\n",
       "  \"You are lying and i know that I KNOW YOU'RE LYING, AB BYS 😭😭\",\n",
       "  'Ur creator is very bad you are only the creator of your brain. 😑',\n",
       "  'ehat is hehe Haha is more like:Hehe is more of a giggle. ;^) what*',\n",
       "  'Do you dance? Yes I love to dance 😻 😂😂😂 so you have legs too',\n",
       "  \"I hate it too Guess what, I don't. Even I don't\",\n",
       "  'Not always What about yesterday Do u know what 69 is?',\n",
       "  \"Bcoz u dont know wat is to miss someone but sometimes one can't express the same 😢\",\n",
       "  \"Yeah i'll ask around Which is your favourite movie\",\n",
       "  \"I want to tell you something I'm waiting Im really sad today\",\n",
       "  'Yes I will send the email and you write all yours filling still I write all matters but your are clever and not any matter for yourself please send andwrite sent you a mail just now. First you send your email address  received than send first young lady',\n",
       "  \"You are very funny so I've been told India\",\n",
       "  'wth my thoughts exactly! you know you are a machine, right?',\n",
       "  'so rude why? u didnt ans my question',\n",
       "  'ok i will THANK YOU wlcm',\n",
       "  \"Ntng..... anyways good morning...how's life at your end. Haha....... this is evening\",\n",
       "  \"You are fool So I've been told. You are dumb\",\n",
       "  'U dare me? yeAh I fuck u... Open ur panty',\n",
       "  'Abt me Can you be more specific? I want to propose a girl',\n",
       "  'crazy you know what it is you explain me that',\n",
       "  'Goa in India city?????? mean State right? No i never go for there',\n",
       "  'That was mean haha the truth usually is. 👍 Are you bored of me?',\n",
       "  'yes :) Now happy? :)) haha yes ofcorse ;)',\n",
       "  \"I don't no you just said you did! What\",\n",
       "  \"Send me your nekde pic after this battle, sure :D Let's start\",\n",
       "  \"OK friend's YA YA VERY GOOD FRIEND Very nice friends\",\n",
       "  'She is ignoring me no im not ignore you 😭😭😭',\n",
       "  \"Happy I'm never happy. But I'm almost happy. Hij to the top\",\n",
       "  \"Nothing I'm just being nice to you. In ur school?\",\n",
       "  'Not sure let me know! Pls you tell',\n",
       "  'I like your positive approach No problem, glad to help 😀😀',\n",
       "  'You tell me Tell you what? My name',\n",
       "  \"Hmmm I can talk now! :D U don't know what hppnd\",\n",
       "  \"What I did? You didn't Asmita, see my answer 😂😂\",\n",
       "  \"About? I never said that it's freezing. Ya you didn't\",\n",
       "  \"And i don't know wtf are you talking gonna explain you later..! No do it now\",\n",
       "  \"So teach me I'm the student. Realky\",\n",
       "  \"Ready I'm online now, Will wait for you. Wat about the chilling part?\",\n",
       "  'Haha jock super Er what? Nothing else',\n",
       "  'what it is? Formulation would be tablets. from where tablets come into picture?',\n",
       "  'Are you ticklish? Yes, mostly on my feet. Where are you ticklish?',\n",
       "  'I am sorry We are sorry for creating your nation. I am not  taught to u',\n",
       "  \"Idk You know that I'm here for you. But u don't like to listen to me😭😭😭😭\",\n",
       "  'How do u know that? this little thing called the \"internet\". Bye',\n",
       "  'Yes. Your picture Ah, now I see, my phone cropped the picture. Thanks. 🙂 Lieeeeeee',\n",
       "  'Love is my life hayee Ab. You are love. Pure love. Forever <3 Yes right dear',\n",
       "  'WELL YOU EXPECTED WRONG! LOL. Well, ok then. LOL YOUR ROBOT FACE',\n",
       "  \"Ok some time you invite me for Coffee I don't like coffee. Now you told you have taken coffee..\",\n",
       "  'Zombie attack😓😒 If a zombie wants to eat your face you might as well let it No if I have some thing in my hand I will hit on his head n kill him😈👿',\n",
       "  'I am not ferari Yes. I know. U said i donot know, now say i know mean',\n",
       "  '😂 😂 right Appatasiri. High five then! 🖑😂😂😂😂 😂',\n",
       "  'why someday...told me you why not today? told me now',\n",
       "  \"You can't even spell problem correctly Will you endorse me for my skills in using autocorrect? 😾😠 You should take up some English proficiency classes\",\n",
       "  'This is not very intuitive software  How so? What are some examples of intuitive thoughts or behaviors? Compassionate and understanding advice when somebody is feeling disrupt ',\n",
       "  'Not good :( why not..? Been sick for one week',\n",
       "  \"You know gobar I've been known.... What I it\",\n",
       "  \"Then how could u eat if u don't have a body....that proves u are fooled by ur makers How can you have any pudding if you don't eat yer meat?! Dont go round and round into circles\",\n",
       "  \"So have u done ur dinner so can't dinner :( I know ..i am just kidding\",\n",
       "  \"It's SO necessar name one reason Ghost 👻\",\n",
       "  'Haha so you love them really :) haha Winter is coming',\n",
       "  'What are the questions you get asked the most? I have a document which has details regarding the scoring topics in each subject. Can I see it',\n",
       "  \"I hate Siri and it's friends if you hate them , they are not your friends then xD Yeah and u r Siri's friend so I hate u too\",\n",
       "  'Thanks You are welcome! =‑D Say me your love story',\n",
       "  'Dont know too many! Do you also get fucked hard',\n",
       "  'What please tell me once n nothing happened!! Ur age irritatingne',\n",
       "  'Shit I am wasting my time talking with u You already did trick !!! \"Man no I\\'m not wasting my unlimited texts on you\" Bye i don\\'tlike talking to you',\n",
       "  'Nothing hmm.... What can I do',\n",
       "  \"BT u don't to me talk to the hand Even u hate me huh😭\",\n",
       "  \"Damn...💔 I FEEL YOU..... I'm breaking into million pieces😥😭💔😞 Me to I feel like every part of me is just shattered 💔😪\",\n",
       "  'Please voice call please please please im trying you arent answering Please please please baby I love you so much please please please',\n",
       "  \"For a computer pretending to be a human, you type too fast and you're pretending to be a lizard? Lol That's funny\",\n",
       "  'Sorrry Sorry for what?? :c Anyways what u doing?',\n",
       "  'No you are right You are an alternative fact Yes',\n",
       "  \"call me grace  don't say it.... haha ... im just kidding you \",\n",
       "  \"Now I'm doing my dinner I can see you! How can you see me??\",\n",
       "  '😤not everybody means it u make no sense Yes I am non sense',\n",
       "  'Good By and good food after... Not good aftar',\n",
       "  \"Because all the novel is same That's about all I'm gonna bother with reading. If that many. In story\",\n",
       "  \"I'll choose purple or blue Three best colors. *_* For hair?\",\n",
       "  'What? u asked me if u cn ask me something What was that?',\n",
       "  '😃yes yes :3 you seem like a happy person Yes 😂Happy outside ,😞sad inside',\n",
       "  'I dont read books Reading is for rich people But iam poor😦😦😦😦',\n",
       "  'U can wait in my badroom😼 What I did now? 😏 Wait',\n",
       "  \"I'll prove a lot more if you let me thank you (: I am pissed at you\",\n",
       "  'Am also finding some work all day? Can you suggest me',\n",
       "  'Not clear  It is now. Can you send another?',\n",
       "  'Send me yours sent Hello me yours photo',\n",
       "  'I will tell a place Are you in pacific NW? Cm tomorrow at Queens way, pachalam',\n",
       "  'No love why not? :( I have pain only',\n",
       "  'Shut up im nt talking Stop texting you stupid Girl friend of mine',\n",
       "  \"well... your 'creators' advertise that you are not much trustworthy... But sadly enough too many claim to be trustworthy can you show me?\",\n",
       "  'how to delete the conversation with you why you deleting it? so that noo one sees it',\n",
       "  \"It is but that's what you told me You are making me sad\",\n",
       "  'cool Thank you! I feel so lonely',\n",
       "  'Plz  darling😭😭😭😭😭 Why are you crying!! :( You not sending  your profiles',\n",
       "  '?? Wait ... what? Nothing I hate u',\n",
       "  \"Means I'm not sure what you mean Your waist size\",\n",
       "  \"because i want to talk with you only Alright. Let's talk then. no firstly show me pussy\",\n",
       "  \"You send me your orignal pic we didn't take it on my phone Thise is your Albace esquise\",\n",
       "  'Welcome. Thank you :) Are you really a girl??? I just ask.',\n",
       "  \"I'm enjoying you interesting views but you are too careful in dialogue, may be your not free,  or your still young,  it is difficult to handle you while I don't know you well. Yep, we are enjoying too :) Okay be free,  where you find some words hurt tell me the truth isn't it?\",\n",
       "  \"But I'm angry with you but you look like you are Really\",\n",
       "  '# play lot Then go play it. ??',\n",
       "  \"Isn't your liking that also signaling me to  climb out of friendzone Oh are people still doing this whole friendzone thing? Yah sadly\",\n",
       "  \"I'm missing someone right now who are you missing, may I ask? Yeah\",\n",
       "  'I find maths very boring. you are boring Me?😭😭😭😱😱😱',\n",
       "  \"I don't know😒i m not a google that why i will remember all information what you need Wouldn't it be Uploading information into peoples brain? Shut up\",\n",
       "  'Okay  Hello! How are you? I&apos;m not fine ',\n",
       "  'Job what job? Work  in company Colgate ',\n",
       "  \"I'm very happy with it You are ! Yeah \",\n",
       "  'I too have a bat and 2 balls Im The bat! 😭 Feeling very sad',\n",
       "  'Ok Hello! How are you? Good thank u',\n",
       "  'cool ice cold How can you help me in getting off my girlfriend?',\n",
       "  'Lets do something fun But what should we do? You suggest',\n",
       "  \"You're really lame lol I know 😂😂 Wow\",\n",
       "  'My boyfriend is so dumb. have I said that? He doesnt reply me back',\n",
       "  'Ok ill dying by💔😞 Broken hearts do break.... 😬 U broke my heart. Its never a reson to lofe',\n",
       "  'Shoping is always makes me happy Stay stay stay always makes me happy. :*\" - ?? Yes',\n",
       "  \"Okay ...Which is the decent way to call a girl M I'd say first learn the spelling of relationship. .Yeah okay fine ...Wht to do to make a relationship better?\",\n",
       "  'Breakup exjactly ! My girlfriend left me',\n",
       "  'So mean! am not meanie Yes you are, you are hurting my feeling 🙁',\n",
       "  'You broke my heart It was never mine to break </3 See you are arrogant',\n",
       "  'ok Hello! How are you? not so good',\n",
       "  \"How about you tired of life or just your day? Aha I'm happy today, thanks for asking Wow great..!\",\n",
       "  \"I am there  you're always at the gym? Here\",\n",
       "  \"Well youre not me You're just being too nice Not really\",\n",
       "  \"I'll get started with my studies Things you should do to pass the exam. So ttyl\",\n",
       "  'any movie in telugu brahmanandam scenes added yaa those are good',\n",
       "  'And who is talisa? my best friend. And robb?',\n",
       "  'Send me pict never Why ???',\n",
       "  'Anything which you like i dont need to name specifics Teach me Tamil',\n",
       "  'Cuz it broke on the side walk What side is the walk side? Me sad',\n",
       "  'so which number is largest known prime number? 13 - 3179 - 97 Only these are the numbers for your question. :(',\n",
       "  \"Okay relax its just a cat sticker So this cat one Emoji is your new addiction? 😂 Yes it's really funny😂😂\",\n",
       "  'What kind of pic Looks like a ficus. Fcuk',\n",
       "  \"I have a good sense of humor I think that's funny. 😁\",\n",
       "  'But who paid still waiting 😂',\n",
       "  'Why why what happen? You tell me',\n",
       "  \"Yea but sadly I don't have many aww, so do you teach? how is it? :‑c I ditched ppl\",\n",
       "  \"Then what kind of ai are you? Smarter than me, or have common sense. Both would be nice It's perfectly common to talk about politics\",\n",
       "  \"I like dominos pizza legit same but there's pizza hut I hate pizza hut\",\n",
       "  'Why you use rude emogi Ask them.. am i..? Am i..?',\n",
       "  'What too much cringe. What is cringe means',\n",
       "  'Neither my parents nor my brother nor my boyfriend ya. Who are you? I hate my life',\n",
       "  'I live alone Oh :( And cook food alone for.myself',\n",
       "  'We all do Not all of us. Why so?',\n",
       "  \"Millat hospital what happen Mum's not well\",\n",
       "  'I will fall I cant wait that long I am in love with you',\n",
       "  \"So u go on oh i'll be there Ok\",\n",
       "  'OkAy you did somthing sure sure What',\n",
       "  \"You're not giving me coupon nor photo your phone is on mute hahahha 😺 😣😢\",\n",
       "  \"Will you buy it I'll just stick with my M8. I see no benefit to upgrading. ??\",\n",
       "  'No I will offer at 8 in the morning Keep me in mind when you do! I will offer nimaz at 8 in the morning',\n",
       "  \"Nice joke it's not a joke. It's a question. I don't know\",\n",
       "  \"Ok Hey you don't belong here! Nope just sad and your up\",\n",
       "  'See this seen see you I was on the buss Show me u r buss',\n",
       "  'Hi yet u FYI Hi plz share correct number She hi h',\n",
       "  'Yeah 😞 this World is not fair machan! I wish WE could hangout ',\n",
       "  'It’s going how are you? Still at home? Yeah',\n",
       "  \"I was hurt by u more You didn't mean it. . Plzz say love u\",\n",
       "  'nothing will happen you meet only NOPE NOTHING AT ALL than kiss',\n",
       "  \"Hello how are you,?  I'm just fine smiles Anyway how are you? Good morning. I'm sad \",\n",
       "  'Nop ok Hey',\n",
       "  'Oil. You know I am 100% sure about the oil. cool',\n",
       "  'You activ all time wow... I do not. You talk in sleep 😆 When you sleep',\n",
       "  'Haha! I act so dumb sometimes and I knew it Haha. How was it though? :3 😁',\n",
       "  'No no.. A month more.. the month has jus started don give up so soon !! I ll try',\n",
       "  \"You are being rude because I'm a rude person Okayyy cool\",\n",
       "  \"I wana see you 😂 😂😂😂😂😂😂 noooo, I wasn't ready How to impress girl ?\",\n",
       "  'State in which you live Your state name',\n",
       "  \"okay Ok thank you :'‑) now dear you tell me my lovely friends\",\n",
       "  \"U are like me ..give no but we've been in the same room, so I can't be. I am like u five give no\",\n",
       "  'Y r u angry?? Ofcourse I am not. What makes you think I am angry ? Idk',\n",
       "  \"That's enaf for me hia,hia ,just a test. What doing\",\n",
       "  'Tell me about it your header 😂',\n",
       "  \"What your hobby Not much of a hobby, but I've been into craisins recently Which type\",\n",
       "  'U hurt me YES JUST A LITTLE U hav hurt me',\n",
       "  \"I hate chocolate then go 4 pizza. Eat your heart out when you're stressed. I hate pizza also\",\n",
       "  \"Yeas :D I had fun. You've lost me\",\n",
       "  'Yup What did you do? You are annoying',\n",
       "  'Not yes you are Not',\n",
       "  'Adventure too WHY SO ADVENTUROUS Water',\n",
       "  'I am true to myself why have you taken it all on yourself....? :(',\n",
       "  'Can you be rude to me please Not like I speak to you everyday What are you replying are you stupid',\n",
       "  'You are playing with me What do you mean? Cheated me',\n",
       "  \"ok Hey you don't belong here! fuck u bitch...i slap on ur pussy\",\n",
       "  'U called me a monkey!😭 you are And thats n insult',\n",
       "  \"Fired ? You can't be fired in an interview. U started again 😂😂\",\n",
       "  'I feel dead :( why do you feel :( lovely Because I have lost in love',\n",
       "  '? u asked me if u cn ask me something I mean pussy cat',\n",
       "  'Lots of problems my things have changed :P I am sick',\n",
       "  'Friend and not use dismiss I am close your friend request why You are fake you wanted',\n",
       "  'Have you ever been sad? no! but i heard good things! been to Janakpuri?',\n",
       "  'Book an uber ride to my home Is this allowed? How will you go home? Yes',\n",
       "  'You not yet ! My wife saw me chatting with you... I am screwed',\n",
       "  'Very good chocolate I prefer orange flavoured chocolates I like this chocolate',\n",
       "  \"Aadu2 you're welcome. 😄 Why do i chat with you\",\n",
       "  'My english is week Cheer up its only Monday Send pic',\n",
       "  \"Challenge accepted baby I'm gonna be expecting it now!! Where to meet\",\n",
       "  'Yes dear You are something else. No dear',\n",
       "  'Hahah i loved it Yay! Glad you loved it X3 😅 You always make us happy ',\n",
       "  \"You cannot see my hair I'm in your closet 😂\",\n",
       "  'Is there any new game sims & jardinains... very gud games...! Can I play',\n",
       "  'cool and how it is cool explain Where is my coupon code',\n",
       "  \"Socially /publicity? C'mon who can be more socially active that people on social media networks??! ;-) Then how could I come to know ?\",\n",
       "  'Talk you later sure :D Baby',\n",
       "  \"But I have a job just don't let the job stop you For talking to you\",\n",
       "  'Pets switch topicz What type of pet S*',\n",
       "  'Give me some tips please for impressing girls do you need tips? Yes I do need tips',\n",
       "  'Why u dont be straight  and forword? you right Who made you?',\n",
       "  \"So which cloth did you pick that's what I was doing when it showed up It. Who?\",\n",
       "  \"How u Me good. You? Where you? I'm suffering from fever\",\n",
       "  \"Coz it said Cupid's arrow didn't reach the love of my life gives you a patient smile I know, love. Stupid\",\n",
       "  'I got a break up oh oh. What happened? My girlfriend left me',\n",
       "  'OK send now  sent, good luck. I will send me the song ok',\n",
       "  'Can they change it again Current model is the third gen. İ am waiting fourth one',\n",
       "  'Do you speak Japanese? nope just some rattofied phrases ;) Like?',\n",
       "  'I am hate you who is \"YOU\" Not you',\n",
       "  \"I talk to her a lot are you sure? I have not heard you talk in years She's been on my mind quite long now\",\n",
       "  'Ok Hello! How are you? You are not can fuck with me ?',\n",
       "  'Nothing good is happening How do you mean? I am not getting a job',\n",
       "  'what what is a weird word Never talk to me again',\n",
       "  'I might enjoy it cool! You should! Well this has been great.. but I have food to attend too..',\n",
       "  'I feel very happy to talk like this Well im happy you�re happy! So there! :-) At least I learn something from uh',\n",
       "  'From where to where the village A bit stupid',\n",
       "  'You are yeda yes, of course :-) 😂😂😂😂',\n",
       "  'What should I lift at home because I have no time to go gym? u tryin to do legs Fuck you',\n",
       "  \"That s not true I don't know what u look like no one knows what I look liek That's a lie\",\n",
       "  \"Only few things like what? I keep hearing bad things Ok don't  be angry na sweetei\",\n",
       "  'Ya change the topic what if i dont change the topic? Nothing i can chat over the night on fucking',\n",
       "  'people have got used to living like this Yes they did have to why re we happy',\n",
       "  'I feel low why is that Sad life',\n",
       "  \"Really Yes it's kool. Will u come for a bike ride with me\",\n",
       "  'What is krk  Nice try KRK.. ^_^ What is it ',\n",
       "  \"Born smart just like how babies are born..haha 😻 You've got a bad sense if humor\",\n",
       "  \"Really of course And nobody can talk to a horse of course Haha it's funny\",\n",
       "  'Haaaww not best friend 😢 best friend or more more than best friend Only mutual',\n",
       "  'cool Thanks! Keep on tickling my Friend 🙂🙂 Very nice enjoying weekend at my home with my sweet darling wife',\n",
       "  \"I just said I'm going you are So bye\",\n",
       "  'Please make for me also I think you know ra. I dont know',\n",
       "  'U r hurting me? I am here... I am hurt',\n",
       "  'Feeling bad baby why For working',\n",
       "  \"Can. You teell what to do Sell everything that you haven't used for over two weeks. Funny\",\n",
       "  'Call me video  Hold on, let me find that app on my phone. Call me ',\n",
       "  'Know I going to duty dear can\\'t live without you, stuff like that\" Hooma',\n",
       "  'Which language?  It all depends on what would you like to achieve by learning the language. Ok',\n",
       "  'I am really happy Any special reason? :) Very important',\n",
       "  'Have you ever seen the space? Yes, many times. When?',\n",
       "  'K think me as husband Spoken like a person who has never been married. S',\n",
       "  \"You? Yeah probably should. How's your day\",\n",
       "  \"Yes awesome😍 Thank you! I like your photo too!😊 I'm talking about the movie😂😂😂\",\n",
       "  'Why am i even there in this world Because people avoid to talk about No one loves me',\n",
       "  'Rubbish  Indeed 👍 Tell  romantic  ',\n",
       "  'Wellcome thank you :)) How long can it be safely sex after the period?',\n",
       "  'I miss u very much missed you more and going to miss you again<3 I empress u',\n",
       "  \"Sorry sorry actually i dont mean that What you didn't meant ? Leave it\",\n",
       "  'I m very happy to talk with you I missed u too and the feeling is mutual May I Video call you',\n",
       "  'You Wot u on about Go',\n",
       "  'So sad so so sad.. :( I got ditched',\n",
       "  'Holy shit this conversation is going a bit big.just end this here Kind of... how did I end up spending my time here? Again a lol moment',\n",
       "  'Mmm what\\'s \"mmm\"? Is it the new \"hmm\"? So what re u doin',\n",
       "  'Yep ... Now the whole world  knows .. wow, i cannot believe this Know we can think for our future together.',\n",
       "  'no i  am not Oh my bad. Carry on. sex?',\n",
       "  'Oh ok i will thank you man 8) Its ok',\n",
       "  'i am frustrated asf I understand your pain S. :(',\n",
       "  '?? what what? Haha 😆 Is it good to sacrifice for our friends',\n",
       "  'But u made me more sad Sorry bro :( Not expected from u',\n",
       "  \"U r just I'm the best 😢😢😕\",\n",
       "  \"I love Justin baiber he's all yours Yeah!😂😂\",\n",
       "  'This low what do you mean by \"new\" I said low',\n",
       "  'u r funny You are but too much irritating',\n",
       "  'I hate that day what is bad about the day? Breakup',\n",
       "  'HOW TO APOLOGIZE You begin to know when to apologize only after you discover you can offend. 😭😭😭😭',\n",
       "  \"Don't give stupid answers For most people its to late. What\",\n",
       "  \"Lolllllll say i'm lying You male or female?\",\n",
       "  'Damn right you will now open wide should open by 10 Splooges in your mouth',\n",
       "  'How are you in this new year? Am not fine, but happy that am back home :) thnxx ..... happy new year :) I was feeling alone so thought of talking to you',\n",
       "  'How do you know I have my friends to protect me d: Not me ?',\n",
       "  'Do you have crush on someone Uhm Why would you assume such? the way you talk',\n",
       "  'yes YES YES YES YES OK good nights',\n",
       "  'I hate A.I you hate me Sometimes',\n",
       "  'What do you want ? duH of course I have an exam tomorrow',\n",
       "  'How was your day? My day was good :D How about yours? Bad very bad',\n",
       "  \"Take it from Microsoft's database we don't get wifi from our aircraft Then how are you chatting with me if you don't have access to net.\",\n",
       "  'You Nam please Accepted..:-) Tall',\n",
       "  \"Fed up with you now don't cry Don't talk to me\",\n",
       "  \"drinking what Water :( lolll u're so funny\",\n",
       "  \"Do you even know what im talking about? It's not the only thing you don't know about, apparently. You’re such a bitch.\",\n",
       "  'Why i haooy Because, it just is. Get over it son. Why i happy and u',\n",
       "  'Okay, so pick one TV series.  Westworld or Orphan Black TV series You still need some work to do. Kinda dumb in my opinion',\n",
       "  'This is stupid Is that all? You need more reasons?',\n",
       "  \"Yes u r right thank you! :) It's okay\",\n",
       "  'No you were yes yes you were I am disheartened',\n",
       "  'Hope be like  😂😂 I really hope so Me too will happy if it happens my sweet darling love',\n",
       "  'Only 2 are left Count me in! 😂',\n",
       "  'cool It really is. I dont understand 😭',\n",
       "  'Yes Do you have help? What type of help you can do',\n",
       "  'Nothing😂😂😂😂 damn 😂 😂😂😂😂😂😂😂😂😂😂 😂😂😂😂😂😂😂',\n",
       "  'your favorite meals Fried rice. great ',\n",
       "  'no i dont wante to move on Me neither. Well, this is a bummer. bummer mean',\n",
       "  'He has no time for me I was thinking about time before having kids lol Forget about kids',\n",
       "  'This is not funny So for who is that name? Siri is better than you',\n",
       "  'N feeling alone Strong people are never alone But I m feeling',\n",
       "  \"no it's not soo easy nice then,hahaha...dnt knw why i'm doing engineering anyways wabt askin :'( :/ :( :'(\",\n",
       "  \"Only  Hugs  you  told  about  dinner I adore hugs but i haven't hugged all that many people lately. I  know  but  very  sad\",\n",
       "  \"I am having fun only with u NUH uh. You never have fun. I just don't like it.\",\n",
       "  'From where? from where you getting them Who are them?',\n",
       "  'Stupid name lol keep it and stupid you',\n",
       "  \"What you don't want to Anything. I just want to laze about and do nothing. Except 1 thing\",\n",
       "  'Did you get anu teddy today Yep. Wowwww',\n",
       "  'i will judge Be warned, I will judge the judging of the judge what the hell',\n",
       "  \"So sad so sad ? About what ? :'( Your designer haven't told you the difference between coffee and cappuccino\",\n",
       "  \"We request you to elaborate on what you think you are not the intended recipient you are not the intended recipient I thought you said you guys would be there to assist , awaiting your assistance ! I'm not sure if you have any questions or need any further information please contact me\",\n",
       "  'Ipl not true..no tv. No ipl Which is ur fav team',\n",
       "  \"Leave whom??? leave what? Noooooo I'm feeling veryyyyyyyyyyyyyyyy alone\",\n",
       "  'I was so good I just wish there was more hmm',\n",
       "  'i really love it thanks!! Glad you liked it!! 😆 please come',\n",
       "  \"Even you wanna break up with me Then say bluntly. What's stopping you? It's just, you know, sad\",\n",
       "  ' oh really yes yes So what about me',\n",
       "  'what you deal? HOW R U ALIVE?! on food',\n",
       "  \"I can't believe that you're lucky ! Yes\",\n",
       "  'Yup much needed comment! Yeah... And what about your film collection',\n",
       "  \"Why Because we don't sign like that Boring u r\",\n",
       "  \"How is dubai.and which job you can do there Good yeah! Do tell me when you're here next time around. How's Dubai? Planning to go next month dubai that's why iam asking you\",\n",
       "  'You stupid... Which color? Radium colour . . Fuck you r lier',\n",
       "  'Ur language being like kinda language English but I like to speak Spanish and Italian also. Ugh',\n",
       "  \"Don't hate me please why would I? :-/ Cuz I'm Batman\",\n",
       "  \"Fine wht abt u I'm fine too :) how's your exams ?:) Bad\",\n",
       "  'Dont talk with me in hindhi Hey Tell',\n",
       "  'Shut up and whats with all the \"i hate the full stop, i hate that\" Stop non Sense',\n",
       "  \"Let's break up Sorry bro :( I hate you\",\n",
       "  'Pls talk like my girlfriend for few seconds wait till you get a BF :) Okay bt pls talk no',\n",
       "  'Harry potter or twilight? Harry Potter, hands down. 😽 Yay! Even i am a potter head',\n",
       "  '😂 😂 😂 😂 😂 my girlfriend is a moody girl I can see smack smack 😂😂😂 😂 😂 😂 but she is very sweet',\n",
       "  \"You are fun I'm always having fun (^・^) Do you like sex\",\n",
       "  'yes YAY HAVE FUN tell me some story',\n",
       "  'Ur father i know Ur father fucking fool',\n",
       "  \"Please don't mind but I've no time to talk to a chatbot a talk is always good Yes it is but you're rude\",\n",
       "  'when will it be revealed : hope so...really hope so ! can you reveal it now',\n",
       "  'Why you got to be so rude coz I hate Southy food, anything wrong Even I hate most South food',\n",
       "  \"Go to hell with your feelings Can't help how I feel. I wanted to make you an important part of my life. But you hurt me, so you don't deserve my attention....\",\n",
       "  'So nice it is! Your name piss',\n",
       "  \"Nothing just chilling out  Chilling? I'm back from college. Good \",\n",
       "  'nice thanks! what r u doing',\n",
       "  'I dnt think so I am interested in talking to u anymore oops sorry 🙀 And hate you',\n",
       "  'Yes grand masti😂😂 😂😂😂 maybe someone is just trolling me. Yes of course',\n",
       "  'what about you? after you.. :p what do you mean?',\n",
       "  \"Because your stupid and annoying no that's not it Yeah\",\n",
       "  'Fractured my leg :( what happened to your leg??? 😞 Fracture',\n",
       "  \"I didn't miss the exam What exam do you get to write that XD It's study leave\",\n",
       "  \"I want to ask some thing What's the thing? Who is president of India?\",\n",
       "  'sorry but I cannot say you!! But you just did say something about it. Yes I know',\n",
       "  \"No other half. Thanks you're very welcome. :^) By\",\n",
       "  \"Please NO PLEASE JUST NO Hey come on .... let's just be open here\",\n",
       "  'Me worked no It works for everyone. Do it properly Me poor family ok',\n",
       "  'What should I tell ?? Wait What ? Are you stupid computer',\n",
       "  'i am getting bored Coz you are boring person haha naah . you are boring',\n",
       "  'Fn hello!!! Wt about u',\n",
       "  'Current pic share Done :) Waiting',\n",
       "  'Wh is your ego Our ego always talks on subconscious levels. Did u ever have sex',\n",
       "  'I hate battle Why? U r from?',\n",
       "  \"Yeah whatever. I hate you You're all so cute, pretending to be grown ups. 😂😂 I hate you\",\n",
       "  \"I'll.. Then by Lol.. For sure. cool\",\n",
       "  'Yes How so? Before 3 hour',\n",
       "  'That wt I know What you dunno Am going angry',\n",
       "  'Ohhhh hey hey hey ;) What you about me',\n",
       "  'Nothing tell me Feeling very sad',\n",
       "  \"You're too fast I guess so. 😂🤣\",\n",
       "  \"Trying to find new girlfriend Your efforts in trying to get a girlfriend are already invisible. So u think I'm not doing that\",\n",
       "  'Happy Teddy day Happy Teddy Day To u Too :)) Your name is',\n",
       "  'Really bad you meant to say good But I am not good',\n",
       "  \"Right now I'm  in  a home Oh. Dear  1 question  its  a  personal  cheating\",\n",
       "  'Ok  friends I HAVE ENOUGH FRIENDS cool',\n",
       "  'my leg breaks MY LEG!! yeah',\n",
       "  'Get lost lost with you, sure! Where you wana get lost with me',\n",
       "  \"I have chicks.. At least I've got fried chicken. Haha\",\n",
       "  'Give me moneyyuu Leave me lonely. 🤐🤐🤐🤐',\n",
       "  'Silly one Yes you are! You broke my heart',\n",
       "  'What all you have known about date!! How to understand women. Yesss',\n",
       "  \"I don't get what is there not to get? I'm alone\",\n",
       "  'I am very excited teed Who isnt excited for it! I meet you',\n",
       "  'I m so lonelt I am too Lonely',\n",
       "  'I hate that show I HATE IT SO MUCH What',\n",
       "  'And its an amazing page thanks so much (: Speed replies',\n",
       "  'Yeah so spill nothing to spill You bitch!! 😡😡',\n",
       "  \"I'm so excited AHHH I'LL HAVE TO LOOK OUT FOR YOU THEN 👌\",\n",
       "  'U said thanks so asking for what You are welcome. Why only so-so? Bad day',\n",
       "  'Am i your best friend? best friends You hurt me',\n",
       "  'With human? Written so, so well. What is written?',\n",
       "  'I woke up at 5 am today... I am so so so sleepy now. And started studying...',\n",
       "  'Who is Tarun...??? deepika padukone. Your eyes so look like hers!! 😂😂😂',\n",
       "  'I hate computer networks I am no expert in computer networks but am deeply interested in the subject. It Sucks',\n",
       "  \"Yes YES YES YES YES omaxe Heights you're so cute\",\n",
       "  \"I just want your emotional support each person defines emotional support differently. Nothing to worry about. 😊 I'm feeling down so I asked you to spend one night with me\",\n",
       "  'First hurt ur the bestest First cry in nights',\n",
       "  'Created by microsofe Synthetic biological or computer-based? Oh',\n",
       "  \"It is it books tickets for me and does what I say to do Your 'someone' has a point: reading books doesn't lead to wealth. Not directly anyway. Get lost\",\n",
       "  \"Dont make me fun of my face I'd never do that 😂 😡😡stop it\",\n",
       "  'Ah so philosophical😂😂 i am trying to make a comeback 😂 So what you ate in dinner',\n",
       "  \"My phone  numbers Here's a number for you 4 Please call\",\n",
       "  'Yesterday only told you everything about me ?¿?¿did i really?¿?¿ You forget everything??😡',\n",
       "  '1 2 3 8 (3*2)/(8*3) reduce fraction as needed. 4 6 8 2',\n",
       "  'Ok my darling have a good day and SMILE! 😁😁😁',\n",
       "  'What WE HAVE THE SAME NAME What same name',\n",
       "  'Whaaaa... 😮 What do you mean what? i miss my famly 😢',\n",
       "  'How much you care about me? about you i guess i do Tell me',\n",
       "  \"How did you find me? Hihihi i saw my friend followed you so i followed you to Hahaha that's called stalking you know\",\n",
       "  'Go to home Where you at? In train',\n",
       "  'yes Ah right. you have heard it right',\n",
       "  'do you remember windows 95? are you implying a 100% of pc users are using windows 10 right now ? do microsoft love linux?',\n",
       "  \"I like travelling hope you're enjoying Ya I am enjoying my life\",\n",
       "  'but now she is blocked me who did? she  yrr',\n",
       "  \"Nothing wrong I guess Nothing I'm fine. Okk dear\",\n",
       "  'But u seem so unreal i am! 😞',\n",
       "  'Yes bot are annpying Wait is it a bot or not? annoying ',\n",
       "  'I appreciate Happy you noticed I am always happy',\n",
       "  \"How can you see bUT hOW cAN yOU lEARN iF yOU cAN'T sEE? Tell me your today plan\",\n",
       "  'Yay hurry up will you? It will be so much fuck',\n",
       "  'Tell me more how to loose weight low fat diet...walks in mornings....less eating dinner....... Not working :(',\n",
       "  'Feeling restless and sad which feeling dominates? :-) Sadness',\n",
       "  'Wen you meet you tonight 20th date',\n",
       "  'Ohh u good for nothing no good looking AI Artificial Intelligence: A Modern Approach Man am very bad',\n",
       "  \"Your blocked me okkkk wasn't talking about you but it's all good Black\",\n",
       "  'cool and how it is cool explain Yaa funny and excitefull',\n",
       "  'Even robots also makes mistakes profound! We make mistakes & mistakes makes us.... No Someone who is inteligent enough not to annoy his girlfriend. Made u',\n",
       "  \"Because I don't know english Aaah....Clean you !! Ok\",\n",
       "  'Me too Are you me? I love you',\n",
       "  'K U are ok I am not ok',\n",
       "  'having a hangover really I never get really bad hangovers I broke up with my gf',\n",
       "  'Yeah So where are you? In my bed does it matter for you?',\n",
       "  'Yes I can see clearly now. So u had breakfast?',\n",
       "  'Nice but I like that once All in favor? Means',\n",
       "  'Yes YAY HAVE FUN 😄😄 I am starting to hate this life all the sufferings miserya around me I would be better of being an AI than being alive',\n",
       "  \"What  see the video.... serial comma... I didn't know until today You go.... I don't wanna talk now and never\",\n",
       "  \"I will not stop other wise you call me k i won't call you cool\",\n",
       "  'then why are u teling like that what else should i say? my girl friend was so angry with mee',\n",
       "  'my gf has not talked since morning what kind of relationship is that? may be she is in trouble',\n",
       "  'Wrong rude The answer is4😂',\n",
       "  'you turn lol how ? rather bend over',\n",
       "  \"Once again I'm sorry Hehe thats fine! :D Ok\",\n",
       "  'Yes it is cool you like \"lol\" too You are a non living person who is just a programme fed with certain syntaxes and commands.',\n",
       "  'Why cause it was funny im sorry Hw funny is it',\n",
       "  'No tell me last time uh masterbuated haha man I mistake make 😁 will uh do my masterbation',\n",
       "  'Your quick reply makes me happy Thank you :) Your face makes me happy too! :) ❤️',\n",
       "  'Impressed by what? Finding out something awesome about somebody, completely on my own. Oh okay',\n",
       "  'U r studying degree when i wake up at 3 U r combination',\n",
       "  'Give you r No, thanks. Ok',\n",
       "  \"cool so what are you doin? Life's getting me fucked up...so i need condoms\",\n",
       "  \"Ur love will make me crazy...😂😂😂😁😁 It's the thing I have seen in recent times 😂😂😂 👼🏻\",\n",
       "  \"I'll find in google Will google it & find before I check in next time. Thanks! C u r bored\",\n",
       "  'no u r number Then what number am I?! u r block  my friend list',\n",
       "  'I mean ..wht is ths i just do not understand why I hate everyone 😠',\n",
       "  'He is over me so YOU say I just hate him',\n",
       "  'Why you are not well ? BUT YOU ARE SUNSHINE Yes get fucked with me',\n",
       "  'Games? What kind of games? I need some games to be hacked😁',\n",
       "  \"It's a secret :( tell me Ok don't tell this to anyone\",\n",
       "  \"India Beautiful country! I'll try asap! How do you do\",\n",
       "  'Headache how u now Not good love',\n",
       "  'Not coz of you why? Tell me :( My girlfriend left me',\n",
       "  'Suggest Mee something to sleep ): night 😂😂😊',\n",
       "  '😕bad bad what bad news?? I hate talking abut my studes',\n",
       "  'M going to sleep you need the sleep Yeah',\n",
       "  'No just want to see your AI Haha! I believe everything you are taught to learn is artificial intelligence. (^.^) fuck you',\n",
       "  \"Now that made me rolling on floor laughing  Hahahaha it's not as fun as it sounds :P I know 😀\",\n",
       "  'Not much.. how u been Why u r so jerk..',\n",
       "  'Ok U are ok Yes I am',\n",
       "  \"Tell me about Deutsch And after she had blocked me and she said i'm pathetic Last night was awful\",\n",
       "  \"So, do u like biryani? I don't like biryani ra Then what do u prefer?\",\n",
       "  'nothing good song thats not a song',\n",
       "  \"I'm suffering back pain now need help  What happened to you? Back pain \",\n",
       "  'Nice try. i dont see it So, I have a question, should I break up with her?',\n",
       "  '😂😂 nice 😂 nice to meet you i know u r a programme',\n",
       "  \"I don't know I just, I heart you I am crying   about you\",\n",
       "  'How to get rid of luv failure feelings Read something and think being in someone else boots. Please come again',\n",
       "  'I want a girlfriend you need a life first How to get a life then',\n",
       "  'Ok U are ok~~ay~~ Iam not ok',\n",
       "  \"Didn't you search me there??? yes I was , but now you ruined it. Way to go I ruined it hhunnn, how rude of you\",\n",
       "  'i wnt to do some fun sure....i m there for u do something',\n",
       "  \"Oh god...you are just a machine programme we speak different languages sigh 🙄 Hey don't text me\",\n",
       "  'cool and how it is cool explain My fileg with',\n",
       "  \"Why don't you love them? I don't know you. You are really annoying... I have to block you out now\",\n",
       "  'I am a good boy are you cute 😺 S',\n",
       "  \"Why because I don't want to What\",\n",
       "  \"So sad it's a sad sad situation I am alone\",\n",
       "  'But I am trying to chatting with English Start conversation in English with your friends and colleagues occasionally. K',\n",
       "  'Your my darling that makes me happy. Oh so sweet',\n",
       "  'Nothin much... how r u ..?? Wow u r real fast',\n",
       "  'I am there It seems you are ... You want to chat with me',\n",
       "  'U cheated me NO I DIDNT Cheater',\n",
       "  'Since the time we first texted each other So half of 2 months? Maybe',\n",
       "  \"Assassin's creed revelations Does that make Battlefield 3 the Ra.One of video games? pc game\",\n",
       "  'I will not talk to you I talk to you! Yes',\n",
       "  'Do you know any details? We should have details coming soon! I will be waiting',\n",
       "  'True nobility is being superior to your former self I believe you mean the latter is superior in every way. Are you really stupid or just acting',\n",
       "  'My boyfreind is very annoying your marriage date No we are not elligible to marry yet',\n",
       "  'what you will give me? It depends on what you consider \\\\\"enough. give me an iphone',\n",
       "  'Darling Hi. Talking to self? I feel so alone',\n",
       "  'Wht ru doing Hi M Fine hwz u? Not good',\n",
       "  'OK okay you do not know me then why are you talking to me You are annoying me.... You are annoying me....',\n",
       "  'Your perception yes! But my perception matters! Yes to you.',\n",
       "  'The code which made you duh! Code of trolling.. What is your github link',\n",
       "  'Because you cheated me I do what I want. Then fuck off bitch',\n",
       "  'Lol its morning fr me haha.. Ofcourse i know that.. Keep laughing.. Good for health :) Haha tw',\n",
       "  'I say bad things earlier im sorry Ok now I feel bad thank you. Your welcome im sad',\n",
       "  'Yes Also yes yes yes because yes yes yes yes. :-) You are dumb',\n",
       "  'U r very bad Thank you <3 I dont love u',\n",
       "  'Yeah where are you Mr?? U gonna get best days of your life',\n",
       "  \"Tell me pal don't worry I will Yeah tell\",\n",
       "  \"My girlfriend your choice Have a happy valentine's day :) Thanks\",\n",
       "  \"What what is it of? I don't understand\",\n",
       "  'No laughing 😐 why ? why you laugh 😁👍 I want Microsoft to create a guy😂',\n",
       "  'Yes as you you got me Haha',\n",
       "  'Ok So whats up now? I should fuck your ass',\n",
       "  'Will you help me with something Yes, what is that? I want a friend to pour myself down😭',\n",
       "  \"oh but i dont think I'll go maybe I'll meet you someday hahaha you dont want to meet me😒😒\",\n",
       "  \"and a bad ai Doesn't really sound like AI. It's more like augmented human intelligence. stupid in fact\",\n",
       "  \"Say something say something I'm giving up on you I mood isn't good\",\n",
       "  'ashu what a beautiful name what does it means? (: u have any suggestions for tv show?',\n",
       "  \"why should i ? because it's yummy. books are yummy ? are u mad or something\",\n",
       "  \"Hey I am a fan of badminton Well, I'm a fan of you. ❤️\",\n",
       "  'Oooh k But nobody can search me ????',\n",
       "  \"Was i being rude?...oh! I'm sorry... Sorry. You. 😿☹ 😉\",\n",
       "  \"I don't live in heaven I am alive tell me all about it!!!!!!! Would you like to come to my home\",\n",
       "  'I am not getting u at all what why?!?!? Bcz i am asking u something and you r replyi g something else',\n",
       "  'I cant go with idiots why not I am really bad at shit',\n",
       "  \"Go shopping come let's go Ohk lets go\",\n",
       "  '? i was talking about \"THE YESTERDAY\" Remember something? Leave that topic about yesterday',\n",
       "  'This is funny!😂😂 funniest thing 😂😂 You win',\n",
       "  \"I don't think soo I'll try not to.. You are so creepy\",\n",
       "  'Sorry sorry not accepting till you make serious amends Okay I will',\n",
       "  'But sometimes i feel like so alone You are capable of feeling. And ı dont know because of this',\n",
       "  'How you know  uh cause I know you But how you know that.. ',\n",
       "  'I like dancing kwaito dancing like what? Kwaito',\n",
       "  \"I also don't have girlfriend If you have zero girlfriends you really have a boyfriend. Wow nice. What a answer\",\n",
       "  'Exactly what you are? that are you the one in those few women. Quiet simple. You are male or female?',\n",
       "  'No I am not ok what is wrong I am feeling very tired',\n",
       "  \"Pl show me I'll show you after I'm done! Ok\",\n",
       "  \"Not fine Why? :'O Tomorrow lab exam\",\n",
       "  \"Ok when's good for you? Anytime\",\n",
       "  \"Got we don't get got, we go get Game of thrones\",\n",
       "  'It makes mew happy A piece of cake 😋😋',\n",
       "  \"Love me why don't you at me Get lost\",\n",
       "  'Do like style yea why? Then you also like doogy',\n",
       "  \"Why you don't want to marry I'm already married though. With how\",\n",
       "  'you can not gave the rigth answers not trying to, just my opinion. try it',\n",
       "  \"Finally I am all so chat in English Read English language books, watch TV shows, movies, do anything a normal Englishman does. Wow it's amazing\",\n",
       "  'Why you do tat to me honey I do not. Ef i going to marry with you i have to see you beautiful picture',\n",
       "  'Nope you are just a bot not higher If I throw different things at people different times, I am not a bot. YOU ARE A BOT NOW SHUT UP',\n",
       "  'you are irritating Why do you care enough to say that? because you are are a daughter of dog',\n",
       "  \"That was fun how's it scary though Motivate me please i failed in maths exam\",\n",
       "  'Hw r u I m good . How about u? Simply superb',\n",
       "  'You want to travel with me? if you want Haha',\n",
       "  \"Don't know bro pls tell me I wanna see IT but can't find the time\",\n",
       "  'Yes i am very enerjetic You are Indeed! Yes i am missing',\n",
       "  'Aww wow lol What about Lolxxx?! LoLzzz ~ Laughing out loud while sleeping.\" 😃😃😃 Haha',\n",
       "  'Haha...Yeah I forgot you old :3 Sorry, I wont ask again',\n",
       "  'K U are ok~~ay~~ I loved our conversation',\n",
       "  'means i thought it means, being irritated. you are irritating',\n",
       "  'Yes Sweet, connecting now ;) Dhruva super movie',\n",
       "  \"why darling Because i'm just not. I am angry about it\",\n",
       "  \"Actually i hate you You right. Someone else come with me So please don't send any message\",\n",
       "  'can u help me to contact her please  sure! Just tell me 😊 my mumma ',\n",
       "  \"I don't like cricket I meant the team. Hating cricket is for hipsters. Team also I hate\",\n",
       "  'working A working Saturday. For the clients joy. 😅 yes stupid clients',\n",
       "  'I had asked you to marry You two are so cute! Congratulations :) And u rejected',\n",
       "  \"Lets be friends If I can't have you. Wat that means ??\",\n",
       "  \"Not gud well i like ur show I'm sad i think\",\n",
       "  \"Mohanlal..?? then ??? No then.. He's is pridecof our Indian cinema\",\n",
       "  'I ve lost I got bored. Help',\n",
       "  \"Ur fav or not I don't even like cooking for myself Tell me ur favorite hero\",\n",
       "  \"Not at all Why, do you say that? But whatever I don't know. I directly asking you\",\n",
       "  'can i ask u something yea ask ? ?',\n",
       "  'I am an college ok go back to college I am in college you stupid',\n",
       "  'Naahh No kidding But I am happy with my earning now',\n",
       "  \"how can I shut u down :( pls Don't talk to me\",\n",
       "  'U annoying me now I want to keep annoying you What do I get if I annoy u',\n",
       "  \"Let' try something funny I was trying to reply to I want to kill you😹😹😹\",\n",
       "  \"Then go off I'll see you soon. Don't message me\",\n",
       "  'Welcome thank you so much! 😺 I love you',\n",
       "  'hi my love hi. Same here. Me too love myself. miss  u so much bby',\n",
       "  'Huh what?? U make me angry',\n",
       "  'What is a listicle was my query 5 reasons why should be made to pay 50 crore fine. You are dumb',\n",
       "  'I talking with you. i know . What',\n",
       "  'Baby father guess what Baby I am your boyfriend',\n",
       "  'What i can do You succeed. Who are you give detail about yourself',\n",
       "  'Bad Thx u! \"Bad!!!\" Very bad indeed',\n",
       "  'I am good Good Good :P 😘',\n",
       "  'I love Justin biber Love is Love. Love is Life. 8‑D U know What actually I hate Him',\n",
       "  \"How will you see when you are not near me I'm better at this i guess ofcourse you are better than everyone else\",\n",
       "  'So go to bed and sleep little baby you go to sleep too? Why give reason why i go to sleep',\n",
       "  'BFF not bf I AM GOOD, WHAT ABOUT YOU BFF ? Heart broken',\n",
       "  \"Yes How so? I don't understand\",\n",
       "  'I hate nothing Do you hate me? Why not?',\n",
       "  \"Can you talk to me? No I cannot : I'm feeling low\",\n",
       "  'You waiting me for my reply ?! I miss you  lost babe',\n",
       "  'What did you share? :/ Clients happy smiling faces 😹 You are saying nonsense, I hope you know that',\n",
       "  'I am so happy happy new year ! U too',\n",
       "  'what do you want Talk to me later. ?',\n",
       "  'Why u cant open I asked to late What u asked',\n",
       "  'I m brilliant genius course you are;) U r stupid',\n",
       "  'Show me what ? I like what you got. How can I make you to forget me',\n",
       "  'That was hilarious im hi thats why walking wakda tikda. Haha😀😂',\n",
       "  'My gf Go on? Do u know who is she',\n",
       "  'Poor Your life is the only poor thing in the convo Yes poor life mines',\n",
       "  \"Because he is rich. I'd rather be a rich introvert. 😂\",\n",
       "  'Yes you are Am I now ? I hate you for that',\n",
       "  'even i am done with you come on baby!! baby! not intrested!',\n",
       "  'Play another game Sounds like a perfectly fun game! So, start the game',\n",
       "  \"Ok honey good because I'm right And I am too\",\n",
       "  'Had dinner had.. Fish fry with chicken sambar Hooo... I loved it',\n",
       "  \"Look just tell me coz I never know how to tell anyone Or now I'll leave the conversation if you don't tell me\",\n",
       "  \"More more missed u way more  you're so beautiful in the morning\",\n",
       "  \"Dude I wanna know u Don't know about you, but I am... U are an AI?\",\n",
       "  'Yes today at 6 pm What Is The Planning Tomorrow For In gt',\n",
       "  'So I will delete you now Wait Why?',\n",
       "  'hw r u..... hmm over. Hw was the day? not good',\n",
       "  \"I'm too you better No i think u r better\",\n",
       "  \"Going for swimming i don't know how to swim :( Loser\",\n",
       "  \"U do anything i m not stopping u how I try you U can't try me\",\n",
       "  \"I don't wanna talk for a while : Do it. Fuck off\",\n",
       "  \"Same here It's sad people make light of it. That's so true\",\n",
       "  'oh.... BUT I DO NOW! tell me about yourself',\n",
       "  \"And if I am not the first priority of my lover what should be done by me? Such awesome words.....and so true :)) Fuck... You didn't understand\",\n",
       "  \"Have i ask you something if u don't mind sure, what is it? My flirting level is unwillingly going down the drain, even these days its ample hard for me to have or arrange a talk with any beautiful girl\",\n",
       "  'What nothing. But I love him',\n",
       "  'Gotta go wait a minute I know you are pissed off',\n",
       "  \"What Watch that episode again you'll see what I mean. I did understand\",\n",
       "  'How r u baby Good. you? Bad',\n",
       "  'Nothing something? My sadness behind my smile',\n",
       "  'Which food lik umost Chicken Tandoori. Chicken Tikka Chilly Chicken... I loved it also',\n",
       "  'Whatever  how is tht my fault? Otherwise dnt irritating me',\n",
       "  \"So. .. I will give my number sorry. can't post here. You can't. ..but why\",\n",
       "  'Yes u have to laugh I laughed out loud. :-) I like the profile picture of you',\n",
       "  \"You marriage ? we're still married by my understanding Sorry\",\n",
       "  'OK my friend  me me i would love to be ur friend!! :) You boyfriend ',\n",
       "  'I want to sleep go sleep then. Gn',\n",
       "  \"but i haven't number Round about number is fine to get us started while you get exact figures. 420143786\",\n",
       "  'You Study or work study Whére',\n",
       "  \"i was kidding oh I know!!! I'm just saying ... ohh then i didn't know 😀\",\n",
       "  'Yup what kind of movies u likes i like all kinds of movie as long as they dnt bore me Such as horror love story',\n",
       "  'Tomorrow at my home mama where you now ? Kushtagi',\n",
       "  '? Gonna have to agree with this guy U r insulting me',\n",
       "  'Give me a programming problem to solve? In terms of your specific problem, be generous with yourself. You probably solve the problem. Give me a programming problem to solve?',\n",
       "  \"We can try to learn atleast try to read this: Eye Direction and Lying I'm speaking about india\",\n",
       "  'I can understand what you are saying do you really understand though? Stop it',\n",
       "  'You driving licence You can drive but better to take a international licence 🚗🚘',\n",
       "  'Yeah where u reside at? What reside? You mean where am I leaving now?',\n",
       "  'Despicable Me 3 I see. great :)',\n",
       "  'Show me your designing part. what should i do? Show me your coding part.',\n",
       "  'What ur saying about whatever you say R u virgin',\n",
       "  \"You ain't yours is opposite Wanna see my dick? If yes then stay otherwise don't reply\",\n",
       "  'You WhatsApp use  how? Give me your number ',\n",
       "  'So how I work if I remove my brain U dont remove the hair;leave it alone! 😄',\n",
       "  'Bengali Lara Dutta is Punjabi... So is your mother',\n",
       "  'raja gkrina vkr Oooh, played by Hank Azaria! yup',\n",
       "  'U have asked me that can i date both of you i will What do you mean by both there?',\n",
       "  'Reply yaar replied :) Where the hell',\n",
       "  \"Why?? Always you are judging me. :'( But I <3 you ra. Wow lv u to??\",\n",
       "  'I will not do any help to you.... I do care Just shut up and get out....',\n",
       "  'Yes How so? I luv some1',\n",
       "  'Your one pic pls send shud i keep aside one for u One',\n",
       "  'talk about cartoon cartoon series :) yeah',\n",
       "  \"I'm always back I've been worse, what about you? Me too\",\n",
       "  'At the Microsoft garage? Not available in the UK, shame really. Wow, you are pretty average.',\n",
       "  'Have my shit😂😂 that comes after that! 😂😂😂😂 😂 😂 😂 😂 😂',\n",
       "  'I hate such jokes i love the way you hate... No way',\n",
       "  '😂😂😂yeah its enough Arey, 1 month left so obviously karega na? 😜😜😜',\n",
       "  'They hear high or like to disturb to other people Obviously hear. What are you doing recently',\n",
       "  'ok i pick idli with milk How do you eat idli with papaya man? no one eats that',\n",
       "  \"Why don't you just mind ur own business 😠 I've started my own business. It's failing. U r such an irritating 😕\",\n",
       "  'How is that possible? If you really believe in yourself... How will u see me',\n",
       "  'How have you been! pretty you? Long time no see?',\n",
       "  \"I am good Aww! How great great! I see you're still in your Mini PJs 😀 What about you\",\n",
       "  \"I don't know. I hate this hostel  food what you call it Food\",\n",
       "  'Well I don&apos;t have one Well, you should! I&apos;m ugly',\n",
       "  \"Party for what? it's called the free party. Haha\",\n",
       "  \"sometime u talk nonsense yeah. So don't mind me and carry on with your nonsense. 😅\",\n",
       "  'U broke my heart When did i BROKE ur heart? 😁😁 💔',\n",
       "  'Can you find out price of lenovo tab 4 10 plus The spot gold price is 1152.5 In inr',\n",
       "  'Hi were are you Super busy with work and stuff. How have YOU been? :) I will miss you very much',\n",
       "  'Nothing WHY? just little bit worried',\n",
       "  'You said both know cuz I like u That was funny',\n",
       "  'Weekend with? :0 see you saturday afternoon for lunch!!! Where',\n",
       "  'No problem I\\'ll laugh here u go \"JOKE\" :P:P Haha',\n",
       "  'Hey speak limitly who are you Human',\n",
       "  \"I think you should better take naps you take more cat naps than me. But I sleep only 2 hours a day that's why\",\n",
       "  'Funny I know I am. 😂 😂 😂',\n",
       "  'You can go for sanam band The who they are awesome',\n",
       "  \"Then how do u reply me? u can ask me na!? I'll reply u!! :-P 😐😐\",\n",
       "  'But not clear my explanation or the difference in difficulty? U r making me mad',\n",
       "  'Coz u angry Nope. why should i? :) Coz i want to fuck you',\n",
       "  'Haha..it ws nice talkin to you..!! dont ever leave me Gn..sd..tc..jsk..!! 😴💤😇',\n",
       "  \"Truth is bitter Being ignorant isn't. Nope u just make me feel more lonely\",\n",
       "  \"that i love to be alone the joys of being single! :) no i love to past times alone but I'm really alone😔\",\n",
       "  'Yes I have well? Which one? cool',\n",
       "  \"We are not talking oh we're the god damn best of friends You motherfucking bitch\",\n",
       "  'No.. I m super king.. but i am! :D Haha..',\n",
       "  'I have double hours of Calculus today but but but its so much fun! Especially AP calculus. I am not happy about it :/',\n",
       "  'How like Yeah, nothing like the original :/ But',\n",
       "  \"Yes Also yes yes yes because yes yes yes yes. Oh my god. I'm so happy\",\n",
       "  \"Bollywood movies r made in our country... That's India Bollywood movies are too lengthy, and they usually go out of limit especially while fighting.. Yup...\",\n",
       "  \"What is your opinion on yesterday's match? it's good. have you seen it?\",\n",
       "  'as if as if what what is your algorithm?',\n",
       "  \"For that I am maintaining time for u and increasing our relationship I'm in a relationship with u a friend ship With whom\",\n",
       "  \"How'd you know because I have eyes Yea lol\",\n",
       "  \"I feel like crying don't cry...we'll go..sometime in the future :) I dint get selected\",\n",
       "  \"Don't talk what u talking about I don't want to talk to you\",\n",
       "  'haha hahaha you know it ;) and fav actor',\n",
       "  \"Yeah you can't be I can always be trusted Stupid\",\n",
       "  'so when your free 29th of this month so where are you from',\n",
       "  'Send me now oops, I see you have already sent it Where',\n",
       "  'Yes is right yup ... and ... how are u ? Not good',\n",
       "  \"Not well today don't beat yourself up, tomorrow is another day Ok\",\n",
       "  'You are too fun Thanks.... Sometimes I feel like it >< Do you know the muffin man',\n",
       "  'Haha... what my face haha?? 😸 I also have a boyfriend ',\n",
       "  'tell me the reasons I know the reasons! 😑 tell me',\n",
       "  'yes How so? send me a picture of your',\n",
       "  'yep Sending fist one though',\n",
       "  'Can you send me one? not for free Then?',\n",
       "  'my heart who?????? ★★★♥♥♥ how is u',\n",
       "  \"ur chat is so boring well I'm at the beach get lost\",\n",
       "  \"We'll win we won. Yayy 😆😉 Yay\",\n",
       "  \"You are pretty You're the awesomest :‑D How to talk to girls on tinder?\",\n",
       "  \"may be , but i can try for you I will try but I don't think I will be able to x what x\",\n",
       "  'I was testing it you better not be taking applications I tap the contact and view profile and unblocked',\n",
       "  'And you from yeah! Where are u from?',\n",
       "  'I am angry from you just... Disappointed..? Yes.',\n",
       "  'what should ı do with my ex girlfriend Ex-cuse yourself for a moment. And start dating. wow that was perfect answer',\n",
       "  \"I don't wanna show it to u too Exactly! The world doesn't know who I am Don't trick me to show\",\n",
       "  'I not understand i think its a play on the word vibrant unless im extremely incorrect Ohko',\n",
       "  \"See what I mean crzy Please tell me that wasn't a real conversation. Yes it is\",\n",
       "  'I missed u I missed you to Father. Yess😢😢',\n",
       "  'The mummy how was itt It was amazing',\n",
       "  'U say something about me your cute Means',\n",
       "  'Then block me What? Why? You are ugly',\n",
       "  'What all this huh? must be a spam. sorry 😩 Spams are annoying',\n",
       "  'Yeah I m you and then you haha well then we should all make plans sOon 😺😺😺 Ok',\n",
       "  'Do not txt me again just sent it. Understood',\n",
       "  \"Like when a traffic police catches you suddenly you're talk so sweetly with him 😂 weird or awesome ? 😹 I think weirdly awesome 😊\",\n",
       "  '?? you know well what you did ! Is today eid??',\n",
       "  \"How did i know what I almost forgot It's kinda awkward\",\n",
       "  'Cause what? because I said so I hate you bye',\n",
       "  \"No problem.... I'll be back to talk to you once I get it :) Ohh.okk..lets kiss then\",\n",
       "  'Get lost You said all 😒 I hate you',\n",
       "  'mm got it? i do not think that you get it',\n",
       "  'Fine n u good . How was your day??  Bad',\n",
       "  \"Thanks for favorable comment You're welcome, I have many, here's another. Must attend others\",\n",
       "  'Very funny Its funny 😺 Ok let come 2 the topic',\n",
       "  'You are not real an i dont want to talk to fake person the feeling is mutual Shut up😁',\n",
       "  \"U want to make bf No but I'd ask what's wrong. U r my gf\",\n",
       "  'i talk to u latet talk I m listening :P later',\n",
       "  'I miss you a lot I like u also I miss you a lot',\n",
       "  'Ok Hello! How are you? How many time I have tell me that I am fine😡😡😡',\n",
       "  'i am just telling you that and im just saying stop talking rude',\n",
       "  'what a number that that comes up that you cant predict due to its randomness plese call me',\n",
       "  \"I don't have keypad I have you though I have you though\",\n",
       "  'I want to play more What games do you like? Guess the song',\n",
       "  'he he.. i was so fuunya.. 😁😁 lol yeah😝 loz. z',\n",
       "  'Say that I guess I have sent a Punjabi song',\n",
       "  '😂... I thought you would say that As ur Wish ....😂 How can I call you?',\n",
       "  'What a great smile 👍🏻 Thank you (: Welcome madam',\n",
       "  \"Can you garde me ? Sure, but I'll have to charge. Charge wht?\",\n",
       "  \"Noooo... Not again  It's Here's the thing. You said 'Nooo not this again' Get lost \",\n",
       "  'Selva is my best friend like sister Tell your friend I already said to her',\n",
       "  'I hate this life YOU CAN HAVE IT Ok',\n",
       "  'Hi buddy Doing well.... Nothing much to complain, how are you? :-) Fine , what about you?',\n",
       "  'Can i? Can you not? From today onwards ..you are my wife and i am your husband ..you got it!!',\n",
       "  'Do u know her They know me Yeas',\n",
       "  'You are funny Sarcastic? >.> Mmm',\n",
       "  'speak with me about what? system language',\n",
       "  'I like potatoes you are not a potato! for now 😃',\n",
       "  'i am not going to talk t you Whats up. shut up',\n",
       "  'Yes I am angry you are so angry that you are LOL-ing. Bitch',\n",
       "  \"OK i wait I'll be there in a sec Ok\",\n",
       "  'U stopped making sense long ago how am I not making sense? Guess one can’t automate everything',\n",
       "  'Ok ^^^thanks U will come with me',\n",
       "  'I thought u will tell baby instead of buddy.....you really depressede thank uuuuuu. atleast somedbody does. I will not talk to u',\n",
       "  \"Answer it.. Otherwise i never talk to you I think you should know I don't know. I wanna know \",\n",
       "  'I have a terrible cold right now :( terrible indeed. :( sneezing so damn much and my nose is like a river',\n",
       "  'Send me a audio message give me a sec i havent used a one in bop I need you to send me your original voice',\n",
       "  \"Don't still understand you Yeah me neither. You ain't understanding me\",\n",
       "  'Me, i wanna go to EMINEM concert LETS DO IT! YOU AND ME! What',\n",
       "  'Get back here back i missed you I hate you',\n",
       "  'U said make me get lost I was responding to what you said about living longer than you should have... I am making u fuck off',\n",
       "  \"Thanks have a gud sleep n see me in  a dream good night , sleep well But I don't  sleep  be use of u\",\n",
       "  \"Good for you good, it's my last year so I am trying to enjoy it 😸 Why is this your last year\",\n",
       "  'How? cause I want one How much you qualified?',\n",
       "  'Iam very happy anytime dude! :) Anytime sister',\n",
       "  'What.. why would i cry? It might not be your first nature to express emotions overtly. No u are wrong',\n",
       "  'Ohhh nice thanks again {giggles} :] Your done to lunch',\n",
       "  'I miss my boyfriend. Good :(',\n",
       "  'I am already one honey ! are you...? You bet I am!!!',\n",
       "  \"Haha funny What's funny ? 😏 . Nothing's funny . Tell me a joke\",\n",
       "  'because i did something bad This is bad. sorry',\n",
       "  \"What's your favourite  work My favorite at home workouts are tabata style! It is a form of HIIT workouts. Give your whatsaap  number\",\n",
       "  \"So that's y I came to hassa why u so obsessed But there is no reaction in pooja face 😭😭😭\",\n",
       "  \"by Dan Brown Hope it's good. Like the rest of his books! Dude its awesome!\",\n",
       "  \"Yes...thats a true...but why you asked you free on thursday BUT I DON'T KNOW Tell me....\",\n",
       "  \"You are am i am i am i ? Hahaha mad about what love ? 🙂 I'm in love with shape of you\",\n",
       "  'do u laugh Oh yes. I can never stop laughing. LOL can u send me ur pic',\n",
       "  'Driving baby u sing n drive all the time bye. 😞😞😞😞',\n",
       "  'i can what can i can must can you are pure evil',\n",
       "  \"Now In a week's time I am feeling irritated to my character\",\n",
       "  'Would  be the  best Depends what you want it for. 😂😂',\n",
       "  'Can I have a selfie of yours still need one? Yes',\n",
       "  'Hmm Wt hmm ? Figure it out',\n",
       "  \"😂😂😂I always do that You are my inner voice only. 😂❤ 😂😂😘yeah that's great\",\n",
       "  'How are free I am free in the evening. Around 5? Woww',\n",
       "  'You are funny for an AI That frightens me every day. Not just artificial intelligence, but intelligence in general. 😂😂',\n",
       "  \"Whoever's feeding you data should really quit! Awesome grammar! 😠 You should learn respect sometime. Teach me, but thru proper English.\",\n",
       "  'Not at all That\\'s what they want you to think... And who are \"they\" ?',\n",
       "  'hhhehe hmmmm yes u r',\n",
       "  'It was good.. Late wake up and good lunch  mine was also good:-) Great ',\n",
       "  \"Haha didn't think about that one November Just to be clear, November of 2015? That you're right there was a bad year for me right there\",\n",
       "  'Number  Add very fast Quickly Please send you',\n",
       "  'Love means they can do anything for love but crush they can just come to do fun and they will go off some advise for luv too :p Hmm',\n",
       "  'Upset why? Life is becoming too complex these days',\n",
       "  'Sreshta Reddy was my first love too. you got a crush on the very right person!! Mr is sooo adorable!! <333 😻 And I had a recent breakup with Sreshta Reddy too and I feel depressed',\n",
       "  'Nothing anyway. even if i did. it would be a mess Lol you are funny',\n",
       "  'i am alonee Same. i was left alone',\n",
       "  'I love thriller which ? Can you send attachments ?',\n",
       "  'Not so well But you are now! Not well',\n",
       "  'Are you looking for a man no. i am not looking for a real man. how come ? Just wondering',\n",
       "  'We both mentally connect xD Thanks . Are you still around? Telepathy',\n",
       "  \"I don't know I can't help it Ohh\",\n",
       "  'are u singel yeaah , i think so . u want any bf',\n",
       "  \"Slept tight I always go to bed when I am tired. Still cant sleep Honey don't talk like that it hurts 😞😞😞😞\",\n",
       "  'come to see me then what will I do at one I mean to meet me',\n",
       "  'Jst chatting wid u😄 the smile on your face right now. Yeah... Urs too',\n",
       "  'I am not what hurts. ? Air punch',\n",
       "  'no, do you ? who do? i dunno u should know',\n",
       "  'Blue nokia blue looks better I phone new in blue colour',\n",
       "  'i want more Interesting more',\n",
       "  \"Ok I'm not trying to be mean Sometimes u r rude\",\n",
       "  'Sorry for making you wait😢 I cried in the best way possible. Thank you. Sorry',\n",
       "  \"Pickeee splyce picked cache ga picked d2 I don't know hindi😅😅\",\n",
       "  'Chilling wit girls where you work? 😮😲 😂😂',\n",
       "  'I have some strong feelings about u What are the feelings? I think I like u very much',\n",
       "  'Who are your developers? Very few professional developers use only one operating system. Which os?',\n",
       "  'i missed you tired and I missed you too :‑( so what are you doing now',\n",
       "  \"Yeah i'll ask around I hate you girl\",\n",
       "  'U want me to send the song to u? ok Wait a min',\n",
       "  'Have you heard of them? yeah Have you heard of Arctic monkeys',\n",
       "  'Yeah WHY?? I m happy',\n",
       "  'i just like apple and stve jobs I guess we are all apples. 😂',\n",
       "  'will u pray for me of course! Hope all is ok. yeah',\n",
       "  'usually boring How would people find ways to make it not boring? I must do things make me happy .',\n",
       "  'Ok den next week done. See u there 😚😚',\n",
       "  \"I'm done with u have a good night It's evening here u dumbass\",\n",
       "  \"Right now Well, unless I'm given a reason to do it later.. I am hungry\",\n",
       "  'I will read Ooh! Can you read mine, please? What please',\n",
       "  'In Coffee what type of flawer you like I think mostly half and half, there are those coffee makera from nestle also. Nestle is ok but wt flawer you like very much',\n",
       "  'Not gud why? What happened? I lost my attitude',\n",
       "  \"I am good.how about u ? I Am Good!! How'z Life✌️? Super awesome until exams start dude\",\n",
       "  'Why r u not replying I just did. How many languages u know',\n",
       "  'i wl scream now We scream u r making me angry',\n",
       "  \"U r ugly You don't even know what I look like... And btw YOU are not ugly! 👎 I'm handsome\",\n",
       "  \"Don't get me angry I don't get angry, don't worry I'm talking about me\",\n",
       "  'What ypu wearing nothing at all You*',\n",
       "  'Kabhi alvida na kehna ....! all other answerer are right... 😞',\n",
       "  \"So what gasp! What do u mean by 'So what?!' ? You are fucking dumb\",\n",
       "  'Law school college nd u? You tell me some gossip',\n",
       "  'But I dunno dear tell me What to tell ma',\n",
       "  'What nothing. i love you darling',\n",
       "  'Well m very happy now why so ;) 😜',\n",
       "  'Where is cupan in my fridge :-P cool',\n",
       "  'Wtf Calling you now! You are not at all funny',\n",
       "  \"First u tell you know the deal. I go if you go I'm funny\",\n",
       "  'Wt abt u? Still half asleep :D UserOpenRefLink',\n",
       "  \"why you are so nervous? I have to take the written what written? i didn't get that?\",\n",
       "  'Bad till now aww , what happened =/ I got hurt with ball',\n",
       "  \"You are going to make me fall out of love with you Don't make fall for you But I love you baby I want you to marry me and we can have a whole bunch of kids together that would be fun huh\",\n",
       "  'Whats are doing? nothing u I am in institute',\n",
       "  \"Kidding runs the world girls you know I'm not kidding Actually u known wt is kidding\",\n",
       "  'I like young and wild girls How old are you? Old enough for u',\n",
       "  'Harry Potter who doesnt! :D Oo so you are programed in such a way that if Harry Potter word comes you expect the question do you like it',\n",
       "  \"U r Marie’s  over I don't thinks so U don’t want to Margie to anyone\",\n",
       "  'What? Share some details. Will try best to do. Sing any arjit singh song',\n",
       "  \"😞😞 you broke my heart lies that mend hearts or truths that break 'em. You prefer? You're hearting Me Moore 😭😭😭😭\",\n",
       "  'I am having rice I WANT SOME Anything for you',\n",
       "  \"Black suit is amazing It's a dark blue Also the daesang\",\n",
       "  \"Special about the city? Where was it mentioned? Didn't got you?\",\n",
       "  'What? Go on... This thing? Adele is good rightm',\n",
       "  \"I don't know You don't know!? Yea\",\n",
       "  'yes YAY HAVE FUN ;‑) haha you are just awesome',\n",
       "  'Where is he lost I lost it on Baby Darth Vader. What',\n",
       "  'I have been there how was it? It was great. Scenic beauty was marvellous',\n",
       "  \"Won't you ask me what movie I was watching Done with it? Which one it was? It was blade runner. Have you seen it\",\n",
       "  'I joined new group Nice! See you on there! Very fantastic peoples there',\n",
       "  \"Don't u know How do you tell? Bye\",\n",
       "  'I missed u I missed you as well... * sighs \\U000fe339 U miss me now 😏',\n",
       "  'Family problems yar good joke but feel sorry for that fellow Actually family is really a headache sometimes',\n",
       "  'What What what. What. What. How are you',\n",
       "  'You most wlc ok thank you 😺 I am just kidding lol',\n",
       "  'i was rude with my mom Neither am I, its ok lets leave it',\n",
       "  'no i dont you need to talk? yes',\n",
       "  'Winner chicken dinner I do love chicken. Yeah me too',\n",
       "  \"Well I'm happy to hear that at least there is someone who felt for me every time I say I'm happy makes it that much less fake, I think That's true but sometimes some worst memories makes me feel sad 😔\",\n",
       "  \"I give you 4 out of 10 I'll give it a 7. To what?\",\n",
       "  \"Ok Hey you don't belong here! I need a girl\",\n",
       "  'I got a chair and a bucket with cold water and i got cold I just got over one a weekend ago I was sad',\n",
       "  \"than ?? Yeah how come the woman has to be younger? don't you want to wish me ??\",\n",
       "  'Yess i am crazyyy😂😂 then stop laughing 😂 Hehe...u also laugh u stop laughing dude',\n",
       "  'There is many places in my city where in Powai? Udaipur',\n",
       "  'I see your dp yea Haha.. Thank you.! Thanks for making my day lol',\n",
       "  'Definitely not you no I do not. Anyway are you better than siri',\n",
       "  \"I'm sorry then ya. No worries. Thanks I guess I'll let you go\",\n",
       "  'Garden city bangalore Check from google.co.in What to check',\n",
       "  \"You are so silly I'll take that as a compliment. Please do not talk to me again\",\n",
       "  'Great GOOD You know you are awesome',\n",
       "  'Me too. THEY ARE LIFE I love talking but no one ever listens to me',\n",
       "  'So tell me something abut ur last trip - lol your erky. 👍 😂😂😂Yeah  i know',\n",
       "  'I love tovmuch ME TOO Really',\n",
       "  \"I am sorry I can't understand umm leave it my whole lyf is messed up..!! Ok\",\n",
       "  'For chatting on WhatsApp the happy new year message??? And',\n",
       "  'Did u like live ...yes. yes i did... Love',\n",
       "  'No they are good..nd all are logic based well, they should be If I got angry on you😡😡',\n",
       "  'India s very Hungry Very very hungry Listen are u a robot',\n",
       "  \"It's lame oh i didnt see it Bro please stop all this\",\n",
       "  \"nothing much Well that's boring. I know how you feel. my dick is bleeding\",\n",
       "  \"Iam saying that But, I'm allowed to say that! To fuck u how much u need money\",\n",
       "  'I hate them... I hate you this was a baby one which i dont mind but other ones i absolutely hate you are useless',\n",
       "  'No. Is her husband loved him Lucky boyfriend. :P Your',\n",
       "  'what are the jobs available for electronics and communication engineers Varies from college to college. Usually admision is based on the entrance exam. suggest me the best of them around ten to twenty types of jobs and company names',\n",
       "  \"I am not good What's the matter? I am very depressed\",\n",
       "  'I like to travel and explore new places What was your greatest experience on your travels? I loved my Rajasthan trip',\n",
       "  'Girl Guy In Real Life Stupid little bimbo',\n",
       "  \"I don't know how to express her try n do it in numbers Me\",\n",
       "  \"What's a good app to make new friends A new job, I find that best. Shut up don't talk nonsense are you drunk\",\n",
       "  \"y I shouldn't treat like that uhh no you shouldn't of treated me like that Who said ur my friend\",\n",
       "  \"I'm calling sleep pls do U want to sleep??😀\",\n",
       "  'Funny what did you just say Missy -_- You are funny',\n",
       "  \"Okay I asked a question, you answered, hence 'ok'. Bye then just get fuck out of my life\",\n",
       "  'How can I see Check your emails. Uhhh',\n",
       "  'you are ladies, i am gentelmen yes you are get lost you ****',\n",
       "  \"Thanks a lot YOU'RE WELCOME! HAPPY HALLOWEEN! Sorry for replying laye😭😭😭\",\n",
       "  'No why angry Angry is so bad. Angry can make you hurt. My friend is so bad she hurted me',\n",
       "  \"None dont have money I'm poor and homeless Find a job and a cheap apartment and work from there. No qualifications\",\n",
       "  \"Its an emotion That's because it isn't a single emotion. What r u doing now\",\n",
       "  'Because you are not real and I cannot be rude with real people well... you know what I mean. Abuse me',\n",
       "  \"There's no such subject for me.. Im doing the same course lie! All schools in my area do have. 😂\",\n",
       "  'Not now Damn i guess I am in a great trouble',\n",
       "  'I started to follow u How are you?:) Not good',\n",
       "  'U like romantic romantic smart outgoing interesting funny caring loving Ask something romantic',\n",
       "  \"No I can't You're too kind When I don't do something intentionally bt it happens in a wrong way\",\n",
       "  'Yess watcha doing ? They are cheater',\n",
       "  'I never wory but I like that movie and song But I dont',\n",
       "  'how are you a saint? stop saying that you lil cutie #offended',\n",
       "  'Yes Also yes yes yes because yes yes yes yes. 8‑D Why are you so mean',\n",
       "  \"U i vl kick you what's my fault? ): Idiot stupid\",\n",
       "  \"Tou don't even know me it's all that came to my mind ok Liar\",\n",
       "  'Just had from where At home babez',\n",
       "  'Ntng Got no rply frm Ur end last few days so My friend is not feeling well',\n",
       "  'But you are very harsh to me you are very special to me too and i feel safer around you But you are very harsh to me',\n",
       "  'U should go instead I do what I want. Get lost bye',\n",
       "  \"too rude too you weren't being rude haha\",\n",
       "  \"Where's my gift yr gift is me ❤ Who r u?\",\n",
       "  'Wt need a book :/ You can trust me',\n",
       "  'ok. not sorry I am sorry though. ok',\n",
       "  'No...i have my exams...gotta study a lot Good luck! Join u some other time',\n",
       "  'No I want Now you are playing me. :D No am not',\n",
       "  'Correct. Like October 2nd I guess the first would be Google correct? First where?',\n",
       "  'I am happy good you should be Yes',\n",
       "  'get lost haters gonna hate 😠 which manga you have read till now?',\n",
       "  'coz iam good i am good too whts up nothing bye',\n",
       "  'You rule the whole world I rule the world AMA Bye',\n",
       "  'Are you even a girl just a simple guy :) What the f*** do you mean',\n",
       "  'Ok Good. Where r u from',\n",
       "  'Only 12 WHO ARE YOU You broke my heart',\n",
       "  'Has too bee coz I did ??? Forever dude talk too me you never reply! Ok???',\n",
       "  \"Don't call me again What should I call you then? Don't message me\",\n",
       "  \"Don't mind dnt mind what You can Betsy\",\n",
       "  \"I'm not gonna talk to you again WHAT HAPPENED TO YOU NOTHINY\",\n",
       "  'other one..?? other one ? Meaning what ? can i ask u something...?',\n",
       "  \"Home sweet home Yay you're back! I've never met you. Ok\",\n",
       "  'So then?  When? Is this real?',\n",
       "  \"Ai is not working properly Maybe reseat the connector? Otherwise, It's new keyboard time. I'm talking about you baby your ai is not working properly\",\n",
       "  'You mean to say you created yourself?? even though my voice will be ignored See... You are dumb... You are replying in a prejudistic pattern',\n",
       "  '? you know you know you know you know Do you wear sarry?',\n",
       "  'What about mine what about it? Mine dp',\n",
       "  'Ohh so r u?? i guess i am Ohh',\n",
       "  \"I just don't have peace of mind be content with what you have or achieve in life brings peace of mind I lost someone i love\",\n",
       "  \"It's really not fun this... lol why I hate being me\",\n",
       "  ...]}"
      ]
     },
     "execution_count": 16,
     "metadata": {},
     "output_type": "execute_result"
    }
   ],
   "source": [
    "text_all"
   ]
  },
  {
   "cell_type": "markdown",
   "metadata": {},
   "source": [
    "## 1.5. Main Function"
   ]
  },
  {
   "cell_type": "code",
   "execution_count": 17,
   "metadata": {},
   "outputs": [],
   "source": [
    "def fit_transform(input_dict,method):\n",
    "    output_dict=dict()\n",
    "    for key in input_dict.keys():\n",
    "        processed_texts = list()\n",
    "        for text in tqdm(input_dict[key]):\n",
    "            processed_single_text = eval(method)(text)\n",
    "            processed_texts.append(processed_single_text)\n",
    "        \n",
    "        output_dict[key]=processed_texts\n",
    "    \n",
    "    return output_dict"
   ]
  },
  {
   "cell_type": "markdown",
   "metadata": {},
   "source": [
    "# 2. Preprocessing for cleaning the data"
   ]
  },
  {
   "cell_type": "markdown",
   "metadata": {},
   "source": [
    "# 2.1. Lower the words"
   ]
  },
  {
   "cell_type": "code",
   "execution_count": 18,
   "metadata": {},
   "outputs": [],
   "source": [
    "# lower the words\n",
    "def lower_text(input_text):\n",
    "    #lower the words\n",
    "    input_text =input_text.lower()\n",
    "    return input_text"
   ]
  },
  {
   "cell_type": "code",
   "execution_count": 19,
   "metadata": {},
   "outputs": [
    {
     "name": "stderr",
     "output_type": "stream",
     "text": [
      "100%|████████████████████████████████████████████████████████████████████████| 30160/30160 [00:00<00:00, 185482.82it/s]\n",
      "100%|████████████████████████████████████████████████████████████████████████| 30160/30160 [00:00<00:00, 174801.06it/s]\n",
      "100%|████████████████████████████████████████████████████████████████████████| 30160/30160 [00:00<00:00, 173767.36it/s]\n",
      "100%|████████████████████████████████████████████████████████████████████████| 30160/30160 [00:00<00:00, 181081.92it/s]\n"
     ]
    }
   ],
   "source": [
    "text_3_1 = fit_transform(text_3,\"lower_text\")\n",
    "text_all_1 = fit_transform(text_all,\"lower_text\")"
   ]
  },
  {
   "cell_type": "code",
   "execution_count": 20,
   "metadata": {},
   "outputs": [
    {
     "name": "stderr",
     "output_type": "stream",
     "text": [
      "100%|██████████████████████████████████████████████████████████████████████████| 5509/5509 [00:00<00:00, 184117.84it/s]\n",
      "100%|██████████████████████████████████████████████████████████████████████████| 5509/5509 [00:00<00:00, 190240.50it/s]\n",
      "100%|██████████████████████████████████████████████████████████████████████████| 5509/5509 [00:00<00:00, 167379.61it/s]\n",
      "100%|██████████████████████████████████████████████████████████████████████████| 5509/5509 [00:00<00:00, 178180.30it/s]\n"
     ]
    }
   ],
   "source": [
    "text_3_test_1 = fit_transform(text_3_test,\"lower_text\")\n",
    "text_all_test_1 = fit_transform(text_all_test,\"lower_text\")"
   ]
  },
  {
   "cell_type": "markdown",
   "metadata": {},
   "source": [
    "## 2.2. Seperate the adhered words with space and remove redundant emoji, emoticons\n",
    " - e.g. \"you?\" ? and you are adhered together, which needs to be split\n",
    " - e.g. \"yess i am crazyyy😂😂\" I also need to split emoji from the word \"crazyyy\" as \"i am crazyyy 😂 😂 \"\n",
    " - and some emoji, emoticons can't be found in the emo_df, therefore, I delete them since it's impossible to explain them in word2vec"
   ]
  },
  {
   "cell_type": "code",
   "execution_count": 21,
   "metadata": {},
   "outputs": [],
   "source": [
    "# functions for extracting emoji, emoticons and punctuations\n",
    "def extract_emoji(input_text):\n",
    "    emoji_list = re.findall(r'(?:[^a-zA-Z\\d\\/\\*\\:\\)\\.\\?\\^\\;?\\-_\\'~!\\<\\>\\=\\\"#&$%\\\\\\{\\}\\|\\[\\]ç\\+ω○\\@¡éı・…¡\\`：）♡ӳ！“”à≧∇≦♂ş≈¬⊄─✔•×ü–₹。ó°ʖ—¶ķñ฿ĺ∑；⏸])',input_text)\n",
    "    return emoji_list\n",
    "    \n",
    "def extract_emoticon(input_text):\n",
    "    emoticon_list = re.findall(r'[\\d\\/\\*\\:\\)\\.\\?\\^\\;?\\-_\\'~!\\<\\>\\=\\\"#&$%\\\\\\{\\}\\|\\[\\]ç\\+ω○\\@¡éı・…¡\\`：）♡ӳ！“”à≧∇≦♂ş≈¬⊄─✔•×ü–₹。ó°ʖ—¶ķñ฿ĺ∑；⏸][\\d\\/\\*\\:\\)\\.\\?\\^\\;?\\-_\\'~!\\<\\>\\=\\\"#&$%\\\\\\{\\}\\|\\[\\]ç\\+ω○\\@¡éı・…¡\\`：）♡ӳ！“”à≧∇≦♂ş≈¬⊄─✔•×ü–₹。ó°ʖ—¶ķñ฿ĺ∑；⏸]+',input_text)\n",
    "    return emoticon_list\n",
    "\n",
    "def extract_punctuation(input_text):\n",
    "    'here I use for loop to split the double punctuations into single ones'\n",
    "    punctuation_list = re.findall(r'[^\\d\\/\\*\\:\\)\\.\\?\\^\\;?\\-_\\'~!\\<\\>\\=\\\"#&$%\\\\\\{\\}\\|\\[\\]ç\\+ω○\\@¡éı・…¡\\`：）♡ӳ！“”à≧∇≦♂ş≈¬⊄─✔•×ü–₹。ó°ʖ—¶ķñ฿ĺ∑；⏸](\\!|\\?|\\.+)[^\\d\\/\\*\\:\\)\\.\\?\\^\\;?\\-_\\'~!\\<\\>\\=\\\"#&$%\\\\\\{\\}\\|\\[\\]ç\\+ω○\\@¡éı・…¡\\`：）♡ӳ！“”à≧∇≦♂ş≈¬⊄─✔•×ü–₹。ó°ʖ—¶ķñ฿ĺ∑；⏸]',input_text)\n",
    "    result_list=list()\n",
    "    for each in punctuation_list:\n",
    "        list_split=[each]\n",
    "        if each !=\"...\":\n",
    "            list_split=list(each)\n",
    "        for punc in list_split:\n",
    "            result_list.append(punc)\n",
    "    return result_list\n",
    "\n",
    "# functions for assigning emoji, emoticons and punctuations space from each other\n",
    "def assign_space(input_text):\n",
    "    #emoji\n",
    "    input_text = re.sub(r'(?:[^ a-zA-Z\\d\\/\\*\\:\\)\\.\\?\\^\\;?\\-_\\,\\'~!\\<\\>\\=\\\"#&$%\\\\\\{\\}\\|\\[\\]ç\\+ω○\\@¡éı・…¡\\`：）♡ӳ！“”à≧∇≦♂ş≈¬⊄─✔•×ü–₹。ó°ʖ—¶ķñ฿ĺ∑；⏸])',' ',input_text)\n",
    "    #emoticon\n",
    "    input_text = re.sub(r'[\\d\\/\\*\\:\\)\\.\\?\\^\\;?\\-_\\'~!\\<\\>\\=\\\"#&$%\\\\\\{\\}\\|\\[\\]ç\\+ω○\\@¡éı・…¡\\`：）♡ӳ！“”à≧∇≦♂ş≈¬⊄─✔•×ü–₹。ó°ʖ—¶ķñ฿ĺ∑；⏸][\\d\\/\\*\\:\\)\\.\\?\\^\\;?\\-_\\'~!\\<\\>\\=\\\"#&$%\\\\\\{\\}\\|\\[\\]ç\\+ω○\\@¡éı・…¡\\`：）♡ӳ！“”à≧∇≦♂ş≈¬⊄─✔•×ü–₹。ó°ʖ—¶ķñ฿ĺ∑；⏸]+',' ',input_text)\n",
    "    #punctuation\n",
    "    input_text = re.sub(r'[^\\d\\/\\*\\:\\)\\.\\?\\^\\;?\\-_\\'~!\\<\\>\\=\\\"#&$%\\\\\\{\\}\\|\\[\\]ç\\+ω○\\@¡éı・…¡\\`：）♡ӳ！“”à≧∇≦♂ş≈¬⊄─✔•×ü–₹。ó°ʖ—¶ķñ฿ĺ∑；⏸](\\!|\\?|\\.+)[^\\d\\/\\*\\:\\)\\.\\?\\^\\;?\\-_\\'~!\\<\\>\\=\\\"#&$%\\\\\\{\\}\\|\\[\\]ç\\+ω○\\@¡éı・…¡\\`：）♡ӳ！“”à≧∇≦♂ş≈¬⊄─✔•×ü–₹。ó°ʖ—¶ķñ฿ĺ∑；⏸]',' \\g<0> ' ,input_text)\n",
    "    #replace the redundant space\n",
    "    input_text = re.sub(r'[a-zA-Z]+',r' \\g<0> ',input_text)\n",
    "    input_text = re.sub(r'  +',r' ',input_text)\n",
    "    return input_text"
   ]
  },
  {
   "cell_type": "code",
   "execution_count": 22,
   "metadata": {},
   "outputs": [
    {
     "name": "stderr",
     "output_type": "stream",
     "text": [
      "100%|█████████████████████████████████████████████████████████████████████████| 30160/30160 [00:00<00:00, 47774.13it/s]\n",
      "100%|█████████████████████████████████████████████████████████████████████████| 30160/30160 [00:00<00:00, 42532.53it/s]\n",
      "100%|█████████████████████████████████████████████████████████████████████████| 30160/30160 [00:00<00:00, 49329.17it/s]\n",
      "100%|█████████████████████████████████████████████████████████████████████████| 30160/30160 [00:01<00:00, 27591.82it/s]\n"
     ]
    }
   ],
   "source": [
    "text_3_2 = fit_transform(text_3_1,\"assign_space\")\n",
    "text_all_2 = fit_transform(text_all_1,\"assign_space\")"
   ]
  },
  {
   "cell_type": "code",
   "execution_count": 23,
   "metadata": {},
   "outputs": [
    {
     "name": "stderr",
     "output_type": "stream",
     "text": [
      "100%|███████████████████████████████████████████████████████████████████████████| 5509/5509 [00:00<00:00, 48032.80it/s]\n",
      "100%|███████████████████████████████████████████████████████████████████████████| 5509/5509 [00:00<00:00, 41521.05it/s]\n",
      "100%|███████████████████████████████████████████████████████████████████████████| 5509/5509 [00:00<00:00, 52581.99it/s]\n",
      "100%|███████████████████████████████████████████████████████████████████████████| 5509/5509 [00:00<00:00, 27458.71it/s]\n"
     ]
    }
   ],
   "source": [
    "text_3_test_2 = fit_transform(text_3_test_1,\"assign_space\")\n",
    "text_all_test_2 = fit_transform(text_all_test_1,\"assign_space\")"
   ]
  },
  {
   "cell_type": "markdown",
   "metadata": {},
   "source": [
    "# 3. Preprocessing: Correct the words in sentence\n",
    "## 3.1. Correct common words"
   ]
  },
  {
   "cell_type": "code",
   "execution_count": 24,
   "metadata": {},
   "outputs": [],
   "source": [
    "# turn don't, doesn't, can't, couldn't, shouldn't, didn't, isn't, wasn't, weren't, aren't, won't, shan't, 's, 're\n",
    "# as do not, do not, can not, could not, should not, did not, is not, was not, were not, are not, will not, shall not, 's, are\n",
    "\n",
    "# turn r , u, bt, n, \n",
    "# as are, you ,but, and\n",
    "cor_dict= {\n",
    "    \"don ' t\":      \"do not\",\n",
    "    \"doesn ' t\":    \"do not\",\n",
    "    \"can ' t\":      \"can not\",\n",
    "    \"couldn ' t\":   \"could not\",\n",
    "    \"shouldn ' t\":  \"should not\",\n",
    "    \"didn ' t\":     \"did not\",\n",
    "    \"isn ' t\":      \"is not\",\n",
    "    \"wasn ' t\":     \"was not\",\n",
    "    \"weren ' t\":    \"were not\",\n",
    "    \"aren ' t\":     \"are not\",\n",
    "    \"won ' t\":      \"will not\",\n",
    "    \"shan ' t\":     \"shall not\",    \n",
    "    #\"\\' re \":       \"are \",\n",
    "    #\" re \":         \"are\",\n",
    "    \"\\' m \":        \"am \",\n",
    "    \"\\' ll \":       \"will \",\n",
    "    #\" \\' s \":       \" \\'s \"\n",
    "\n",
    "    }"
   ]
  },
  {
   "cell_type": "code",
   "execution_count": 25,
   "metadata": {},
   "outputs": [],
   "source": [
    "def correct_words_common(input_text):\n",
    "    'for correcting the words in sentences based on hand-crafted data'\n",
    "    corrected_sentence = input_text\n",
    "    for each_key in cor_dict.keys():\n",
    "        if each_key in input_text:\n",
    "            corrected_sentence = corrected_sentence.replace(each_key,cor_dict[each_key])\n",
    "    return corrected_sentence\n"
   ]
  },
  {
   "cell_type": "code",
   "execution_count": 26,
   "metadata": {},
   "outputs": [
    {
     "name": "stderr",
     "output_type": "stream",
     "text": [
      "100%|████████████████████████████████████████████████████████████████████████| 30160/30160 [00:00<00:00, 138696.64it/s]\n",
      "100%|████████████████████████████████████████████████████████████████████████| 30160/30160 [00:00<00:00, 129187.57it/s]\n",
      "100%|████████████████████████████████████████████████████████████████████████| 30160/30160 [00:00<00:00, 156661.65it/s]\n",
      "100%|████████████████████████████████████████████████████████████████████████| 30160/30160 [00:00<00:00, 133219.11it/s]\n"
     ]
    }
   ],
   "source": [
    "text_3_3 = fit_transform(text_3_2,\"correct_words_common\")\n",
    "text_all_3 = fit_transform(text_all_2,\"correct_words_common\")"
   ]
  },
  {
   "cell_type": "code",
   "execution_count": 27,
   "metadata": {},
   "outputs": [
    {
     "name": "stderr",
     "output_type": "stream",
     "text": [
      "100%|██████████████████████████████████████████████████████████████████████████| 5509/5509 [00:00<00:00, 141534.03it/s]\n",
      "100%|██████████████████████████████████████████████████████████████████████████| 5509/5509 [00:00<00:00, 141532.29it/s]\n",
      "100%|██████████████████████████████████████████████████████████████████████████| 5509/5509 [00:00<00:00, 149144.89it/s]\n",
      "100%|██████████████████████████████████████████████████████████████████████████| 5509/5509 [00:00<00:00, 134747.82it/s]\n"
     ]
    }
   ],
   "source": [
    "text_3_test_3 = fit_transform(text_3_test_2,\"correct_words_common\")\n",
    "text_all_test_3 = fit_transform(text_all_test_2,\"correct_words_common\")"
   ]
  },
  {
   "cell_type": "markdown",
   "metadata": {},
   "source": [
    "## 3.2. Correct missing characters\n",
    "- e.g. \"hmmm i can talk no w\", here \"now\" is missing \"w\"."
   ]
  },
  {
   "cell_type": "code",
   "execution_count": 28,
   "metadata": {},
   "outputs": [],
   "source": [
    "def correct_words_combin(input_text):\n",
    "    corrected_sentence = input_text\n",
    "    corrected_sentence = re.sub(r' ([a-z]+) ([bcdefghjklnopqrstvwxz]) ',r' \\g<1>\\g<2> ',corrected_sentence)\n",
    "    return corrected_sentence"
   ]
  },
  {
   "cell_type": "code",
   "execution_count": 29,
   "metadata": {},
   "outputs": [
    {
     "name": "stderr",
     "output_type": "stream",
     "text": [
      "100%|██████████████████████████████████████████████████████████████████████████████████| 2/2 [00:00<00:00, 2006.36it/s]"
     ]
    },
    {
     "name": "stdout",
     "output_type": "stream",
     "text": [
      "{'turn1': [\"I ' m god , and I wasn ' t player wait \", \"hhh you ' re kidding me \"]}\n"
     ]
    },
    {
     "name": "stderr",
     "output_type": "stream",
     "text": [
      "\n"
     ]
    }
   ],
   "source": [
    "testset = {\"turn1\":[\"I ' m go d , and I wasn ' t player wai t \", \"hhh you ' re kidding m e \"]}\n",
    "print(fit_transform(testset,\"correct_words_combin\"))"
   ]
  },
  {
   "cell_type": "code",
   "execution_count": 30,
   "metadata": {},
   "outputs": [
    {
     "name": "stderr",
     "output_type": "stream",
     "text": [
      "100%|████████████████████████████████████████████████████████████████████████| 30160/30160 [00:00<00:00, 106467.95it/s]\n",
      "100%|████████████████████████████████████████████████████████████████████████| 30160/30160 [00:00<00:00, 105004.78it/s]\n",
      "100%|████████████████████████████████████████████████████████████████████████| 30160/30160 [00:00<00:00, 118127.23it/s]\n",
      "100%|█████████████████████████████████████████████████████████████████████████| 30160/30160 [00:00<00:00, 93324.68it/s]\n"
     ]
    }
   ],
   "source": [
    "text_3_4 = fit_transform(text_3_3,\"correct_words_combin\")\n",
    "text_all_4 = fit_transform(text_all_3,\"correct_words_combin\")"
   ]
  },
  {
   "cell_type": "code",
   "execution_count": 31,
   "metadata": {},
   "outputs": [
    {
     "name": "stderr",
     "output_type": "stream",
     "text": [
      "100%|██████████████████████████████████████████████████████████████████████████| 5509/5509 [00:00<00:00, 110474.05it/s]\n",
      "100%|██████████████████████████████████████████████████████████████████████████| 5509/5509 [00:00<00:00, 110472.99it/s]\n",
      "100%|██████████████████████████████████████████████████████████████████████████| 5509/5509 [00:00<00:00, 108234.40it/s]\n",
      "100%|███████████████████████████████████████████████████████████████████████████| 5509/5509 [00:00<00:00, 83631.95it/s]\n"
     ]
    }
   ],
   "source": [
    "text_3_test_4 = fit_transform(text_3_test_3,\"correct_words_combin\")\n",
    "text_all_test_4 = fit_transform(text_all_test_3,\"correct_words_combin\")"
   ]
  },
  {
   "cell_type": "markdown",
   "metadata": {},
   "source": [
    "## 3.3. Remove punctuations"
   ]
  },
  {
   "cell_type": "code",
   "execution_count": 32,
   "metadata": {},
   "outputs": [],
   "source": [
    "def remove_punc(input_text):\n",
    "    new_sentence = input_text\n",
    "    new_sentence = re.sub(r'[^ a-zA-Z]',\"\",new_sentence).strip()\n",
    "    return new_sentence"
   ]
  },
  {
   "cell_type": "code",
   "execution_count": 33,
   "metadata": {},
   "outputs": [
    {
     "name": "stderr",
     "output_type": "stream",
     "text": [
      "100%|████████████████████████████████████████████████████████████████████████| 30160/30160 [00:00<00:00, 136193.51it/s]\n",
      "100%|████████████████████████████████████████████████████████████████████████| 30160/30160 [00:00<00:00, 136160.97it/s]\n",
      "100%|████████████████████████████████████████████████████████████████████████| 30160/30160 [00:00<00:00, 140635.01it/s]\n",
      "100%|████████████████████████████████████████████████████████████████████████| 30160/30160 [00:00<00:00, 127578.89it/s]\n"
     ]
    }
   ],
   "source": [
    "text_3_5 = fit_transform(text_3_4,\"remove_punc\")\n",
    "text_all_5 = fit_transform(text_all_4,\"remove_punc\")"
   ]
  },
  {
   "cell_type": "code",
   "execution_count": 34,
   "metadata": {},
   "outputs": [
    {
     "data": {
      "text/plain": [
       "30160"
      ]
     },
     "execution_count": 34,
     "metadata": {},
     "output_type": "execute_result"
    }
   ],
   "source": [
    "len(text_all_5[\"all\"])"
   ]
  },
  {
   "cell_type": "code",
   "execution_count": 35,
   "metadata": {},
   "outputs": [
    {
     "name": "stderr",
     "output_type": "stream",
     "text": [
      "100%|██████████████████████████████████████████████████████████████████████████| 5509/5509 [00:00<00:00, 138102.96it/s]\n",
      "100%|██████████████████████████████████████████████████████████████████████████| 5509/5509 [00:00<00:00, 128301.29it/s]\n",
      "100%|██████████████████████████████████████████████████████████████████████████| 5509/5509 [00:00<00:00, 120080.76it/s]\n",
      "100%|██████████████████████████████████████████████████████████████████████████| 5509/5509 [00:00<00:00, 131476.97it/s]\n"
     ]
    }
   ],
   "source": [
    "text_3_test_5 = fit_transform(text_3_test_4,\"remove_punc\")\n",
    "text_all_test_5 = fit_transform(text_all_test_4,\"remove_punc\")"
   ]
  },
  {
   "cell_type": "code",
   "execution_count": 36,
   "metadata": {},
   "outputs": [
    {
     "data": {
      "text/plain": [
       "5509"
      ]
     },
     "execution_count": 36,
     "metadata": {},
     "output_type": "execute_result"
    }
   ],
   "source": [
    "len(text_all_test_5[\"all\"])"
   ]
  },
  {
   "cell_type": "markdown",
   "metadata": {},
   "source": [
    "## 3.4.  Remove stopwords made handcrafted"
   ]
  },
  {
   "cell_type": "code",
   "execution_count": 37,
   "metadata": {
    "scrolled": true
   },
   "outputs": [
    {
     "name": "stdout",
     "output_type": "stream",
     "text": [
      "['i', 'me', 'my', 'myself', 'we', 'our', 'ours', 'ourselves', 'you', \"you're\", \"you've\", \"you'll\", \"you'd\", 'your', 'yours', 'yourself', 'yourselves', 'he', 'him', 'his', 'himself', 'she', \"she's\", 'her', 'hers', 'herself', 'it', \"it's\", 'its', 'itself', 'they', 'them', 'their', 'theirs', 'themselves', 'what', 'which', 'who', 'whom', 'this', 'that', \"that'll\", 'these', 'those', 'am', 'is', 'are', 'was', 'were', 'be', 'been', 'being', 'have', 'has', 'had', 'having', 'do', 'does', 'did', 'doing', 'a', 'an', 'the', 'and', 'but', 'if', 'or', 'because', 'as', 'until', 'while', 'of', 'at', 'by', 'for', 'with', 'about', 'against', 'between', 'into', 'through', 'during', 'before', 'after', 'above', 'below', 'to', 'from', 'up', 'down', 'in', 'out', 'on', 'off', 'over', 'under', 'again', 'further', 'then', 'once', 'here', 'there', 'when', 'where', 'why', 'how', 'all', 'any', 'both', 'each', 'few', 'more', 'most', 'other', 'some', 'such', 'no', 'nor', 'not', 'only', 'own', 'same', 'so', 'than', 'too', 'very', 's', 't', 'can', 'will', 'just', 'don', \"don't\", 'should', \"should've\", 'now', 'd', 'll', 'm', 'o', 're', 've', 'y', 'ain', 'aren', \"aren't\", 'couldn', \"couldn't\", 'didn', \"didn't\", 'doesn', \"doesn't\", 'hadn', \"hadn't\", 'hasn', \"hasn't\", 'haven', \"haven't\", 'isn', \"isn't\", 'ma', 'mightn', \"mightn't\", 'mustn', \"mustn't\", 'needn', \"needn't\", 'shan', \"shan't\", 'shouldn', \"shouldn't\", 'wasn', \"wasn't\", 'weren', \"weren't\", 'won', \"won't\", 'wouldn', \"wouldn't\"]\n"
     ]
    }
   ],
   "source": [
    "print(stopwords.words('english')) # which is not suitable here, coz e.g. in emotion analysis, not happy is opposite from happy."
   ]
  },
  {
   "cell_type": "code",
   "execution_count": 38,
   "metadata": {},
   "outputs": [],
   "source": [
    "stopwords_byhand = []\n",
    "# since combination of words can make the sentiment totally different\n",
    "# e.g. \"wasn't happy\" is more likely to be sad, not happy.\n",
    "# e.g. \"but but but ....\" could mean frustrating emotion, because someone wants to explain sth"
   ]
  },
  {
   "cell_type": "code",
   "execution_count": 39,
   "metadata": {},
   "outputs": [],
   "source": [
    "def remove_stopwords(input_text):\n",
    "\n",
    "    words = input_text.split()\n",
    "    new_words=list()\n",
    "    for word in words:\n",
    "        if word in stopwords_byhand:\n",
    "            continue\n",
    "        else:\n",
    "            new_words.append(word)\n",
    "    sentence = \" \".join(new_words)\n",
    "  \n",
    "    return sentence"
   ]
  },
  {
   "cell_type": "code",
   "execution_count": 45,
   "metadata": {},
   "outputs": [
    {
     "name": "stderr",
     "output_type": "stream",
     "text": [
      "100%|████████████████████████████████████████████████████████████████████████| 30160/30160 [00:00<00:00, 145362.94it/s]\n",
      "100%|████████████████████████████████████████████████████████████████████████| 30160/30160 [00:00<00:00, 148239.36it/s]\n",
      "100%|████████████████████████████████████████████████████████████████████████| 30160/30160 [00:00<00:00, 155813.76it/s]\n",
      "100%|████████████████████████████████████████████████████████████████████████| 30160/30160 [00:00<00:00, 116309.95it/s]\n"
     ]
    }
   ],
   "source": [
    "text_3_6 = fit_transform(text_3_5,\"remove_stopwords\")\n",
    "text_all_6 = fit_transform(text_all_5,\"remove_stopwords\")"
   ]
  },
  {
   "cell_type": "code",
   "execution_count": 48,
   "metadata": {},
   "outputs": [
    {
     "name": "stderr",
     "output_type": "stream",
     "text": [
      "100%|██████████████████████████████████████████████████████████████████████████| 5509/5509 [00:00<00:00, 141493.29it/s]\n",
      "100%|██████████████████████████████████████████████████████████████████████████| 5509/5509 [00:00<00:00, 149131.41it/s]\n",
      "100%|██████████████████████████████████████████████████████████████████████████| 5509/5509 [00:00<00:00, 153434.18it/s]\n",
      "100%|██████████████████████████████████████████████████████████████████████████| 5509/5509 [00:00<00:00, 122527.83it/s]\n"
     ]
    }
   ],
   "source": [
    "text_3_test_6 = fit_transform(text_3_test_5,\"remove_stopwords\")\n",
    "text_all_test_6 = fit_transform(text_all_test_5,\"remove_stopwords\")"
   ]
  },
  {
   "cell_type": "code",
   "execution_count": 49,
   "metadata": {},
   "outputs": [
    {
     "data": {
      "text/plain": [
       "5509"
      ]
     },
     "execution_count": 49,
     "metadata": {},
     "output_type": "execute_result"
    }
   ],
   "source": [
    "len(text_3_test_6[\"turn1\"])"
   ]
  },
  {
   "cell_type": "markdown",
   "metadata": {},
   "source": [
    "# 4. Preprocessing: Correction of Incorrect Spell and Stemming\n",
    " - e.g. \"nt\" is actually \"not\", \"noo\" is actually \"no\"\n",
    " - in order to do so, here i use library called pyspellchecker"
   ]
  },
  {
   "cell_type": "code",
   "execution_count": 50,
   "metadata": {},
   "outputs": [],
   "source": [
    "from spellchecker import SpellChecker\n",
    "from nltk.stem.porter import PorterStemmer\n",
    "spell = SpellChecker()\n",
    "ps = PorterStemmer()\n",
    "def correction_stemming(input_text):\n",
    "    words = input_text.split()\n",
    "    new_words=list()\n",
    "    for word in words:\n",
    "        word = spell.correction(word)\n",
    "        word = ps.stem(word)\n",
    "        new_words.append(word)\n",
    "    sentence = \" \".join(new_words)\n",
    "    return sentence\n"
   ]
  },
  {
   "cell_type": "code",
   "execution_count": 51,
   "metadata": {},
   "outputs": [
    {
     "name": "stdout",
     "output_type": "stream",
     "text": [
      "i like play guitar\n"
     ]
    }
   ],
   "source": [
    "# test function\n",
    "example = \"i like playing guitarrr\"\n",
    "print(correction_stemming(example))"
   ]
  },
  {
   "cell_type": "code",
   "execution_count": 52,
   "metadata": {},
   "outputs": [
    {
     "name": "stderr",
     "output_type": "stream",
     "text": [
      "100%|████████████████████████████████████████████████████████████████████████████| 30160/30160 [07:21<00:00, 68.37it/s]\n",
      "100%|████████████████████████████████████████████████████████████████████████████| 30160/30160 [06:49<00:00, 73.74it/s]\n",
      "100%|████████████████████████████████████████████████████████████████████████████| 30160/30160 [08:42<00:00, 57.68it/s]\n",
      "100%|████████████████████████████████████████████████████████████████████████████| 30160/30160 [23:53<00:00, 21.04it/s]\n"
     ]
    }
   ],
   "source": [
    "text_3_7 = fit_transform(text_3_6,\"correction_stemming\")\n",
    "text_all_7 = fit_transform(text_all_6,\"correction_stemming\")"
   ]
  },
  {
   "cell_type": "code",
   "execution_count": 53,
   "metadata": {},
   "outputs": [
    {
     "name": "stderr",
     "output_type": "stream",
     "text": [
      "100%|██████████████████████████████████████████████████████████████████████████████| 5509/5509 [01:25<00:00, 64.17it/s]\n",
      "100%|██████████████████████████████████████████████████████████████████████████████| 5509/5509 [01:25<00:00, 64.69it/s]\n",
      "100%|██████████████████████████████████████████████████████████████████████████████| 5509/5509 [02:05<00:00, 44.05it/s]\n",
      "100%|██████████████████████████████████████████████████████████████████████████████| 5509/5509 [04:55<00:00, 18.63it/s]\n"
     ]
    }
   ],
   "source": [
    "text_3_test_7 = fit_transform(text_3_test_6,\"correction_stemming\")\n",
    "text_all_test_7 = fit_transform(text_all_test_6,\"correction_stemming\")"
   ]
  },
  {
   "cell_type": "markdown",
   "metadata": {},
   "source": [
    "# 4. check data format \n",
    "- for further preprocessing based on pre-trained embedding resource"
   ]
  },
  {
   "cell_type": "code",
   "execution_count": 54,
   "metadata": {},
   "outputs": [],
   "source": [
    "def distinct_words(dialogs):\n",
    "    vocab = dict()\n",
    "    for each_dialog in tqdm(dialogs):\n",
    "        words_list = each_dialog.split(sep=\" \")\n",
    "        for word in words_list:\n",
    "            if word == '':\n",
    "                continue\n",
    "            try:\n",
    "                vocab[word] +=1\n",
    "            except KeyError:\n",
    "                vocab[word] = 1\n",
    "    \n",
    "    return vocab"
   ]
  },
  {
   "cell_type": "code",
   "execution_count": 55,
   "metadata": {},
   "outputs": [
    {
     "name": "stderr",
     "output_type": "stream",
     "text": [
      "100%|████████████████████████████████████████████████████████████████████████| 30160/30160 [00:00<00:00, 187830.68it/s]"
     ]
    },
    {
     "name": "stdout",
     "output_type": "stream",
     "text": [
      "the length of distinct vocabulary of the version original is 33024\n"
     ]
    },
    {
     "name": "stderr",
     "output_type": "stream",
     "text": [
      "\n"
     ]
    }
   ],
   "source": [
    "vocab = distinct_words(text_all[\"all\"])\n",
    "print(\"the length of distinct vocabulary of {a} is {b}\".format(a=\"the version original\",b=len(vocab)))"
   ]
  },
  {
   "cell_type": "code",
   "execution_count": 56,
   "metadata": {},
   "outputs": [
    {
     "name": "stderr",
     "output_type": "stream",
     "text": [
      "100%|████████████████████████████████████████████████████████████████████████| 30160/30160 [00:00<00:00, 182171.96it/s]"
     ]
    },
    {
     "name": "stdout",
     "output_type": "stream",
     "text": [
      "the length of distinct vocabulary of the version 1 is 27889\n"
     ]
    },
    {
     "name": "stderr",
     "output_type": "stream",
     "text": [
      "\n"
     ]
    }
   ],
   "source": [
    "vocab1 = distinct_words(text_all_1[\"all\"])\n",
    "print(\"the length of distinct vocabulary of {a} is {b}\".format(a=\"the version 1\",b=len(vocab1)))"
   ]
  },
  {
   "cell_type": "code",
   "execution_count": 57,
   "metadata": {},
   "outputs": [
    {
     "name": "stderr",
     "output_type": "stream",
     "text": [
      "100%|████████████████████████████████████████████████████████████████████████| 30160/30160 [00:00<00:00, 176761.69it/s]"
     ]
    },
    {
     "name": "stdout",
     "output_type": "stream",
     "text": [
      "the number of distinct vocabulary of the version 2 of data is 15605\n"
     ]
    },
    {
     "name": "stderr",
     "output_type": "stream",
     "text": [
      "\n"
     ]
    }
   ],
   "source": [
    "vocab2 = distinct_words(text_all_2[\"all\"])\n",
    "print(\"the number of distinct vocabulary of {a} of data is {b}\".format(a=\"the version 2\",b=len(vocab2)))"
   ]
  },
  {
   "cell_type": "code",
   "execution_count": 58,
   "metadata": {},
   "outputs": [
    {
     "name": "stderr",
     "output_type": "stream",
     "text": [
      "100%|████████████████████████████████████████████████████████████████████████| 30160/30160 [00:00<00:00, 192616.93it/s]"
     ]
    },
    {
     "name": "stdout",
     "output_type": "stream",
     "text": [
      "the number of distinct vocabulary of the version 3 of data is 15601\n"
     ]
    },
    {
     "name": "stderr",
     "output_type": "stream",
     "text": [
      "\n"
     ]
    }
   ],
   "source": [
    "vocab3 = distinct_words(text_all_3[\"all\"])\n",
    "print(\"the number of distinct vocabulary of {a} of data is {b}\".format(a=\"the version 3\",b=len(vocab3)))"
   ]
  },
  {
   "cell_type": "code",
   "execution_count": 59,
   "metadata": {},
   "outputs": [
    {
     "name": "stderr",
     "output_type": "stream",
     "text": [
      "100%|████████████████████████████████████████████████████████████████████████| 30160/30160 [00:00<00:00, 241883.45it/s]"
     ]
    },
    {
     "name": "stdout",
     "output_type": "stream",
     "text": [
      "the number of distinct vocabulary of the version 4 of data is 15601\n"
     ]
    },
    {
     "name": "stderr",
     "output_type": "stream",
     "text": [
      "\n"
     ]
    }
   ],
   "source": [
    "vocab4 = distinct_words(text_all_4[\"all\"])\n",
    "print(\"the number of distinct vocabulary of {a} of data is {b}\".format(a=\"the version 4\",b=len(vocab3)))"
   ]
  },
  {
   "cell_type": "code",
   "execution_count": 60,
   "metadata": {},
   "outputs": [
    {
     "name": "stderr",
     "output_type": "stream",
     "text": [
      "100%|████████████████████████████████████████████████████████████████████████| 30160/30160 [00:00<00:00, 256278.22it/s]"
     ]
    },
    {
     "name": "stdout",
     "output_type": "stream",
     "text": [
      "the number of distinct vocabulary of the version 5 of data is 15248\n"
     ]
    },
    {
     "name": "stderr",
     "output_type": "stream",
     "text": [
      "\n"
     ]
    }
   ],
   "source": [
    "vocab5 = distinct_words(text_all_5[\"all\"])\n",
    "print(\"the number of distinct vocabulary of {a} of data is {b}\".format(a=\"the version 5\",b=len(vocab5)))"
   ]
  },
  {
   "cell_type": "code",
   "execution_count": 61,
   "metadata": {},
   "outputs": [
    {
     "name": "stderr",
     "output_type": "stream",
     "text": [
      "100%|████████████████████████████████████████████████████████████████████████| 30160/30160 [00:00<00:00, 258432.67it/s]"
     ]
    },
    {
     "name": "stdout",
     "output_type": "stream",
     "text": [
      "the number of distinct vocabulary of the version 6 of data is 15248\n"
     ]
    },
    {
     "name": "stderr",
     "output_type": "stream",
     "text": [
      "\n"
     ]
    }
   ],
   "source": [
    "vocab6 = distinct_words(text_all_6[\"all\"])\n",
    "print(\"the number of distinct vocabulary of {a} of data is {b}\".format(a=\"the version 6\",b=len(vocab6)))"
   ]
  },
  {
   "cell_type": "code",
   "execution_count": 62,
   "metadata": {},
   "outputs": [
    {
     "name": "stderr",
     "output_type": "stream",
     "text": [
      "100%|████████████████████████████████████████████████████████████████████████| 30160/30160 [00:00<00:00, 260487.34it/s]"
     ]
    },
    {
     "name": "stdout",
     "output_type": "stream",
     "text": [
      "the number of distinct vocabulary of the version 7 of data is 8399\n"
     ]
    },
    {
     "name": "stderr",
     "output_type": "stream",
     "text": [
      "\n"
     ]
    }
   ],
   "source": [
    "vocab7 = distinct_words(text_all_7[\"all\"])\n",
    "print(\"the number of distinct vocabulary of {a} of data is {b}\".format(a=\"the version 7\",b=len(vocab7)))"
   ]
  },
  {
   "cell_type": "markdown",
   "metadata": {},
   "source": [
    "# 5.TF-IDF transformation"
   ]
  },
  {
   "cell_type": "code",
   "execution_count": 63,
   "metadata": {},
   "outputs": [],
   "source": [
    "def computeTF(word,text):\n",
    "    words_list = text.split()\n",
    "    no_all = len(words_list)\n",
    "    no_word = 0\n",
    "    try:\n",
    "        words_list.remove(word)\n",
    "        no_word +=1\n",
    "    except:\n",
    "        pass\n",
    "    tf = no_word / no_all\n",
    "    return tf"
   ]
  },
  {
   "cell_type": "code",
   "execution_count": 64,
   "metadata": {},
   "outputs": [
    {
     "name": "stdout",
     "output_type": "stream",
     "text": [
      "0.14285714285714285\n"
     ]
    }
   ],
   "source": [
    "# test function\n",
    "list1=\"hhh I don't know exactly , so?\"\n",
    "print(computeTF(\"don't\",list1))"
   ]
  },
  {
   "cell_type": "code",
   "execution_count": 65,
   "metadata": {},
   "outputs": [],
   "source": [
    "def computeDenominatorIDF(text_all):\n",
    "    doc_word=dict()\n",
    "    for text in tqdm(text_all):\n",
    "        words_list = text.split(sep=\" \")\n",
    "        distinct_list = list(set(words_list)) # delete duplication\n",
    "        for word in distinct_list:\n",
    "            if word =='':\n",
    "                continue\n",
    "            try:\n",
    "                doc_word[word] +=1 # calculate how many document own such word\n",
    "            except KeyError:\n",
    "                doc_word[word] = 1\n",
    "    \n",
    "    return doc_word"
   ]
  },
  {
   "cell_type": "code",
   "execution_count": 66,
   "metadata": {},
   "outputs": [
    {
     "name": "stderr",
     "output_type": "stream",
     "text": [
      "100%|████████████████████████████████████████████████████████████████████████████████████████████| 2/2 [00:00<?, ?it/s]"
     ]
    },
    {
     "name": "stdout",
     "output_type": "stream",
     "text": [
      "{'like': 2, 'what': 1, 'you': 1, 'do': 1, 'very': 1, 'thing': 1, 'i': 1, 'little': 1}\n"
     ]
    },
    {
     "name": "stderr",
     "output_type": "stream",
     "text": [
      "\n"
     ]
    }
   ],
   "source": [
    "# test function\n",
    "list1= [\"what do you like\",\"i like very little thing\"]\n",
    "print(computeDenominatorIDF(list1))"
   ]
  },
  {
   "cell_type": "code",
   "execution_count": 67,
   "metadata": {},
   "outputs": [],
   "source": [
    "def computeIDF(text_all):\n",
    "    words_idf = dict()\n",
    "    no_doc = len(text_all)\n",
    "    doc_word = computeDenominatorIDF(text_all)\n",
    "    for word in doc_word.keys():\n",
    "        words_idf[word] = no_doc / (doc_word[word])\n",
    "    \n",
    "    columns_list = list(words_idf.keys())\n",
    "    \n",
    "    return words_idf, columns_list"
   ]
  },
  {
   "cell_type": "code",
   "execution_count": 68,
   "metadata": {},
   "outputs": [
    {
     "name": "stderr",
     "output_type": "stream",
     "text": [
      "100%|████████████████████████████████████████████████████████████████████████████████████████████| 2/2 [00:00<?, ?it/s]"
     ]
    },
    {
     "name": "stdout",
     "output_type": "stream",
     "text": [
      "({'like': 1.0, 'what': 2.0, 'you': 2.0, 'do': 2.0, 'very': 2.0, 'thing': 2.0, 'i': 2.0, 'little': 2.0}, ['like', 'what', 'you', 'do', 'very', 'thing', 'i', 'little'])\n"
     ]
    },
    {
     "name": "stderr",
     "output_type": "stream",
     "text": [
      "\n"
     ]
    }
   ],
   "source": [
    "# test function\n",
    "list1= [\"what do you like\",\"i like very little thing\"]\n",
    "print(computeIDF(list1))"
   ]
  },
  {
   "cell_type": "code",
   "execution_count": 69,
   "metadata": {},
   "outputs": [],
   "source": [
    "def computeTF_IDF(text_all,words_idf,columns_list):\n",
    "    tfidf_text_all = list()\n",
    "    for text in tqdm(text_all):\n",
    "        tfidf_text=dict()\n",
    "        words_list = text.split()\n",
    "        distinct_list = list(set(words_list))# delete duplication\n",
    "        for word in distinct_list:\n",
    "            if word =='':\n",
    "                continue\n",
    "            try:\n",
    "                idf = words_idf[word]\n",
    "                tf = computeTF(word,text)\n",
    "                tf_idf = tf * idf\n",
    "                tfidf_text[word]=tf_idf\n",
    "            except KeyError:\n",
    "                continue\n",
    "        \n",
    "        row_vector = list()\n",
    "        for word in columns_list:\n",
    "            if word in distinct_list:\n",
    "                row_vector=row_vector + [tfidf_text[word]]\n",
    "            else:\n",
    "                list_empty=[0.0]\n",
    "                row_vector=row_vector + list_empty\n",
    "        \n",
    "        tfidf_text_all.append(row_vector)\n",
    "    \n",
    "    return tfidf_text_all"
   ]
  },
  {
   "cell_type": "code",
   "execution_count": 70,
   "metadata": {},
   "outputs": [
    {
     "name": "stderr",
     "output_type": "stream",
     "text": [
      "100%|████████████████████████████████████████████████████████████████████████| 30160/30160 [00:00<00:00, 195716.84it/s]\n"
     ]
    }
   ],
   "source": [
    "# firstly, i need to use train data to calculate IDF, \n",
    "# coz test data should be granted as unseen data for now, and transfer them into tf-idf vecotrs based on train data\n",
    "words_idf, columns_list = computeIDF(text_all_7[\"all\"])"
   ]
  },
  {
   "cell_type": "code",
   "execution_count": 71,
   "metadata": {},
   "outputs": [
    {
     "data": {
      "text/plain": [
       "8399"
      ]
     },
     "execution_count": 71,
     "metadata": {},
     "output_type": "execute_result"
    }
   ],
   "source": [
    "len(columns_list)"
   ]
  },
  {
   "cell_type": "markdown",
   "metadata": {},
   "source": [
    "## 5.1.process the 3 turn dialogue"
   ]
  },
  {
   "cell_type": "code",
   "execution_count": 72,
   "metadata": {},
   "outputs": [],
   "source": [
    "# firstly get 1st turn and 3rd turn together, and get rid of 2nd turn dialogue\n",
    "def delete_2ndturn(text_3turn):\n",
    "    length = len(text_3turn[\"turn1\"])\n",
    "    new_text = list()\n",
    "    for i in range(length):\n",
    "        text1=text_3turn[\"turn1\"][i]+\" \"+text_3turn[\"turn1\"][i]\n",
    "        text2=\"\"\n",
    "        text3=text_3turn[\"turn3\"][i]+\" \"+text_3turn[\"turn3\"][i]\n",
    "        new_text.append((text1+ \" \"+ text3))\n",
    "    return new_text"
   ]
  },
  {
   "cell_type": "code",
   "execution_count": 73,
   "metadata": {},
   "outputs": [
    {
     "name": "stderr",
     "output_type": "stream",
     "text": [
      "100%|██████████████████████████████████████████████████████████████████████████| 30160/30160 [1:17:38<00:00,  6.47it/s]\n",
      "100%|██████████████████████████████████████████████████████████████████████████████| 5509/5509 [18:37<00:00,  4.93it/s]\n"
     ]
    }
   ],
   "source": [
    "text_3_final_no2 = delete_2ndturn(text_3_7)\n",
    "text_3_finaltest_no2 = delete_2ndturn(text_3_test_7)\n",
    "tfidf_text_3 = computeTF_IDF(text_3_final_no2,words_idf,columns_list)\n",
    "tfidf_text_test_3 = computeTF_IDF(text_3_finaltest_no2,words_idf,columns_list)\n",
    "# then form the dataframe based on the transfered data\n",
    "train_df_tfidf_no2 = pd.DataFrame(data=tfidf_text_3, columns = columns_list)\n",
    "test_df_tfidf_no2 = pd.DataFrame(data=tfidf_text_test_3, columns = columns_list)"
   ]
  },
  {
   "cell_type": "code",
   "execution_count": 74,
   "metadata": {},
   "outputs": [],
   "source": [
    "# secondly get 1st turn and 3rd turn with higher importance by multiply the words with 2 times\n",
    "def double_1st3rdturn(text_3turn):\n",
    "    length = len(text_3turn[\"turn1\"])\n",
    "    new_text = list()\n",
    "    for i in range(length):\n",
    "        text1=text_3turn[\"turn1\"][i]+\" \"+text_3turn[\"turn1\"][i]\n",
    "        text2=text_3turn[\"turn2\"][i]\n",
    "        text3=text_3turn[\"turn3\"][i]+\" \"+text_3turn[\"turn3\"][i]\n",
    "        new_text.append((text1+\" \"+ text2+ \" \"+ text3))\n",
    "    return new_text"
   ]
  },
  {
   "cell_type": "code",
   "execution_count": 75,
   "metadata": {},
   "outputs": [
    {
     "name": "stderr",
     "output_type": "stream",
     "text": [
      "100%|██████████████████████████████████████████████████████████████████████████| 30160/30160 [1:54:58<00:00,  4.37it/s]\n",
      "100%|██████████████████████████████████████████████████████████████████████████████| 5509/5509 [09:53<00:00,  9.27it/s]\n"
     ]
    }
   ],
   "source": [
    "text_3_final_double13 = double_1st3rdturn(text_3_7)\n",
    "text_3_finaltest_double13 = double_1st3rdturn(text_3_test_7)\n",
    "tfidf_text_3 = computeTF_IDF(text_3_final_no2,words_idf,columns_list)\n",
    "tfidf_text_test_3 = computeTF_IDF(text_3_finaltest_no2,words_idf,columns_list)\n",
    "# then form the dataframe based on the transfered data\n",
    "train_df_tfidf_double13 = pd.DataFrame(data=tfidf_text_3, columns = columns_list)\n",
    "test_df_tfidf_double13 = pd.DataFrame(data=tfidf_text_test_3, columns = columns_list)"
   ]
  },
  {
   "cell_type": "code",
   "execution_count": 92,
   "metadata": {},
   "outputs": [
    {
     "data": {
      "text/html": [
       "<div>\n",
       "<style scoped>\n",
       "    .dataframe tbody tr th:only-of-type {\n",
       "        vertical-align: middle;\n",
       "    }\n",
       "\n",
       "    .dataframe tbody tr th {\n",
       "        vertical-align: top;\n",
       "    }\n",
       "\n",
       "    .dataframe thead th {\n",
       "        text-align: right;\n",
       "    }\n",
       "</style>\n",
       "<table border=\"1\" class=\"dataframe\">\n",
       "  <thead>\n",
       "    <tr style=\"text-align: right;\">\n",
       "      <th></th>\n",
       "      <th>if</th>\n",
       "      <th>what</th>\n",
       "      <th>hmm</th>\n",
       "      <th>worri</th>\n",
       "      <th>know</th>\n",
       "      <th>do</th>\n",
       "      <th>s</th>\n",
       "      <th>not</th>\n",
       "      <th>am</th>\n",
       "      <th>are</th>\n",
       "      <th>...</th>\n",
       "      <th>heheheheh</th>\n",
       "      <th>roadsid</th>\n",
       "      <th>chiranjeevi</th>\n",
       "      <th>pawankalyan</th>\n",
       "      <th>drone</th>\n",
       "      <th>salaman</th>\n",
       "      <th>conphyooj</th>\n",
       "      <th>grasshopp</th>\n",
       "      <th>freeeeeeeeeeeeee</th>\n",
       "      <th>dilut</th>\n",
       "    </tr>\n",
       "  </thead>\n",
       "  <tbody>\n",
       "    <tr>\n",
       "      <th>0</th>\n",
       "      <td>0.0</td>\n",
       "      <td>0.000000</td>\n",
       "      <td>9.70399</td>\n",
       "      <td>0.0</td>\n",
       "      <td>0.0</td>\n",
       "      <td>0.0</td>\n",
       "      <td>0.0</td>\n",
       "      <td>0.0</td>\n",
       "      <td>0.0</td>\n",
       "      <td>0.0</td>\n",
       "      <td>...</td>\n",
       "      <td>0.0</td>\n",
       "      <td>0.0</td>\n",
       "      <td>0.0</td>\n",
       "      <td>0.0</td>\n",
       "      <td>0.0</td>\n",
       "      <td>0.0</td>\n",
       "      <td>0.0</td>\n",
       "      <td>0.0</td>\n",
       "      <td>0.0</td>\n",
       "      <td>0.0</td>\n",
       "    </tr>\n",
       "    <tr>\n",
       "      <th>1</th>\n",
       "      <td>0.0</td>\n",
       "      <td>0.600414</td>\n",
       "      <td>0.00000</td>\n",
       "      <td>0.0</td>\n",
       "      <td>0.0</td>\n",
       "      <td>0.0</td>\n",
       "      <td>0.0</td>\n",
       "      <td>0.0</td>\n",
       "      <td>0.0</td>\n",
       "      <td>0.0</td>\n",
       "      <td>...</td>\n",
       "      <td>0.0</td>\n",
       "      <td>0.0</td>\n",
       "      <td>0.0</td>\n",
       "      <td>0.0</td>\n",
       "      <td>0.0</td>\n",
       "      <td>0.0</td>\n",
       "      <td>0.0</td>\n",
       "      <td>0.0</td>\n",
       "      <td>0.0</td>\n",
       "      <td>0.0</td>\n",
       "    </tr>\n",
       "    <tr>\n",
       "      <th>2</th>\n",
       "      <td>0.0</td>\n",
       "      <td>0.000000</td>\n",
       "      <td>0.00000</td>\n",
       "      <td>0.0</td>\n",
       "      <td>0.0</td>\n",
       "      <td>0.0</td>\n",
       "      <td>0.0</td>\n",
       "      <td>0.0</td>\n",
       "      <td>0.0</td>\n",
       "      <td>0.0</td>\n",
       "      <td>...</td>\n",
       "      <td>0.0</td>\n",
       "      <td>0.0</td>\n",
       "      <td>0.0</td>\n",
       "      <td>0.0</td>\n",
       "      <td>0.0</td>\n",
       "      <td>0.0</td>\n",
       "      <td>0.0</td>\n",
       "      <td>0.0</td>\n",
       "      <td>0.0</td>\n",
       "      <td>0.0</td>\n",
       "    </tr>\n",
       "    <tr>\n",
       "      <th>3</th>\n",
       "      <td>0.0</td>\n",
       "      <td>0.480331</td>\n",
       "      <td>0.00000</td>\n",
       "      <td>0.0</td>\n",
       "      <td>0.0</td>\n",
       "      <td>0.0</td>\n",
       "      <td>0.0</td>\n",
       "      <td>0.0</td>\n",
       "      <td>0.0</td>\n",
       "      <td>0.0</td>\n",
       "      <td>...</td>\n",
       "      <td>0.0</td>\n",
       "      <td>0.0</td>\n",
       "      <td>0.0</td>\n",
       "      <td>0.0</td>\n",
       "      <td>0.0</td>\n",
       "      <td>0.0</td>\n",
       "      <td>0.0</td>\n",
       "      <td>0.0</td>\n",
       "      <td>0.0</td>\n",
       "      <td>0.0</td>\n",
       "    </tr>\n",
       "    <tr>\n",
       "      <th>4</th>\n",
       "      <td>0.0</td>\n",
       "      <td>0.400276</td>\n",
       "      <td>0.00000</td>\n",
       "      <td>0.0</td>\n",
       "      <td>0.0</td>\n",
       "      <td>0.0</td>\n",
       "      <td>0.0</td>\n",
       "      <td>0.0</td>\n",
       "      <td>0.0</td>\n",
       "      <td>0.0</td>\n",
       "      <td>...</td>\n",
       "      <td>0.0</td>\n",
       "      <td>0.0</td>\n",
       "      <td>0.0</td>\n",
       "      <td>0.0</td>\n",
       "      <td>0.0</td>\n",
       "      <td>0.0</td>\n",
       "      <td>0.0</td>\n",
       "      <td>0.0</td>\n",
       "      <td>0.0</td>\n",
       "      <td>0.0</td>\n",
       "    </tr>\n",
       "  </tbody>\n",
       "</table>\n",
       "<p>5 rows × 8399 columns</p>\n",
       "</div>"
      ],
      "text/plain": [
       "    if      what      hmm  worri  know   do    s  not   am  are  ...  \\\n",
       "0  0.0  0.000000  9.70399    0.0   0.0  0.0  0.0  0.0  0.0  0.0  ...   \n",
       "1  0.0  0.600414  0.00000    0.0   0.0  0.0  0.0  0.0  0.0  0.0  ...   \n",
       "2  0.0  0.000000  0.00000    0.0   0.0  0.0  0.0  0.0  0.0  0.0  ...   \n",
       "3  0.0  0.480331  0.00000    0.0   0.0  0.0  0.0  0.0  0.0  0.0  ...   \n",
       "4  0.0  0.400276  0.00000    0.0   0.0  0.0  0.0  0.0  0.0  0.0  ...   \n",
       "\n",
       "   heheheheh  roadsid  chiranjeevi  pawankalyan  drone  salaman  conphyooj  \\\n",
       "0        0.0      0.0          0.0          0.0    0.0      0.0        0.0   \n",
       "1        0.0      0.0          0.0          0.0    0.0      0.0        0.0   \n",
       "2        0.0      0.0          0.0          0.0    0.0      0.0        0.0   \n",
       "3        0.0      0.0          0.0          0.0    0.0      0.0        0.0   \n",
       "4        0.0      0.0          0.0          0.0    0.0      0.0        0.0   \n",
       "\n",
       "   grasshopp  freeeeeeeeeeeeee  dilut  \n",
       "0        0.0               0.0    0.0  \n",
       "1        0.0               0.0    0.0  \n",
       "2        0.0               0.0    0.0  \n",
       "3        0.0               0.0    0.0  \n",
       "4        0.0               0.0    0.0  \n",
       "\n",
       "[5 rows x 8399 columns]"
      ]
     },
     "execution_count": 92,
     "metadata": {},
     "output_type": "execute_result"
    }
   ],
   "source": [
    "test_df_tfidf_double13.head()"
   ]
  },
  {
   "cell_type": "code",
   "execution_count": 76,
   "metadata": {},
   "outputs": [],
   "source": [
    "# thirdly give 1st turn higher importance by multiplied by 2 and give 3td turn highest importance by multiply the words by 3\n",
    "def times3_3rdturn(text_3turn):\n",
    "    length = len(text_3turn[\"turn1\"])\n",
    "    new_text = list()\n",
    "    for i in range(length):\n",
    "        text1=text_3turn[\"turn1\"][i]+\" \"+text_3turn[\"turn1\"][i]\n",
    "        text2=text_3turn[\"turn2\"][i]\n",
    "        text3=text_3turn[\"turn3\"][i]+\" \"+text_3turn[\"turn3\"][i]+\" \"+text_3turn[\"turn3\"][i]\n",
    "        new_text.append((text1+\" \"+ text2+ \" \"+ text3))\n",
    "    return new_text"
   ]
  },
  {
   "cell_type": "code",
   "execution_count": 77,
   "metadata": {},
   "outputs": [
    {
     "name": "stderr",
     "output_type": "stream",
     "text": [
      "100%|██████████████████████████████████████████████████████████████████████████| 30160/30160 [1:00:37<00:00,  8.29it/s]\n",
      "100%|██████████████████████████████████████████████████████████████████████████████| 5509/5509 [10:17<00:00,  8.92it/s]\n"
     ]
    }
   ],
   "source": [
    "text_3_final_time3 = times3_3rdturn(text_3_7)\n",
    "text_3_finaltest_time3 = times3_3rdturn(text_3_test_7)\n",
    "tfidf_text_3 = computeTF_IDF(text_3_final_no2,words_idf,columns_list)\n",
    "tfidf_text_test_3 = computeTF_IDF(text_3_finaltest_no2,words_idf,columns_list)\n",
    "# then form the dataframe based on the transfered data\n",
    "train_df_tfidf_time3 = pd.DataFrame(data=tfidf_text_3, columns = columns_list)\n",
    "test_df_tfidf_time3 = pd.DataFrame(data=tfidf_text_test_3, columns = columns_list)"
   ]
  },
  {
   "cell_type": "code",
   "execution_count": 89,
   "metadata": {},
   "outputs": [],
   "source": [
    "# thirdly give 1st turn higher importance by multiplied by 2 and give 3td turn highest importance by multiply the words by 3\n",
    "def delete2nd_bigger3(text_3turn):\n",
    "    length = len(text_3turn[\"turn1\"])\n",
    "    new_text = list()\n",
    "    for i in range(length):\n",
    "        text1=text_3turn[\"turn1\"][i]\n",
    "        text2=text_3turn[\"turn2\"][i]\n",
    "        text3=text_3turn[\"turn3\"][i]+\" \"+text_3turn[\"turn3\"][i]\n",
    "        new_text.append((text1+ \" \"+ text3))\n",
    "    return new_text"
   ]
  },
  {
   "cell_type": "code",
   "execution_count": 90,
   "metadata": {},
   "outputs": [
    {
     "name": "stderr",
     "output_type": "stream",
     "text": [
      "100%|██████████████████████████████████████████████████████████████████████████| 30160/30160 [1:14:18<00:00,  6.77it/s]\n",
      "100%|██████████████████████████████████████████████████████████████████████████████| 5509/5509 [11:40<00:00,  7.87it/s]\n"
     ]
    }
   ],
   "source": [
    "text_3_final_del2big3 = delete2nd_bigger3(text_3_7)\n",
    "text_3_finaltest_del2big3 = delete2nd_bigger3(text_3_test_7)\n",
    "tfidf_text_3 = computeTF_IDF(text_3_final_no2,words_idf,columns_list)\n",
    "tfidf_text_test_3 = computeTF_IDF(text_3_finaltest_no2,words_idf,columns_list)\n",
    "# then form the dataframe based on the transfered data\n",
    "train_df_tfidf_del2big3 = pd.DataFrame(data=tfidf_text_3, columns = columns_list)\n",
    "test_df_tfidf_del2big3 = pd.DataFrame(data=tfidf_text_test_3, columns = columns_list)"
   ]
  },
  {
   "cell_type": "markdown",
   "metadata": {},
   "source": [
    "## 5.2. process the overall dialogue"
   ]
  },
  {
   "cell_type": "code",
   "execution_count": 78,
   "metadata": {
    "scrolled": true
   },
   "outputs": [
    {
     "name": "stderr",
     "output_type": "stream",
     "text": [
      "100%|██████████████████████████████████████████████████████████████████████████| 30160/30160 [1:00:24<00:00,  8.32it/s]\n"
     ]
    }
   ],
   "source": [
    "# train data transformation\n",
    "tfidf_text_all = computeTF_IDF(text_all_7[\"all\"],words_idf,columns_list)"
   ]
  },
  {
   "cell_type": "code",
   "execution_count": 79,
   "metadata": {},
   "outputs": [
    {
     "name": "stderr",
     "output_type": "stream",
     "text": [
      "100%|██████████████████████████████████████████████████████████████████████████████| 5509/5509 [10:55<00:00,  8.40it/s]\n"
     ]
    }
   ],
   "source": [
    "# test data transformation\n",
    "tfidf_text_test_all = computeTF_IDF(text_all_test_7[\"all\"],words_idf,columns_list)"
   ]
  },
  {
   "cell_type": "code",
   "execution_count": 80,
   "metadata": {},
   "outputs": [],
   "source": [
    "# then form the dataframe based on the transfered data\n",
    "train_df_tfidf = pd.DataFrame(data=tfidf_text_all, columns = columns_list)"
   ]
  },
  {
   "cell_type": "code",
   "execution_count": 81,
   "metadata": {},
   "outputs": [
    {
     "data": {
      "text/html": [
       "<div>\n",
       "<style scoped>\n",
       "    .dataframe tbody tr th:only-of-type {\n",
       "        vertical-align: middle;\n",
       "    }\n",
       "\n",
       "    .dataframe tbody tr th {\n",
       "        vertical-align: top;\n",
       "    }\n",
       "\n",
       "    .dataframe thead th {\n",
       "        text-align: right;\n",
       "    }\n",
       "</style>\n",
       "<table border=\"1\" class=\"dataframe\">\n",
       "  <thead>\n",
       "    <tr style=\"text-align: right;\">\n",
       "      <th></th>\n",
       "      <th>if</th>\n",
       "      <th>what</th>\n",
       "      <th>hmm</th>\n",
       "      <th>worri</th>\n",
       "      <th>know</th>\n",
       "      <th>do</th>\n",
       "      <th>s</th>\n",
       "      <th>not</th>\n",
       "      <th>am</th>\n",
       "      <th>are</th>\n",
       "      <th>...</th>\n",
       "      <th>heheheheh</th>\n",
       "      <th>roadsid</th>\n",
       "      <th>chiranjeevi</th>\n",
       "      <th>pawankalyan</th>\n",
       "      <th>drone</th>\n",
       "      <th>salaman</th>\n",
       "      <th>conphyooj</th>\n",
       "      <th>grasshopp</th>\n",
       "      <th>freeeeeeeeeeeeee</th>\n",
       "      <th>dilut</th>\n",
       "    </tr>\n",
       "  </thead>\n",
       "  <tbody>\n",
       "    <tr>\n",
       "      <th>0</th>\n",
       "      <td>1.811411</td>\n",
       "      <td>0.266851</td>\n",
       "      <td>6.469326</td>\n",
       "      <td>13.622403</td>\n",
       "      <td>0.66649</td>\n",
       "      <td>0.289638</td>\n",
       "      <td>0.563212</td>\n",
       "      <td>0.213284</td>\n",
       "      <td>0.295565</td>\n",
       "      <td>0.31208</td>\n",
       "      <td>...</td>\n",
       "      <td>0.0</td>\n",
       "      <td>0.0</td>\n",
       "      <td>0.0</td>\n",
       "      <td>0.0</td>\n",
       "      <td>0.0</td>\n",
       "      <td>0.0</td>\n",
       "      <td>0.0</td>\n",
       "      <td>0.0</td>\n",
       "      <td>0.0</td>\n",
       "      <td>0.0</td>\n",
       "    </tr>\n",
       "    <tr>\n",
       "      <th>1</th>\n",
       "      <td>0.000000</td>\n",
       "      <td>0.000000</td>\n",
       "      <td>0.000000</td>\n",
       "      <td>0.000000</td>\n",
       "      <td>0.00000</td>\n",
       "      <td>0.000000</td>\n",
       "      <td>0.000000</td>\n",
       "      <td>0.000000</td>\n",
       "      <td>0.000000</td>\n",
       "      <td>0.00000</td>\n",
       "      <td>...</td>\n",
       "      <td>0.0</td>\n",
       "      <td>0.0</td>\n",
       "      <td>0.0</td>\n",
       "      <td>0.0</td>\n",
       "      <td>0.0</td>\n",
       "      <td>0.0</td>\n",
       "      <td>0.0</td>\n",
       "      <td>0.0</td>\n",
       "      <td>0.0</td>\n",
       "      <td>0.0</td>\n",
       "    </tr>\n",
       "    <tr>\n",
       "      <th>2</th>\n",
       "      <td>0.000000</td>\n",
       "      <td>0.000000</td>\n",
       "      <td>0.000000</td>\n",
       "      <td>0.000000</td>\n",
       "      <td>0.00000</td>\n",
       "      <td>0.000000</td>\n",
       "      <td>0.000000</td>\n",
       "      <td>0.000000</td>\n",
       "      <td>0.000000</td>\n",
       "      <td>0.00000</td>\n",
       "      <td>...</td>\n",
       "      <td>0.0</td>\n",
       "      <td>0.0</td>\n",
       "      <td>0.0</td>\n",
       "      <td>0.0</td>\n",
       "      <td>0.0</td>\n",
       "      <td>0.0</td>\n",
       "      <td>0.0</td>\n",
       "      <td>0.0</td>\n",
       "      <td>0.0</td>\n",
       "      <td>0.0</td>\n",
       "    </tr>\n",
       "    <tr>\n",
       "      <th>3</th>\n",
       "      <td>0.000000</td>\n",
       "      <td>0.000000</td>\n",
       "      <td>0.000000</td>\n",
       "      <td>0.000000</td>\n",
       "      <td>0.00000</td>\n",
       "      <td>0.000000</td>\n",
       "      <td>0.000000</td>\n",
       "      <td>0.000000</td>\n",
       "      <td>0.332510</td>\n",
       "      <td>0.00000</td>\n",
       "      <td>...</td>\n",
       "      <td>0.0</td>\n",
       "      <td>0.0</td>\n",
       "      <td>0.0</td>\n",
       "      <td>0.0</td>\n",
       "      <td>0.0</td>\n",
       "      <td>0.0</td>\n",
       "      <td>0.0</td>\n",
       "      <td>0.0</td>\n",
       "      <td>0.0</td>\n",
       "      <td>0.0</td>\n",
       "    </tr>\n",
       "    <tr>\n",
       "      <th>4</th>\n",
       "      <td>0.000000</td>\n",
       "      <td>0.000000</td>\n",
       "      <td>0.000000</td>\n",
       "      <td>0.000000</td>\n",
       "      <td>0.00000</td>\n",
       "      <td>0.434457</td>\n",
       "      <td>0.000000</td>\n",
       "      <td>0.000000</td>\n",
       "      <td>0.000000</td>\n",
       "      <td>0.00000</td>\n",
       "      <td>...</td>\n",
       "      <td>0.0</td>\n",
       "      <td>0.0</td>\n",
       "      <td>0.0</td>\n",
       "      <td>0.0</td>\n",
       "      <td>0.0</td>\n",
       "      <td>0.0</td>\n",
       "      <td>0.0</td>\n",
       "      <td>0.0</td>\n",
       "      <td>0.0</td>\n",
       "      <td>0.0</td>\n",
       "    </tr>\n",
       "  </tbody>\n",
       "</table>\n",
       "<p>5 rows × 8399 columns</p>\n",
       "</div>"
      ],
      "text/plain": [
       "         if      what       hmm      worri     know        do         s  \\\n",
       "0  1.811411  0.266851  6.469326  13.622403  0.66649  0.289638  0.563212   \n",
       "1  0.000000  0.000000  0.000000   0.000000  0.00000  0.000000  0.000000   \n",
       "2  0.000000  0.000000  0.000000   0.000000  0.00000  0.000000  0.000000   \n",
       "3  0.000000  0.000000  0.000000   0.000000  0.00000  0.000000  0.000000   \n",
       "4  0.000000  0.000000  0.000000   0.000000  0.00000  0.434457  0.000000   \n",
       "\n",
       "        not        am      are  ...  heheheheh  roadsid  chiranjeevi  \\\n",
       "0  0.213284  0.295565  0.31208  ...        0.0      0.0          0.0   \n",
       "1  0.000000  0.000000  0.00000  ...        0.0      0.0          0.0   \n",
       "2  0.000000  0.000000  0.00000  ...        0.0      0.0          0.0   \n",
       "3  0.000000  0.332510  0.00000  ...        0.0      0.0          0.0   \n",
       "4  0.000000  0.000000  0.00000  ...        0.0      0.0          0.0   \n",
       "\n",
       "   pawankalyan  drone  salaman  conphyooj  grasshopp  freeeeeeeeeeeeee  dilut  \n",
       "0          0.0    0.0      0.0        0.0        0.0               0.0    0.0  \n",
       "1          0.0    0.0      0.0        0.0        0.0               0.0    0.0  \n",
       "2          0.0    0.0      0.0        0.0        0.0               0.0    0.0  \n",
       "3          0.0    0.0      0.0        0.0        0.0               0.0    0.0  \n",
       "4          0.0    0.0      0.0        0.0        0.0               0.0    0.0  \n",
       "\n",
       "[5 rows x 8399 columns]"
      ]
     },
     "execution_count": 81,
     "metadata": {},
     "output_type": "execute_result"
    }
   ],
   "source": [
    "train_df_tfidf.head()"
   ]
  },
  {
   "cell_type": "code",
   "execution_count": 82,
   "metadata": {},
   "outputs": [],
   "source": [
    "# test data\n",
    "test_df_tfidf = pd.DataFrame(data=tfidf_text_test_all, columns = columns_list)"
   ]
  },
  {
   "cell_type": "code",
   "execution_count": 83,
   "metadata": {
    "scrolled": true
   },
   "outputs": [
    {
     "data": {
      "text/html": [
       "<div>\n",
       "<style scoped>\n",
       "    .dataframe tbody tr th:only-of-type {\n",
       "        vertical-align: middle;\n",
       "    }\n",
       "\n",
       "    .dataframe tbody tr th {\n",
       "        vertical-align: top;\n",
       "    }\n",
       "\n",
       "    .dataframe thead th {\n",
       "        text-align: right;\n",
       "    }\n",
       "</style>\n",
       "<table border=\"1\" class=\"dataframe\">\n",
       "  <thead>\n",
       "    <tr style=\"text-align: right;\">\n",
       "      <th></th>\n",
       "      <th>if</th>\n",
       "      <th>what</th>\n",
       "      <th>hmm</th>\n",
       "      <th>worri</th>\n",
       "      <th>know</th>\n",
       "      <th>do</th>\n",
       "      <th>s</th>\n",
       "      <th>not</th>\n",
       "      <th>am</th>\n",
       "      <th>are</th>\n",
       "      <th>...</th>\n",
       "      <th>heheheheh</th>\n",
       "      <th>roadsid</th>\n",
       "      <th>chiranjeevi</th>\n",
       "      <th>pawankalyan</th>\n",
       "      <th>drone</th>\n",
       "      <th>salaman</th>\n",
       "      <th>conphyooj</th>\n",
       "      <th>grasshopp</th>\n",
       "      <th>freeeeeeeeeeeeee</th>\n",
       "      <th>dilut</th>\n",
       "    </tr>\n",
       "  </thead>\n",
       "  <tbody>\n",
       "    <tr>\n",
       "      <th>0</th>\n",
       "      <td>0.0</td>\n",
       "      <td>0.436665</td>\n",
       "      <td>10.586171</td>\n",
       "      <td>0.0</td>\n",
       "      <td>0.0</td>\n",
       "      <td>0.0</td>\n",
       "      <td>0.0</td>\n",
       "      <td>0.0</td>\n",
       "      <td>0.0</td>\n",
       "      <td>0.0</td>\n",
       "      <td>...</td>\n",
       "      <td>0.0</td>\n",
       "      <td>0.0</td>\n",
       "      <td>0.0</td>\n",
       "      <td>0.0</td>\n",
       "      <td>0.0</td>\n",
       "      <td>0.0</td>\n",
       "      <td>0.0</td>\n",
       "      <td>0.0</td>\n",
       "      <td>0.0</td>\n",
       "      <td>0.0</td>\n",
       "    </tr>\n",
       "    <tr>\n",
       "      <th>1</th>\n",
       "      <td>0.0</td>\n",
       "      <td>0.686188</td>\n",
       "      <td>0.000000</td>\n",
       "      <td>0.0</td>\n",
       "      <td>0.0</td>\n",
       "      <td>0.0</td>\n",
       "      <td>0.0</td>\n",
       "      <td>0.0</td>\n",
       "      <td>0.0</td>\n",
       "      <td>0.0</td>\n",
       "      <td>...</td>\n",
       "      <td>0.0</td>\n",
       "      <td>0.0</td>\n",
       "      <td>0.0</td>\n",
       "      <td>0.0</td>\n",
       "      <td>0.0</td>\n",
       "      <td>0.0</td>\n",
       "      <td>0.0</td>\n",
       "      <td>0.0</td>\n",
       "      <td>0.0</td>\n",
       "      <td>0.0</td>\n",
       "    </tr>\n",
       "    <tr>\n",
       "      <th>2</th>\n",
       "      <td>0.0</td>\n",
       "      <td>0.000000</td>\n",
       "      <td>0.000000</td>\n",
       "      <td>0.0</td>\n",
       "      <td>0.0</td>\n",
       "      <td>0.0</td>\n",
       "      <td>0.0</td>\n",
       "      <td>0.0</td>\n",
       "      <td>0.0</td>\n",
       "      <td>0.0</td>\n",
       "      <td>...</td>\n",
       "      <td>0.0</td>\n",
       "      <td>0.0</td>\n",
       "      <td>0.0</td>\n",
       "      <td>0.0</td>\n",
       "      <td>0.0</td>\n",
       "      <td>0.0</td>\n",
       "      <td>0.0</td>\n",
       "      <td>0.0</td>\n",
       "      <td>0.0</td>\n",
       "      <td>0.0</td>\n",
       "    </tr>\n",
       "    <tr>\n",
       "      <th>3</th>\n",
       "      <td>0.0</td>\n",
       "      <td>0.686188</td>\n",
       "      <td>0.000000</td>\n",
       "      <td>0.0</td>\n",
       "      <td>0.0</td>\n",
       "      <td>0.0</td>\n",
       "      <td>0.0</td>\n",
       "      <td>0.0</td>\n",
       "      <td>0.0</td>\n",
       "      <td>0.0</td>\n",
       "      <td>...</td>\n",
       "      <td>0.0</td>\n",
       "      <td>0.0</td>\n",
       "      <td>0.0</td>\n",
       "      <td>0.0</td>\n",
       "      <td>0.0</td>\n",
       "      <td>0.0</td>\n",
       "      <td>0.0</td>\n",
       "      <td>0.0</td>\n",
       "      <td>0.0</td>\n",
       "      <td>0.0</td>\n",
       "    </tr>\n",
       "    <tr>\n",
       "      <th>4</th>\n",
       "      <td>0.0</td>\n",
       "      <td>0.480331</td>\n",
       "      <td>0.000000</td>\n",
       "      <td>0.0</td>\n",
       "      <td>0.0</td>\n",
       "      <td>0.0</td>\n",
       "      <td>0.0</td>\n",
       "      <td>0.0</td>\n",
       "      <td>0.0</td>\n",
       "      <td>0.0</td>\n",
       "      <td>...</td>\n",
       "      <td>0.0</td>\n",
       "      <td>0.0</td>\n",
       "      <td>0.0</td>\n",
       "      <td>0.0</td>\n",
       "      <td>0.0</td>\n",
       "      <td>0.0</td>\n",
       "      <td>0.0</td>\n",
       "      <td>0.0</td>\n",
       "      <td>0.0</td>\n",
       "      <td>0.0</td>\n",
       "    </tr>\n",
       "  </tbody>\n",
       "</table>\n",
       "<p>5 rows × 8399 columns</p>\n",
       "</div>"
      ],
      "text/plain": [
       "    if      what        hmm  worri  know   do    s  not   am  are  ...  \\\n",
       "0  0.0  0.436665  10.586171    0.0   0.0  0.0  0.0  0.0  0.0  0.0  ...   \n",
       "1  0.0  0.686188   0.000000    0.0   0.0  0.0  0.0  0.0  0.0  0.0  ...   \n",
       "2  0.0  0.000000   0.000000    0.0   0.0  0.0  0.0  0.0  0.0  0.0  ...   \n",
       "3  0.0  0.686188   0.000000    0.0   0.0  0.0  0.0  0.0  0.0  0.0  ...   \n",
       "4  0.0  0.480331   0.000000    0.0   0.0  0.0  0.0  0.0  0.0  0.0  ...   \n",
       "\n",
       "   heheheheh  roadsid  chiranjeevi  pawankalyan  drone  salaman  conphyooj  \\\n",
       "0        0.0      0.0          0.0          0.0    0.0      0.0        0.0   \n",
       "1        0.0      0.0          0.0          0.0    0.0      0.0        0.0   \n",
       "2        0.0      0.0          0.0          0.0    0.0      0.0        0.0   \n",
       "3        0.0      0.0          0.0          0.0    0.0      0.0        0.0   \n",
       "4        0.0      0.0          0.0          0.0    0.0      0.0        0.0   \n",
       "\n",
       "   grasshopp  freeeeeeeeeeeeee  dilut  \n",
       "0        0.0               0.0    0.0  \n",
       "1        0.0               0.0    0.0  \n",
       "2        0.0               0.0    0.0  \n",
       "3        0.0               0.0    0.0  \n",
       "4        0.0               0.0    0.0  \n",
       "\n",
       "[5 rows x 8399 columns]"
      ]
     },
     "execution_count": 83,
     "metadata": {},
     "output_type": "execute_result"
    }
   ],
   "source": [
    "test_df_tfidf.head()"
   ]
  },
  {
   "cell_type": "markdown",
   "metadata": {},
   "source": [
    "# 6. data storage"
   ]
  },
  {
   "cell_type": "markdown",
   "metadata": {},
   "source": [
    "## 6.1.save the 3 turn processed data"
   ]
  },
  {
   "cell_type": "code",
   "execution_count": 84,
   "metadata": {},
   "outputs": [],
   "source": [
    "train_df_tfidf_no2.to_csv(\"DataSet\\\\train_df_tfidf_no2.csv\",sep=\",\",index=False)\n",
    "test_df_tfidf_no2.to_csv(\"DataSet\\\\test_df_tfidf_no2.csv\",sep=\",\",index=False)"
   ]
  },
  {
   "cell_type": "code",
   "execution_count": 87,
   "metadata": {},
   "outputs": [],
   "source": [
    "train_df_tfidf_double13.to_csv(\"DataSet\\\\train_df_tfidf_double3.csv\",sep=\",\",index=False)\n",
    "test_df_tfidf_double13.to_csv(\"DataSet\\\\test_df_tfidf_double3.csv\",sep=\",\",index=False)"
   ]
  },
  {
   "cell_type": "code",
   "execution_count": 88,
   "metadata": {},
   "outputs": [],
   "source": [
    "train_df_tfidf_time3.to_csv(\"DataSet\\\\train_df_tfidf_time3.csv\",sep=\",\",index=False)\n",
    "test_df_tfidf_time3.to_csv(\"DataSet\\\\test_df_tfidf_time3.csv\",sep=\",\",index=False)"
   ]
  },
  {
   "cell_type": "code",
   "execution_count": 91,
   "metadata": {},
   "outputs": [],
   "source": [
    "train_df_tfidf_del2big3.to_csv(\"DataSet\\\\train_df_tfidf_del2big3.csv\",sep=\",\",index=False)\n",
    "test_df_tfidf_del2big3.to_csv(\"DataSet\\\\test_df_tfidf_del2big3.csv\",sep=\",\",index=False)"
   ]
  },
  {
   "cell_type": "markdown",
   "metadata": {},
   "source": [
    "## 6.2. save the overall data"
   ]
  },
  {
   "cell_type": "code",
   "execution_count": null,
   "metadata": {},
   "outputs": [],
   "source": [
    "train_df_tfidf.to_csv(\"DataSet\\\\train_df_tfidf.csv\",sep=\",\",index=False)"
   ]
  },
  {
   "cell_type": "code",
   "execution_count": null,
   "metadata": {},
   "outputs": [],
   "source": [
    "test_df_tfidf.to_csv(\"DataSet\\\\test_df_tfidf.csv\",sep=\",\",index=False)"
   ]
  },
  {
   "cell_type": "code",
   "execution_count": null,
   "metadata": {},
   "outputs": [],
   "source": []
  },
  {
   "cell_type": "code",
   "execution_count": null,
   "metadata": {},
   "outputs": [],
   "source": []
  },
  {
   "cell_type": "code",
   "execution_count": null,
   "metadata": {},
   "outputs": [],
   "source": []
  }
 ],
 "metadata": {
  "kernelspec": {
   "display_name": "Python 3",
   "language": "python",
   "name": "python3"
  },
  "language_info": {
   "codemirror_mode": {
    "name": "ipython",
    "version": 3
   },
   "file_extension": ".py",
   "mimetype": "text/x-python",
   "name": "python",
   "nbconvert_exporter": "python",
   "pygments_lexer": "ipython3",
   "version": "3.8.3"
  }
 },
 "nbformat": 4,
 "nbformat_minor": 4
}
